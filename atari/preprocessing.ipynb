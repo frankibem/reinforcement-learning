{
 "cells": [
  {
   "cell_type": "markdown",
   "metadata": {},
   "source": [
    "# Preprocessing Atari Frames\n",
    "Unlike simple environments like CartPole where little or no preprocessing is needed, the Atari environments require processing due to their high dimensionality. I have chosen to use the Tennis-v0 environment here and have tailored the preprocessing steps to that environment. The concepts here can be generalized however to a one-size-fits-all model."
   ]
  },
  {
   "cell_type": "code",
   "execution_count": 1,
   "metadata": {
    "collapsed": true
   },
   "outputs": [],
   "source": [
    "import numpy as np\n",
    "import gym\n",
    "import matplotlib.pyplot as plt\n",
    "import scipy as sc\n",
    "import scipy.misc"
   ]
  },
  {
   "cell_type": "code",
   "execution_count": 2,
   "metadata": {
    "collapsed": false
   },
   "outputs": [
    {
     "name": "stderr",
     "output_type": "stream",
     "text": [
      "[2017-05-14 12:08:33,365] Making new env: Tennis-v0\n"
     ]
    },
    {
     "name": "stdout",
     "output_type": "stream",
     "text": [
      "Observation shape: (250, 160, 3)\n",
      "No. of actions: 18\n"
     ]
    }
   ],
   "source": [
    "env = gym.make('Tennis-v0')\n",
    "print(\"Observation shape: {}\".format(env.observation_space.shape))\n",
    "print(\"No. of actions: {}\".format(env.action_space.n))"
   ]
  },
  {
   "cell_type": "code",
   "execution_count": 3,
   "metadata": {
    "collapsed": true
   },
   "outputs": [],
   "source": [
    "def show(img, gray=False):\n",
    "    if gray:\n",
    "        plt.imshow(img, cmap='gray')\n",
    "    else:\n",
    "        plt.imshow(img)\n",
    "    plt.show()"
   ]
  },
  {
   "cell_type": "code",
   "execution_count": 4,
   "metadata": {
    "collapsed": false
   },
   "outputs": [
    {
     "data": {
      "image/png": "[encoded data removed]",
      "text/plain": [
       "<matplotlib.figure.Figure at 0x7f515c8f5358>"
      ]
     },
     "metadata": {},
     "output_type": "display_data"
    }
   ],
   "source": [
    "s = env.reset()\n",
    "show(s)"
   ]
  },
  {
   "cell_type": "markdown",
   "metadata": {},
   "source": [
    "As the image above illustrates, every state is a 250 x 160 RGB image (3-channel). If we used a single one as an input to a neural network, that would be $250 * 160 * 3 = 120000$ inputs (the problem would be compounded even more when frame stacking is introduced). With a little bit of work, we can potentially bring this down to a reasonable number.\n",
    "\n",
    "The first thing that you may have noticed is that there are black bars to the top and left of the image. We could start by cropping those of. Before we do that however, also notice that in a play, the players never go beyond a certain bounding rectangle (just below the score and just above the Activision logo)."
   ]
  },
  {
   "cell_type": "code",
   "execution_count": 6,
   "metadata": {
    "collapsed": false
   },
   "outputs": [],
   "source": [
    "s = env.reset()\n",
    "done = False\n",
    "while not done:\n",
    "    env.render()\n",
    "    a = env.action_space.sample()\n",
    "    s, r, done, info = env.step(a)"
   ]
  },
  {
   "cell_type": "code",
   "execution_count": 7,
   "metadata": {
    "collapsed": false
   },
   "outputs": [
    {
     "data": {
      "image/png": "[encoded data removed]",
      "text/plain": [
       "<matplotlib.figure.Figure at 0x7f5199d78ef0>"
      ]
     },
     "metadata": {},
     "output_type": "display_data"
    },
    {
     "name": "stdout",
     "output_type": "stream",
     "text": [
      "(190, 130, 3)\n"
     ]
    }
   ],
   "source": [
    "s = env.reset()\n",
    "s = s[30:220, 15:145]\n",
    "show(s)\n",
    "print(s.shape)"
   ]
  },
  {
   "cell_type": "markdown",
   "metadata": {},
   "source": [
    "By cropping, we have reduced the state to a 190 x 130 RGB image. Approximately 62% of the original. Another commonly employed technique is to convert the image to grayscale (single channel). Although, some information will be lost, it is often minimal and leads to the most savings in terms of dimensions. I convert the image to grayscale as follows:"
   ]
  },
  {
   "cell_type": "code",
   "execution_count": 8,
   "metadata": {
    "collapsed": false
   },
   "outputs": [
    {
     "data": {
      "image/png": "[encoded data removed]",
      "text/plain": [
       "<matplotlib.figure.Figure at 0x7f5150ea2400>"
      ]
     },
     "metadata": {},
     "output_type": "display_data"
    },
    {
     "name": "stdout",
     "output_type": "stream",
     "text": [
      "(190, 130)\n"
     ]
    }
   ],
   "source": [
    "s = np.mean(s, axis=2)\n",
    "show(s, gray=True)\n",
    "print(s.shape)"
   ]
  },
  {
   "cell_type": "markdown",
   "metadata": {},
   "source": [
    "The result is a single channel image that is approximately 21% of the original. Notice that although we could have used a library like OpenCV to perform the conversion to grayscale, I simply use a mean operation here. Since this will be performed for every single state across all episodes, it will become expensive really quickly, so the simpler the better. Also notice that although both players look similar, one is slightly darker than the other (the one at the top who was originally red/orange and represents the agent) so the agent hopefully can still tell them apart (if at all that is important in learning).\n",
    "\n",
    "The final reduction step will be to scale the state down by a factor of 2 for even more reductions to obtain a 95 x 65 grayscale image. The final reduced image will then be approximately 5% of the original (a lot of savings). Below, I display the first few frames in their unprocessed form. I then display the processed frames so you can compare and see the differences."
   ]
  },
  {
   "cell_type": "code",
   "execution_count": 9,
   "metadata": {
    "collapsed": false
   },
   "outputs": [
    {
     "data": {
      "image/png": "[encoded data removed]",
      "text/plain": [
       "<matplotlib.figure.Figure at 0x7f5150e07c88>"
      ]
     },
     "metadata": {},
     "output_type": "display_data"
    },
    {
     "data": {
      "image/png": "[encoded data removed]",
      "text/plain": [
       "<matplotlib.figure.Figure at 0x7f51591352e8>"
      ]
     },
     "metadata": {},
     "output_type": "display_data"
    },
    {
     "data": {
      "image/png": "[encoded data removed]",
      "text/plain": [
       "<matplotlib.figure.Figure at 0x7f514f5bfb38>"
      ]
     },
     "metadata": {},
     "output_type": "display_data"
    },
    {
     "data": {
      "image/png": "[encoded data removed]",
      "text/plain": [
       "<matplotlib.figure.Figure at 0x7f515a8bb860>"
      ]
     },
     "metadata": {},
     "output_type": "display_data"
    },
    {
     "data": {
      "image/png": "[encoded data removed]",
      "text/plain": [
       "<matplotlib.figure.Figure at 0x7f5150ea7d68>"
      ]
     },
     "metadata": {},
     "output_type": "display_data"
    }
   ],
   "source": [
    "# Unprocessed version\n",
    "s = env.reset()\n",
    "done = False\n",
    "for i in range(5):\n",
    "    show(s)\n",
    "    a = env.action_space.sample()\n",
    "    s, r, done, info = env.step(a)"
   ]
  },
  {
   "cell_type": "code",
   "execution_count": 10,
   "metadata": {
    "collapsed": false
   },
   "outputs": [
    {
     "data": {
      "image/png": "[encoded data removed]",
      "text/plain": [
       "<matplotlib.figure.Figure at 0x7f514f54c320>"
      ]
     },
     "metadata": {},
     "output_type": "display_data"
    },
    {
     "data": {
      "image/png": "[encoded data removed]",
      "text/plain": [
       "<matplotlib.figure.Figure at 0x7f514f5b2128>"
      ]
     },
     "metadata": {},
     "output_type": "display_data"
    },
    {
     "data": {
      "image/png": "[encoded data removed]",
      "text/plain": [
       "<matplotlib.figure.Figure at 0x7f514f53ff28>"
      ]
     },
     "metadata": {},
     "output_type": "display_data"
    },
    {
     "data": {
      "image/png": "[encoded data removed]",
      "text/plain": [
       "<matplotlib.figure.Figure at 0x7f514f4294a8>"
      ]
     },
     "metadata": {},
     "output_type": "display_data"
    },
    {
     "data": {
      "image/png": "[encoded data removed]",
      "text/plain": [
       "<matplotlib.figure.Figure at 0x7f514f4e8208>"
      ]
     },
     "metadata": {},
     "output_type": "display_data"
    }
   ],
   "source": [
    "# Reduced version\n",
    "s = env.reset()\n",
    "done = False\n",
    "for i in range(5):\n",
    "    s = np.mean(s, axis=2)\n",
    "    s = s[30:220, 15:145]\n",
    "    s = sc.misc.imresize(s, (95,65))\n",
    "    show(s, gray=True)\n",
    "    a = env.action_space.sample()\n",
    "    s, r, done, info = env.step(a)"
   ]
  },
  {
   "cell_type": "markdown",
   "metadata": {},
   "source": [
    "Before we wrap this up, there's 2 other techniques we need to discuss - frame stacking and repeating actions. \n",
    "\n",
    "### Repeating Actions\n",
    "Holding down a button for what seems like a mere instant for a human actually occurs over several frames. We can extend that notion here, by repeating an action selected by the agent over several frames.\n",
    "\n",
    "### Frame Stacking\n",
    "If I gave you the last frame from the sequence above (raw or reduced) and asked you to guess the direction of the ball, chances are you would be wrong at least 50% of the time. Similarly, the agent may have a hard time figuring out the direction of the ball if given only a single frame. To solve this problem, we use a sequence of frames as the network input to allow the agent to learn to infer motion. You can visualize the process as follows:\n"
   ]
  },
  {
   "cell_type": "code",
   "execution_count": 11,
   "metadata": {
    "collapsed": true
   },
   "outputs": [],
   "source": [
    "# Reduced version\n",
    "states = []\n",
    "s = env.reset()\n",
    "done = False\n",
    "for i in range(5):\n",
    "    s = np.mean(s, axis=2)\n",
    "    s = s[30:220, 15:145]\n",
    "    s = sc.misc.imresize(s, (95,65))\n",
    "    s = s * (1. / 255)\n",
    "    states.append(s)\n",
    "    \n",
    "    a = env.action_space.sample()\n",
    "    s, r, done, info = env.step(a)"
   ]
  },
  {
   "cell_type": "code",
   "execution_count": 12,
   "metadata": {
    "collapsed": false
   },
   "outputs": [
    {
     "data": {
      "image/png": "[encoded data removed]",
      "text/plain": [
       "<matplotlib.figure.Figure at 0x7f514f3a7080>"
      ]
     },
     "metadata": {},
     "output_type": "display_data"
    }
   ],
   "source": [
    "stacked = states[2] + states[3] + states[4]\n",
    "show(stacked, gray=True)"
   ]
  },
  {
   "cell_type": "markdown",
   "metadata": {},
   "source": [
    "I've added consecutive frames to give a feel of what the stacked frames would look like. In the actual implementation, they are not added and are fed as a sequence to the network. \n",
    "\n",
    "To put all this together, I've defined a wrapper around OpenAI's gym. It performs reduction, frame stacking and action repeat:"
   ]
  },
  {
   "cell_type": "code",
   "execution_count": 13,
   "metadata": {
    "collapsed": true
   },
   "outputs": [],
   "source": [
    "class FrameStack:\n",
    "    \"\"\"\n",
    "    Fixed capacity stack-like data structure for state frames. Older frames (smaller indices) are removed\n",
    "    to make way for new frames (larger indices)\n",
    "    \"\"\"\n",
    "    def __init__(self, capacity):\n",
    "        self.capacity = capacity\n",
    "        self.frames = []\n",
    "        \n",
    "    def clear(self):\n",
    "        self.frames = []\n",
    "        \n",
    "    def push(self, frame):\n",
    "        if len(self.frames) == 0:\n",
    "            # If first, copy over all slots\n",
    "            for i in range(self.capacity):\n",
    "                self.frames.append(frame)\n",
    "        else:\n",
    "            # Remove older frame and add new frame\n",
    "            self.frames.pop(0)\n",
    "            self.frames.append(frame)\n",
    "            \n",
    "    def get(self):\n",
    "        if len(self.frames) != self.capacity:\n",
    "            raise BufferError(\"Not enough frames in stack\")\n",
    "        return np.array(self.frames)"
   ]
  },
  {
   "cell_type": "code",
   "execution_count": 14,
   "metadata": {
    "collapsed": false
   },
   "outputs": [],
   "source": [
    "class GymWrapper:\n",
    "    def __init__(self, env, action_repeat=1, stack_length=4):\n",
    "        \"\"\"\n",
    "        Creates a new wrapper around the OpenAI environment\n",
    "        :param env: The OpenAI environment to wrap around\n",
    "        :param action_repeat: The number of frames to apply each selected action for\n",
    "        :param stack_length: The number of frames to stack as a single observation for the network input\n",
    "        \"\"\"\n",
    "        self.env = env\n",
    "        self.action_repeat = action_repeat\n",
    "        self.stack_length = stack_length\n",
    "        self.action_count = self.env.action_space.n\n",
    "        \n",
    "        self.shape = (95, 65)\n",
    "        self.frame_stack = FrameStack(stack_length)\n",
    "\n",
    "    def reset(self):\n",
    "        \"\"\"\n",
    "        Resets the environment\n",
    "        :return: preprocessed first state of next game\n",
    "        \"\"\"\n",
    "        self.frame_stack.clear()\n",
    "        state = self.preprocess(self.env.reset())\n",
    "        self.frame_stack.push(state)\n",
    "        return self.frame_stack.get()\n",
    "    \n",
    "    def preprocess(self, state):\n",
    "        # Grayscale\n",
    "        state = state.mean(axis=2)\n",
    "        # Crop\n",
    "        state = state[30:220, 15:145]\n",
    "        # Resize\n",
    "        state = sc.misc.imresize(state, self.shape)\n",
    "        # Normalize (1. / 255)\n",
    "        state = state * 0.0039215686274\n",
    "        # Required by CNTK\n",
    "        state = state.astype(np.float32)\n",
    "        \n",
    "        return state\n",
    "\n",
    "    def step(self, action):\n",
    "        \"\"\"\n",
    "        Executes action on the next 'action_repeat' frames\n",
    "        :param action: The action to execute\n",
    "        :return: (s, r, done, info): next state, reward, terminated, debugging information\n",
    "        \"\"\"\n",
    "        rewards = 0\n",
    "        for _ in range(self.action_repeat):\n",
    "            s, r, done, info = self.env.step(action)\n",
    "            self.frame_stack.push(self.preprocess(s))\n",
    "            rewards += r\n",
    "            if done:\n",
    "                break\n",
    "        return self.frame_stack.get(), rewards / 100.0, done, info\n",
    "\n",
    "    def random_action(self):\n",
    "        \"\"\"        \n",
    "        Returns a random action to execute\n",
    "        \"\"\"\n",
    "        return self.env.action_space.sample()\n",
    "\n",
    "    def render(self):\n",
    "        \"\"\"\n",
    "        Renders the current state\n",
    "        \"\"\"\n",
    "        self.env.render()\n",
    "\n",
    "    def close(self):\n",
    "        \"\"\"\n",
    "        Closes the rendering window\n",
    "        \"\"\"\n",
    "        self.env.close()"
   ]
  },
  {
   "cell_type": "code",
   "execution_count": null,
   "metadata": {
    "collapsed": true
   },
   "outputs": [],
   "source": []
  }
 ],
 "metadata": {
  "kernelspec": {
   "display_name": "Python 3",
   "language": "python",
   "name": "python3"
  },
  "language_info": {
   "codemirror_mode": {
    "name": "ipython",
    "version": 3
   },
   "file_extension": ".py",
   "mimetype": "text/x-python",
   "name": "python",
   "nbconvert_exporter": "python",
   "pygments_lexer": "ipython3",
   "version": "3.5.2"
  }
 },
 "nbformat": 4,
 "nbformat_minor": 2
}
