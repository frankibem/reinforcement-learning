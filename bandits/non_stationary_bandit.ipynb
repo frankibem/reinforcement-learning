{
 "cells": [
  {
   "cell_type": "markdown",
   "metadata": {
    "deletable": true,
    "editable": true
   },
   "source": [
    "## 2. Nonstationary Bandit\n",
    "The k-armed bandit problem in 'simple_bandit.ipynb) was stationary in that the expected reward for taking an action did not change with time (i.e. the mean and variance was fixed). In some problems, it is possible that the expected reward changes with time. Such problems are said to be nonstationary\n",
    "\n",
    "From the incremental update rule,\n",
    "\\begin{align}\n",
    "Q_{n+1} & = Q_n + \\alpha[R_n - Q_n] \\\\\n",
    "& = \\alpha R_n + (1 - \\alpha)Q_n \\\\\n",
    "& = \\alpha R_n + (1 - \\alpha)\\left[\\alpha R_{n-1} + (1-\\alpha)Q_{n-1} \\right] \\\\\n",
    "& = \\alpha R_n + (1 - \\alpha)\\alpha R_{n-1} + (1-\\alpha)^2Q_{n-1} \\\\\n",
    "& = \\alpha R_n + (1 - \\alpha)\\alpha R_{n-1} + (1-\\alpha)^2\\alpha R_{n-2} + ... + (1-\\alpha)^{n-1}\\alpha R_1 + (1-\\alpha)^n Q_1 \\\\\n",
    "& = (1-\\alpha)^n Q_1 + \\sum_{i=1}^n \\alpha(1-\\alpha)^{n-i} R_i\n",
    "\\end{align}\n",
    "\n",
    "This is called a **weighted average**. Note that the weight given to a previous reward decays exponentially as the number of intervening rewards increases. $\\alpha$ is called the step-size parameter. How do we set $\\alpha$? In some cases, it is conveneint to vary it with time. Let $\\alpha_n(a)$ denote the step-size parameter used to process the reward received after the nth selection of action a. In the sample average method, $\\alpha_n(a) = \\frac{1}{n}$. Another often used variant is the constant step-size parameter, $\\alpha_n(a) = \\alpha$.\n",
    "\n",
    "Below we investigate the effect of $\\alpha$ on the performance of an agent in a nonstationary k-armed bandit problem.\n",
    "\n",
    "#### Exercise 2.3  $^1$\n",
    "Design and conduct an experiment to demonstrate the difficulties that sample-average methods have for nonstationary problems. Use a modified version of the 10-armed testbed in which all the $q_*(a)$ start out equal and then take independent random walks. Prepare plots like Figure 2.2 for an action-value method using sample averages, incrementally computed by $\\alpha = \\frac{1}{n}$, and another action-value method using a constant step-size parameter, $\\alpha = 0.1$. Use $\\epsilon = 0.1$ and if necessary, runs longer than 1000 steps"
   ]
  },
  {
   "cell_type": "code",
   "execution_count": 1,
   "metadata": {
    "collapsed": true,
    "deletable": true,
    "editable": true
   },
   "outputs": [],
   "source": [
    "import numpy as np\n",
    "import matplotlib.pyplot as plt\n",
    "%matplotlib inline"
   ]
  },
  {
   "cell_type": "code",
   "execution_count": 2,
   "metadata": {
    "collapsed": true,
    "deletable": true,
    "editable": true
   },
   "outputs": [],
   "source": [
    "def sample_average_step_size(N, i):\n",
    "    \"\"\"\n",
    "    :param N: N[i] is the no. of times action i has been executed\n",
    "    :param i: The index of the selected action\n",
    "    \"\"\"\n",
    "    return 1.0 / N[i]\n",
    "\n",
    "def constant_step_size(N, i):\n",
    "    return 0.1"
   ]
  },
  {
   "cell_type": "code",
   "execution_count": 3,
   "metadata": {
    "collapsed": true,
    "deletable": true,
    "editable": true
   },
   "outputs": [],
   "source": [
    "def get_reward(true_values, a):\n",
    "    \"\"\"\n",
    "    Returns the reward for selecting action a.\n",
    "    Reward is selected around true_values[a] with unit variance (as in problem description)\n",
    "    :param true_values: true_values[i] is the expected reward for action i\n",
    "    :param a: index of action to return reward for\n",
    "    \"\"\"\n",
    "    reward = np.random.normal(true_values[a], size=1)[0]\n",
    "    return reward"
   ]
  },
  {
   "cell_type": "code",
   "execution_count": 4,
   "metadata": {
    "collapsed": true,
    "deletable": true,
    "editable": true
   },
   "outputs": [],
   "source": [
    "def random_walk(true_values):\n",
    "    \"\"\"\n",
    "    Updates each expected reward by random amounts to imitate a nonstationary reward\n",
    "    :param true_values: true_values[i] is the expected reward for action i\n",
    "    \"\"\"\n",
    "    true_values += np.random.uniform(-1.0, 1.0, true_values.shape)"
   ]
  },
  {
   "cell_type": "code",
   "execution_count": 5,
   "metadata": {
    "collapsed": true,
    "deletable": true,
    "editable": true
   },
   "outputs": [],
   "source": [
    "# We get rid of the sample_average() method and modify k_armed_bandit as follows:\n",
    "def k_armed_bandit(k, epsilon, iterations, step_fn):\n",
    "    \"\"\"\n",
    "    Performs a single run of the k-armed bandit experiment\n",
    "    :param k: the number of arms\n",
    "    :param epsilon: Value of epsilon for epoch-greedy action selection\n",
    "    :param iterations: number of steps in a single run\n",
    "    :param step_fn: step-size function\n",
    "    \"\"\"\n",
    "    # Equal action values at start\n",
    "    true_values = np.ones(k) * np.random.uniform(-1.0, 1.0)\n",
    "    \n",
    "    # Estimates of action values\n",
    "    Q = np.zeros(k)\n",
    "\n",
    "    # N[i] is the no. of times action i has been taken\n",
    "    N = np.zeros(k)\n",
    "    \n",
    "    # Store the rewards received for this experiment\n",
    "    rewards = []\n",
    "    \n",
    "    # Track how often the optimal action was selected\n",
    "    optimal = []\n",
    "    \n",
    "    for _ in range(iterations):\n",
    "        prob = np.random.rand(1)\n",
    "        \n",
    "        if prob > epsilon:\n",
    "            # Greedy (exploit current knowledge)\n",
    "            a = np.random.choice(np.flatnonzero(Q == Q.max()))\n",
    "        else:\n",
    "            # Explore (take random action)\n",
    "            a = np.random.randint(0, k)\n",
    "            \n",
    "        reward = get_reward(true_values, a)        \n",
    "        \n",
    "        # Update statistics for executed action\n",
    "        N[a] += 1\n",
    "        Q[a] += step_fn(N, a) * (reward - Q[a])\n",
    "        \n",
    "        rewards.append(reward)\n",
    "        optimal.append(1 if a == true_values.argmax() else 0)\n",
    "        \n",
    "        # Update the rewards after each step\n",
    "        random_walk(true_values)\n",
    "    \n",
    "    return rewards, optimal"
   ]
  },
  {
   "cell_type": "code",
   "execution_count": 6,
   "metadata": {
    "collapsed": true,
    "deletable": true,
    "editable": true
   },
   "outputs": [],
   "source": [
    "def experiment(k, epsilon, iters, epochs, step_fn):\n",
    "    \"\"\"\n",
    "    Runs the k-armed bandit experiment\n",
    "    :param k: the number of arms\n",
    "    :param epsilon: the value of epsilon for epoch-greedy action selection\n",
    "    :param iters: the number of steps in a single run\n",
    "    :param epochs: the number of runs to execute\n",
    "    :param step_fn: the step-size function\n",
    "    \"\"\"\n",
    "    rewards = []\n",
    "    optimal = []\n",
    "    \n",
    "    for i in range(epochs):\n",
    "        r, o = k_armed_bandit(k, epsilon, iters, step_fn)\n",
    "        rewards.append(r)\n",
    "        optimal.append(o)\n",
    "        \n",
    "    print('Experiment with \\u03b5 = {} completed.'.format(epsilon))\n",
    "    \n",
    "    # Compute the mean reward for each iteration\n",
    "    r_means = np.mean(rewards, axis=0)\n",
    "    o_means = np.mean(optimal, axis=0)\n",
    "    \n",
    "    return r_means, o_means"
   ]
  },
  {
   "cell_type": "code",
   "execution_count": 7,
   "metadata": {
    "collapsed": false,
    "deletable": true,
    "editable": true
   },
   "outputs": [
    {
     "name": "stdout",
     "output_type": "stream",
     "text": [
      "Experiment with ε = 0.1 completed.\n",
      "Experiment with ε = 0.1 completed.\n"
     ]
    }
   ],
   "source": [
    "k = 10\n",
    "epsilon = 0.1\n",
    "iters = 5000\n",
    "runs = 2000\n",
    "\n",
    "# Experiment with sample-average step-size and constant step-size\n",
    "r_exp1, o_exp1 = experiment(k, epsilon, iters, runs, sample_average_step_size)\n",
    "r_exp2, o_exp2 = experiment(k, epsilon, iters, runs, constant_step_size)"
   ]
  },
  {
   "cell_type": "code",
   "execution_count": 8,
   "metadata": {
    "collapsed": false,
    "deletable": true,
    "editable": true
   },
   "outputs": [
    {
     "data": {
      "image/png": "[encoded data removed]",
      "text/plain": [
       "<matplotlib.figure.Figure at 0x7f32ea5044e0>"
      ]
     },
     "metadata": {},
     "output_type": "display_data"
    }
   ],
   "source": [
    "x = range(iters)\n",
    "plt.plot(x, r_exp1, label='sample average step-size')\n",
    "plt.plot(x, r_exp2, label='constant step-size')\n",
    "plt.xlabel('Steps')\n",
    "plt.ylabel('Average reward')\n",
    "plt.legend()\n",
    "plt.show()"
   ]
  },
  {
   "cell_type": "code",
   "execution_count": 9,
   "metadata": {
    "collapsed": false,
    "deletable": true,
    "editable": true
   },
   "outputs": [
    {
     "data": {
      "image/png": "[encoded data removed]",
      "text/plain": [
       "<matplotlib.figure.Figure at 0x7f32dbc48748>"
      ]
     },
     "metadata": {},
     "output_type": "display_data"
    }
   ],
   "source": [
    "plt.plot(x, o_exp1, label='sample average step-size')\n",
    "plt.plot(x, o_exp2, label='constant step-size')\n",
    "plt.xlabel('Steps')\n",
    "plt.ylabel('% Optimal action')\n",
    "plt.legend()\n",
    "plt.show()"
   ]
  },
  {
   "cell_type": "markdown",
   "metadata": {
    "deletable": true,
    "editable": true
   },
   "source": [
    "The results show that indeed, the sample average method suffers when used in a nonstationary environment. As n increases, the update to Q[a] decreases and so our estimates suffer leading to poor results.\n",
    "\n",
    "## References\n",
    "1. Richard S. Sutton, Andrew G. Barto (1998). Reinforcement Learning: An Introduction. MIT Press."
   ]
  }
 ],
 "metadata": {
  "kernelspec": {
   "display_name": "Python 3",
   "language": "python",
   "name": "python3"
  },
  "language_info": {
   "codemirror_mode": {
    "name": "ipython",
    "version": 3
   },
   "file_extension": ".py",
   "mimetype": "text/x-python",
   "name": "python",
   "nbconvert_exporter": "python",
   "pygments_lexer": "ipython3",
   "version": "3.5.2"
  }
 },
 "nbformat": 4,
 "nbformat_minor": 2
}
