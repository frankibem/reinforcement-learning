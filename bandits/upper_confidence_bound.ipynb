{
 "cells": [
  {
   "cell_type": "markdown",
   "metadata": {},
   "source": [
    "## 3. Upper-Confidence-Bound Action Selection\n",
    "\n",
    "A problem with the epoch-greedy action selection method is that it randomly picks an action without any preference for one or the other. For instance, the random action selected might be the one with the highest value and so we don't learn about the others. You can imagine that it would be preferably to pick from the non-greedy actions. We would also like to select an action based on its potential for being optimal by taking into account how close the estimates are to being maximal and the uncertainties in those estimates. Here we use:\n",
    "\n",
    "$A_t = argmax_a \\left[Q_t(a) + c\\sqrt{\\frac{\\log t}{N_t(a)}}\\right]$\n",
    "\n",
    "log t is the natural logarithm of t\n",
    "\n",
    "$N_t(a)$ is the number of times that action a has been selected prior to time t\n",
    "\n",
    "c > 0 controls the degree of exploration. If c = 0, then the method is purely greedy.\n",
    "\n",
    "You may view the square root term as our measure of uncertainty in the estimate of a's value. If $N_t(a) = 0$ then a is considered to be a maximizing action. Whenever a is selected, our uncertainty is reduced; since $N_t(a)$ is incremented and the value of the expression decreases. Similarly, after each selection, t is incremented and if some other action is selected, $N_t(a)$ is not incremented and so the uncertainty is increased. Since we used the natural logarithm, the increase gets smaller with time - as time goes by, we will have a lower selection frequency for actions with a lower value estimate or that have been selected more times. The quantity being maxed over can be seen as an upper bound on the possible true values of action a.\n",
    "\n",
    "We now compare UCB ($c = 2$) and $\\epsilon$-greedy ($\\epsilon = 0.1$) action selection on the same 10-armed testbed."
   ]
  },
  {
   "cell_type": "code",
   "execution_count": 1,
   "metadata": {
    "collapsed": true
   },
   "outputs": [],
   "source": [
    "from math import sqrt, log\n",
    "import numpy as np\n",
    "import matplotlib.pyplot as plt\n",
    "\n",
    "%matplotlib inline"
   ]
  },
  {
   "cell_type": "code",
   "execution_count": 2,
   "metadata": {
    "collapsed": true
   },
   "outputs": [],
   "source": [
    "def epoch_greedy(Q, N):\n",
    "    \"\"\"\n",
    "    Epoch-greedy action selection\n",
    "    :param Q: the action-value estimates\n",
    "    :param N: N[i] is the number of times action i has been executed\n",
    "    \"\"\"\n",
    "    prob = np.random.rand(1)\n",
    "    \n",
    "    if prob > epsilon:\n",
    "        # Greedy (exploit current knowledge)\n",
    "        a = np.random.choice(np.flatnonzero(Q == Q.max()))\n",
    "    else:\n",
    "        # Explore (take random action)\n",
    "        a = np.random.randint(0, len(N))\n",
    "    \n",
    "    return a"
   ]
  },
  {
   "cell_type": "code",
   "execution_count": 3,
   "metadata": {
    "collapsed": true
   },
   "outputs": [],
   "source": [
    "def ucb(Q, N, c, t):\n",
    "    \"\"\"\n",
    "    Upper-confidence-bound action selection\n",
    "    :param Q: the action-value estimates\n",
    "    :param N: N[i] is the number of times action i has been executed    \n",
    "    \"\"\"\n",
    "    not_executed = np.flatnonzero(N == 0)\n",
    "    \n",
    "    if len(not_executed) > 0:\n",
    "        # Pick randomly from unselected actions\n",
    "        a = np.random.choice(not_executed)\n",
    "    else:        \n",
    "        bounds = [Q[a] + c * sqrt(log(t) / N[a]) for a in range(len(N))]\n",
    "        a = np.argmax(bounds)\n",
    "        \n",
    "    return a"
   ]
  },
  {
   "cell_type": "code",
   "execution_count": 4,
   "metadata": {
    "collapsed": true
   },
   "outputs": [],
   "source": [
    "def get_reward(true_values, a):\n",
    "    \"\"\"\n",
    "    Returns the reward for selecting action a.\n",
    "    Reward is selected around true_values[a] with unit variance (as in problem description)\n",
    "    :param true_values: list of expected reward for each action\n",
    "    :param a: index of action to return reward for\n",
    "    \"\"\"\n",
    "    reward = np.random.normal(true_values[a], size=1)[0]\n",
    "    return reward"
   ]
  },
  {
   "cell_type": "code",
   "execution_count": 5,
   "metadata": {
    "collapsed": true
   },
   "outputs": [],
   "source": [
    "def k_armed_bandit(k, epsilon, iterations, use_ucb, c):\n",
    "    \"\"\"\n",
    "    Performs a single run of the k-armed bandit experiment\n",
    "    :param k: the number of arms\n",
    "    :param epsilon: Value of epsilon for epoch-greedy action selection\n",
    "    :param iterations: number of steps in a single run\n",
    "    :param use_ucb: if true, use upper-confidence-bound action selection. Otherwise, use epoch-greedy\n",
    "    :param c: the value of constant c for ucb\n",
    "    \"\"\"\n",
    "    # Randomly assign true values of reward for each action with mean 0 and variance 1\n",
    "    true_values = np.random.normal(size=k)\n",
    "    \n",
    "    # Estimates of action values\n",
    "    Q = np.zeros(k)\n",
    "\n",
    "    # N[i] is the no. of times action i has been taken\n",
    "    N = np.zeros(k)\n",
    "    \n",
    "    # Store the rewards received for this experiment\n",
    "    rewards = []\n",
    "    \n",
    "    # Track how often the optimal action was selected\n",
    "    optimal = []\n",
    "    \n",
    "    for i in range(1, iterations + 1):\n",
    "        if use_ucb:\n",
    "            a = ucb(Q, N, c, i)\n",
    "        else:\n",
    "            a = epoch_greedy(Q, N)\n",
    "            \n",
    "        reward = get_reward(true_values, a)        \n",
    "        \n",
    "        # Update statistics for executed action\n",
    "        N[a] += 1\n",
    "        Q[a] += (1.0 / N[a]) * (reward - Q[a])\n",
    "        \n",
    "        rewards.append(reward)\n",
    "        optimal.append(1 if a == true_values.argmax() else 0)\n",
    "    \n",
    "    return rewards, optimal"
   ]
  },
  {
   "cell_type": "code",
   "execution_count": 6,
   "metadata": {
    "collapsed": true
   },
   "outputs": [],
   "source": [
    "def experiment(k, epsilon, iters, epochs, use_ucb=False, c=2):\n",
    "    \"\"\"\n",
    "    Runs the k-armed bandit experiment\n",
    "    :param k: the number of arms\n",
    "    :param epsilon: the value of epsilon for epoch-greedy action selection\n",
    "    :param iters: the number of steps in a single run\n",
    "    :param epochs: the number of runs to execute\n",
    "    :param use_ucb: if true, use upper-confidence-bound action selection. Otherwise, use epoch-greedy\n",
    "    :param c: the value of constant c for ucb\n",
    "    \"\"\"\n",
    "    rewards = []\n",
    "    optimal = []\n",
    "    \n",
    "    for i in range(epochs):\n",
    "        r, o = k_armed_bandit(k, epsilon, iters, use_ucb, c)\n",
    "        rewards.append(r)\n",
    "        optimal.append(o)\n",
    "        \n",
    "    if use_ucb:\n",
    "        print('Experiment with upper-confidence bound completed.')\n",
    "    else:\n",
    "        print('Experiment with epoch-greedy completed.')\n",
    "    \n",
    "    # Compute the mean reward for each iteration\n",
    "    r_means = np.mean(rewards, axis=0)\n",
    "    o_means = np.mean(optimal, axis=0)\n",
    "    \n",
    "    return r_means, o_means"
   ]
  },
  {
   "cell_type": "code",
   "execution_count": 7,
   "metadata": {
    "collapsed": true
   },
   "outputs": [],
   "source": [
    "k = 10\n",
    "epsilon = 0.1\n",
    "c = 2\n",
    "iters = 1000\n",
    "runs = 2000"
   ]
  },
  {
   "cell_type": "code",
   "execution_count": 8,
   "metadata": {
    "collapsed": false
   },
   "outputs": [
    {
     "name": "stdout",
     "output_type": "stream",
     "text": [
      "Experiment with epoch-greedy completed.\n"
     ]
    }
   ],
   "source": [
    "r_exp1, o_exp1 = experiment(k, epsilon, iters, runs)"
   ]
  },
  {
   "cell_type": "code",
   "execution_count": 9,
   "metadata": {
    "collapsed": false
   },
   "outputs": [
    {
     "name": "stdout",
     "output_type": "stream",
     "text": [
      "Experiment with upper-confidence bound completed.\n"
     ]
    }
   ],
   "source": [
    "r_exp2, o_exp2 = experiment(k, epsilon, iters, runs, use_ucb=True, c=c)"
   ]
  },
  {
   "cell_type": "code",
   "execution_count": 12,
   "metadata": {
    "collapsed": false
   },
   "outputs": [
    {
     "data": {
      "image/png": "[encoded data removed]",
      "text/plain": [
       "<matplotlib.figure.Figure at 0x7f1bdf667dd8>"
      ]
     },
     "metadata": {},
     "output_type": "display_data"
    }
   ],
   "source": [
    "x = range(iters)\n",
    "plt.plot(x, r_exp1, label='\\u03b5 - greedy (\\u03b5 = 0.1)')\n",
    "plt.plot(x, r_exp2, label='upper-confidence-bound (c = 2)')\n",
    "plt.xlabel('Steps')\n",
    "plt.ylabel('Average reward')\n",
    "plt.legend()\n",
    "plt.show()"
   ]
  },
  {
   "cell_type": "code",
   "execution_count": 13,
   "metadata": {
    "collapsed": false
   },
   "outputs": [
    {
     "data": {
      "image/png": "[encoded data removed]",
      "text/plain": [
       "<matplotlib.figure.Figure at 0x7f1bdf4486d8>"
      ]
     },
     "metadata": {},
     "output_type": "display_data"
    }
   ],
   "source": [
    "plt.plot(x, o_exp1, label='\\u03b5 - greedy (\\u03b5 = 0.1)')\n",
    "plt.plot(x, o_exp2, label='upper-confidence-bound (c = 2)')\n",
    "plt.xlabel('Steps')\n",
    "plt.ylabel('% Optimal action')\n",
    "plt.legend()\n",
    "plt.show()"
   ]
  },
  {
   "cell_type": "markdown",
   "metadata": {},
   "source": [
    "As the results show, UCB outperforms the epoch-greedy method. After the first 10 steps, UCB has tried all of the 10 possible actions, whereas we cannot always make such a claim about the epoch-greedy action selection method.\n",
    "\n",
    "## References\n",
    "1. Richard S. Sutton, Andrew G. Barto (1998). Reinforcement Learning: An Introduction. MIT Press."
   ]
  },
  {
   "cell_type": "code",
   "execution_count": null,
   "metadata": {
    "collapsed": true
   },
   "outputs": [],
   "source": []
  }
 ],
 "metadata": {
  "kernelspec": {
   "display_name": "Python 3",
   "language": "python",
   "name": "python3"
  },
  "language_info": {
   "codemirror_mode": {
    "name": "ipython",
    "version": 3
   },
   "file_extension": ".py",
   "mimetype": "text/x-python",
   "name": "python",
   "nbconvert_exporter": "python",
   "pygments_lexer": "ipython3",
   "version": "3.5.2"
  }
 },
 "nbformat": 4,
 "nbformat_minor": 2
}
