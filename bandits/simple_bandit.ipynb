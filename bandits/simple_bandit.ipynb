{
 "cells": [
  {
   "cell_type": "markdown",
   "metadata": {
    "deletable": true,
    "editable": true
   },
   "source": [
    "# 1. K-Armed Bandit Problem\n",
    "Bandit problems are reinforcement learning (RL) problems in which there is only a single state in which multiple actions can potentially be taken. In the k-armed bandit problem, you are repeatedly faced with a choice among k different options/actions. After selecting an action, you receive a reward chosen from a stationary probability distribution that is dependent on the selected action.\n",
    "#### Objective: Maximize the expected total reward over some time period\n",
    "\n",
    "Although the rewards for actions are chosen from a probability distribution, each action has a mean reward value. We start out with estimates of the rewards for each action, but with more selections/experience, the estimates converge to the mean. If we have a 'way' to quantify the value of taking each action (the expected reward), then to achieve the objective, we would simply always take the action with the highest value. Mathematically speaking,\n",
    "\n",
    "$Q_t(a) = E[R_t | A_t = a]$\n",
    "\n",
    "This says that the value of an arbitrary action **a** is the expected reward given that **a** is selected\n",
    "\n",
    "* If we keep estimates of the action values, then at each step, there is at least one action whose estimate is the greatest. These actions are called **greedy actions** and if selected, we are said to be **exploting** our current knowledge of the values of actions\n",
    "* If instaed we select a non-greedy action, then we are said to be **exploring** because it enables us to improve our estimates of the non-greedy action values\n",
    "\n",
    "##  Sample-Average Action-Value Estimation\n",
    "A simple method of estimating the value of an action is by averaging the rewards previosly received from taking that\n",
    "action. i.e.\n",
    "\n",
    "$$Q_t(a) = \\frac{\\text{sum of rewards when a is taken prior to t}}{\\text{number of times a has been taken prior to t}}$$\n",
    "\n",
    "The next step is then to use the estimates to select actions. The simplest rule is to select the action (or one of the actions) with the highest estimated values. This is called the **greedy action selection** method and is denoted:\n",
    "\n",
    "$A_t = argmax_a Q_t(a)$\n",
    "\n",
    "where $argmax_a$ denotes the value of a at which the expression is maximized\n",
    "* If multiple actions maximize the expression, then it is important that the tie is broken **arbitrarily**\n",
    "\n",
    "You may have guessed that being greedy all the time is probably not the best way to go - there may be an unexplored action of higher value than our current greedy choice. An alternative is to be greedy most of the time, but every once in a while, with probability $\\epsilon$, select a random action. Methods with this action selection rule are called **$\\epsilon$-greedy methods**. This means that with probability $\\epsilon$ we select a random action and with probability $1-\\epsilon$ we select a greedy action."
   ]
  },
  {
   "cell_type": "markdown",
   "metadata": {
    "deletable": true,
    "editable": true
   },
   "source": [
    "## Problem Description\n",
    "We have a k-armed bandit problem with k = 10. The actual action values, $q_*(a)$ are selected according to a normal distribution with mean 0 and variance 1. When a learning method selects action $A_t$ at time t, the actual reward $R_t$ is selected from a normal distribution with mean $q_*(A_t)$ and variance 1. We'll measure the behavior as it improves over 1000 steps. This makes up one run. We'll execute 2000 independent runs to obtain the learning algorithm's average behavior.\n",
    "\n",
    "### Environment\n",
    "* Python 3.5\n",
    "* numpy\n",
    "* matplotlib"
   ]
  },
  {
   "cell_type": "code",
   "execution_count": 1,
   "metadata": {
    "collapsed": true,
    "deletable": true,
    "editable": true
   },
   "outputs": [],
   "source": [
    "import numpy as np\n",
    "import matplotlib.pyplot as plt\n",
    "\n",
    "%matplotlib inline"
   ]
  },
  {
   "cell_type": "code",
   "execution_count": 2,
   "metadata": {
    "collapsed": true,
    "deletable": true,
    "editable": true
   },
   "outputs": [],
   "source": [
    "def sample_average(actions):\n",
    "    \"\"\"\n",
    "    Returns the action-value for each action using the sample-average method\n",
    "    :param actions: actions[0] is a tuple for each action of the form (sum of rewards received, no. of times taken)\n",
    "    \"\"\"\n",
    "    results = [0.0 if actions[i][1] == 0 else actions[i][0] / float(actions[i][1]) for i in range(len(actions))]\n",
    "    return results"
   ]
  },
  {
   "cell_type": "code",
   "execution_count": 3,
   "metadata": {
    "collapsed": true,
    "deletable": true,
    "editable": true
   },
   "outputs": [],
   "source": [
    "def get_reward(true_values, a):\n",
    "    \"\"\"\n",
    "    Returns the reward for selecting action a.\n",
    "    Reward is selected around true_values[a] with unit variance (as in problem description)\n",
    "    :param true_values: list of expected reward for each action\n",
    "    :param a: index of action to return reward for\n",
    "    \"\"\"\n",
    "    reward = np.random.normal(true_values[a], size=1)[0]\n",
    "    return reward"
   ]
  },
  {
   "cell_type": "code",
   "execution_count": 4,
   "metadata": {
    "collapsed": true,
    "deletable": true,
    "editable": true
   },
   "outputs": [],
   "source": [
    "def k_armed_bandit(k, epsilon, iterations):\n",
    "    \"\"\"\n",
    "    Performs a single run of the k-armed bandit experiment\n",
    "    :param k: the number of arms\n",
    "    :param epsilon: value of epsilon for epoch-greedy action selection\n",
    "    :param iterations: number of steps in a single run\n",
    "    \"\"\"\n",
    "    # Randomly assign true values of reward for each action with mean 0 and variance 1\n",
    "    true_values = np.random.normal(size=k)\n",
    "    \n",
    "    # actions[i] is the ith action\n",
    "    # actions[i][0] is the sum of received rewards for taking action i\n",
    "    # actions[i][1] is the number of times action i has been taken\n",
    "    actions = [[0.0, 0] for _ in range(k)]\n",
    "    \n",
    "    # Store the rewards received for this experiment\n",
    "    rewards = []\n",
    "    \n",
    "    # Track how often the optimal action was selected\n",
    "    optimal = []\n",
    "    optimal_action = true_values.argmax()\n",
    "    \n",
    "    for _ in range(iterations):\n",
    "        prob = np.random.rand(1)\n",
    "        \n",
    "        if prob > epsilon:\n",
    "            # Greedy (exploit current knowledge)\n",
    "            action_values = np.array(sample_average(actions))\n",
    "            \n",
    "            # Break ties arbitrarily (reference: http://stackoverflow.com/questions/42071597/numpy-argmax-random-tie-breaking)\n",
    "            a = np.random.choice(np.flatnonzero(action_values == action_values.max()))\n",
    "        else:\n",
    "            # Explore (take random action)\n",
    "            a = np.random.randint(0, k)\n",
    "            \n",
    "        reward = get_reward(true_values, a)        \n",
    "        \n",
    "        # Update statistics for executed action\n",
    "        actions[a][0] += reward\n",
    "        actions[a][1] += 1\n",
    "        \n",
    "        rewards.append(reward)\n",
    "        optimal.append(1 if a == optimal_action else 0)\n",
    "    \n",
    "    return rewards, optimal"
   ]
  },
  {
   "cell_type": "code",
   "execution_count": 5,
   "metadata": {
    "collapsed": true,
    "deletable": true,
    "editable": true
   },
   "outputs": [],
   "source": [
    "def experiment(k, epsilon, iters, epochs):\n",
    "    \"\"\"\n",
    "    Runs the k-armed bandit experiment\n",
    "    :param k: the number of arms\n",
    "    :param epsilon: the value of epsilon for epoch-greedy action selection\n",
    "    :param iters: the number of steps in a single run\n",
    "    :param epochs: the number of runs to execute\n",
    "    \"\"\"\n",
    "    rewards = []\n",
    "    optimal = []\n",
    "    \n",
    "    for i in range(epochs):\n",
    "        r, o = k_armed_bandit(k, epsilon, iters)\n",
    "        rewards.append(r)\n",
    "        optimal.append(o)\n",
    "        \n",
    "    print('Experiment with \\u03b5 = {} completed.'.format(epsilon))\n",
    "    \n",
    "    # Compute the mean reward for each iteration\n",
    "    r_means = np.mean(rewards, axis=0)\n",
    "    o_means = np.mean(optimal, axis=0)\n",
    "    \n",
    "    return r_means, o_means"
   ]
  },
  {
   "cell_type": "code",
   "execution_count": 6,
   "metadata": {
    "collapsed": false,
    "deletable": true,
    "editable": true
   },
   "outputs": [
    {
     "name": "stdout",
     "output_type": "stream",
     "text": [
      "Experiment with ε = 0 completed.\n",
      "Experiment with ε = 0.01 completed.\n",
      "Experiment with ε = 0.1 completed.\n"
     ]
    }
   ],
   "source": [
    "k = 10\n",
    "iters = 1000\n",
    "runs = 2000\n",
    "\n",
    "# We experiment with values 0.01, 0.1 and 0 (always greedy)\n",
    "r_exp1, o_exp1 = experiment(k, 0, iters, runs)\n",
    "r_exp2, o_exp2 = experiment(k, 0.01, iters, runs)\n",
    "r_exp3, o_exp3 = experiment(k, 0.1, iters, runs)"
   ]
  },
  {
   "cell_type": "code",
   "execution_count": 7,
   "metadata": {
    "collapsed": false,
    "deletable": true,
    "editable": true
   },
   "outputs": [
    {
     "data": {
      "image/png": "[encoded data removed]",
      "text/plain": [
       "<matplotlib.figure.Figure at 0x7f5eee753240>"
      ]
     },
     "metadata": {},
     "output_type": "display_data"
    }
   ],
   "source": [
    "x = range(iters)\n",
    "plt.plot(x, r_exp1, c='green', label='\\u03b5 = 0')\n",
    "plt.plot(x, r_exp2, c='red', label='\\u03b5 = 0.01')\n",
    "plt.plot(x, r_exp3, c='black', label='\\u03b5 = 0.1')\n",
    "plt.xlabel('Steps')\n",
    "plt.ylabel('Average reward')\n",
    "plt.legend()\n",
    "plt.show()"
   ]
  },
  {
   "cell_type": "code",
   "execution_count": 8,
   "metadata": {
    "collapsed": false,
    "deletable": true,
    "editable": true
   },
   "outputs": [
    {
     "data": {
      "image/png": "[encoded data removed]",
      "text/plain": [
       "<matplotlib.figure.Figure at 0x7f5eebacef28>"
      ]
     },
     "metadata": {},
     "output_type": "display_data"
    }
   ],
   "source": [
    "plt.plot(x, o_exp1, c='green', label='\\u03b5 = 0')\n",
    "plt.plot(x, o_exp2, c='red', label='\\u03b5 = 0.01')\n",
    "plt.plot(x, o_exp3, c='black', label='\\u03b5 = 0.1')\n",
    "plt.xlabel('Steps')\n",
    "plt.ylabel('% Optimal action')\n",
    "plt.legend()\n",
    "plt.show()"
   ]
  },
  {
   "cell_type": "markdown",
   "metadata": {
    "deletable": true,
    "editable": true
   },
   "source": [
    "From these results we can see that the greedy method ($\\epsilon$ = 0) performs the worst. This is because it simply selects the same action each time (the first one that gives a positive reward, remember, all are initialized to 0.0 so have equal liklihood initially). The other experiments involve exploration of varying degrees and so can be seen improving wiith time."
   ]
  },
  {
   "cell_type": "markdown",
   "metadata": {
    "deletable": true,
    "editable": true
   },
   "source": [
    "### Incremental Implementation\n",
    "In the code listing above, we computed the values of actions by summing rewards and then dividing by the number of times a particular action was taken. i.e.\n",
    "$Q_n = \\frac{R_1 + R_2 + ... + R_{n-1}}{n - 1}$\n",
    "\n",
    "An obvious implemtattion would be to maintain a record of all the rewards and then perform this computation when needed. This can be memory intensive and is unnecessary. We can show that that computation can be computed incrementally as:\n",
    "$Q_{n+1} = Q_n + \\frac{1}{n}[R_n - Q_n]$\n",
    "\n",
    "#### Proof\n",
    "\\begin{align}\n",
    "Q_{n+1} & = \\frac{1}{n}\\sum_{i = 1}^n R_i \\\\\n",
    "& = \\frac{1}{n}\\left(R_n + \\sum_{i=1}^{n-1} R_i\\right) \\\\\n",
    "& = \\frac{1}{n}\\left(R_n + (n-1)\\frac{1}{n-1} \\sum_{i = 1}^{n-1} R_i\\right) \\\\\n",
    "& = \\frac{1}{n}\\left(R_n + (n-1)Q_n\\right) \\\\\n",
    "& = \\frac{1}{n}\\left(R_n + nQ_n - Q_n\\right) \\\\\n",
    "& = Q_n + \\frac{1}{n} \\left(R_n - Q_n\\right)\n",
    "\\end{align}"
   ]
  },
  {
   "cell_type": "code",
   "execution_count": null,
   "metadata": {
    "collapsed": true,
    "deletable": true,
    "editable": true
   },
   "outputs": [],
   "source": [
    "# We get rid of the sample_average() method and modify k_armed_bandit as follows:\n",
    "# Lines marked ** indicate changes to the code\n",
    "def k_armed_bandit(k, epsilon, iterations):\n",
    "    \"\"\"\n",
    "    Performs a single run of the k-armed bandit experiment\n",
    "    :param k: the number of arms\n",
    "    :param epsilon: Value of epsilon for epoch-greedy action selection\n",
    "    \"\"\"\n",
    "    # Randomly assign true values of reward for each action with mean 0 and variance 1\n",
    "    true_values = np.random.normal(size=k)\n",
    "    \n",
    "    # Estimates of action values **\n",
    "    Q = np.zeros(k)\n",
    "    \n",
    "    # N[i] is the no. of times action i has been taken **\n",
    "    N = np.zeros(k)\n",
    "    \n",
    "    # Store the rewards received for this experiment\n",
    "    rewards = []\n",
    "    \n",
    "    # Track how often the optimal action was selected\n",
    "    optimal = []\n",
    "    optimal_action = true_values.argmax()\n",
    "    \n",
    "    for _ in range(iterations):\n",
    "        prob = np.random.rand(1)\n",
    "        \n",
    "        if prob > epsilon:\n",
    "            # Greedy (exploit current knowledge) **\n",
    "            a = np.random.choice(np.flatnonzero(Q == Q.max()))\n",
    "        else:\n",
    "            # Explore (take random action)\n",
    "            a = np.random.randint(0, k)\n",
    "            \n",
    "        reward = get_reward(true_values, a)        \n",
    "        \n",
    "        # Update statistics for executed action **\n",
    "        N[a] += reward\n",
    "        Q[a] += (1.0 / N[a]) * (reward - Q[a])\n",
    "        \n",
    "        rewards.append(reward)\n",
    "        optimal.append(1 if a == optimal_action else 0)\n",
    "    \n",
    "    return rewards, optimal"
   ]
  },
  {
   "cell_type": "markdown",
   "metadata": {
    "deletable": true,
    "editable": true
   },
   "source": [
    "## References\n",
    "1. Richard S. Sutton, Andrew G. Barto (1998). Reinforcement Learning: An Introduction. MIT Press."
   ]
  }
 ],
 "metadata": {
  "kernelspec": {
   "display_name": "Python 3",
   "language": "python",
   "name": "python3"
  },
  "language_info": {
   "codemirror_mode": {
    "name": "ipython",
    "version": 3
   },
   "file_extension": ".py",
   "mimetype": "text/x-python",
   "name": "python",
   "nbconvert_exporter": "python",
   "pygments_lexer": "ipython3",
   "version": "3.5.2"
  }
 },
 "nbformat": 4,
 "nbformat_minor": 2
}
