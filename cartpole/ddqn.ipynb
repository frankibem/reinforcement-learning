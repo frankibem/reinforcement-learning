{
 "cells": [
  {
   "cell_type": "markdown",
   "metadata": {
    "deletable": true,
    "editable": true
   },
   "source": [
    "## Double Deep Q-Network\n",
    "A criticism of the deep q-network (DQN) introduced previously is that it overestimates the values of actions. In DQN, the target is computed as:\n",
    "\n",
    "$$Y_t^{DQN} \\equiv R_{t+1} + \\gamma max_a Q(S_{t+1}, a; \\theta_t^-)$$\n",
    "\n",
    "Hado et al argue that the estimation is due to the max operator which is used to both select and evaluate an action. When using tabular methods with Q-learning, the same overestimation is noticed as well. To solve the problem, Double Q-learning (DQL) was introduced. In [1], the DQN was adapted to use DQL and the resulting technique was termed Double Deep Q-Network (DDQN). In DDQN, the targets are computed as follows:\n",
    "\n",
    "$$Y_t^{DDQN} \\equiv R_{t+1} + \\gamma Q(S_{t+1}, argmax_a Q(S_{t+1}, a; \\theta_t); \\theta_t^-)$$\n",
    "\n",
    "Several things have happend here. Firstly, the **online network is used to select an action** in the next state $S_{t+1}$. Secondly, the **target network is used to compute the value** of taking the selected action in that state. Take a moment to study both equations to convince yourself of the changes.\n",
    "\n",
    "A final point is that overoptimism is not always a bad thing as the DQN was still able to achieve state of the art results. The use of a DDQN also does not guarantee better results. However, reducing overoptimism can benefit the stability of learning. Below I compare the performance of DQN vs DDQN. The changes are slight and are concentrated in the train() method. Everything else is left unchanged."
   ]
  },
  {
   "cell_type": "code",
   "execution_count": 1,
   "metadata": {
    "collapsed": true,
    "deletable": true,
    "editable": true
   },
   "outputs": [],
   "source": [
    "import math\n",
    "import numpy as np\n",
    "import pandas as pd\n",
    "import matplotlib.pyplot as plt\n",
    "import gym\n",
    "import cntk\n",
    "from cntk import *\n",
    "from cntk.layers import *\n",
    "%matplotlib inline"
   ]
  },
  {
   "cell_type": "code",
   "execution_count": 2,
   "metadata": {
    "collapsed": true,
    "deletable": true,
    "editable": true
   },
   "outputs": [],
   "source": [
    "class ReplayBuffer: \n",
    "    \"\"\"\n",
    "    Fixed capacity buffer implemented as circular queue\n",
    "    Transitions are stored as (s, a, r, s', done) tuples\n",
    "    \"\"\"\n",
    "    def __init__(self, capacity):\n",
    "        self.samples = np.ndarray(capacity, dtype=object)\n",
    "        self.capacity = capacity\n",
    "        self.counter = 0\n",
    "        self.flag = False\n",
    "        \n",
    "    def size(self):\n",
    "        if self.flag:\n",
    "            return self.capacity\n",
    "        else:\n",
    "            return self.counter\n",
    "        \n",
    "    def add(self, sample):\n",
    "        self.samples[self.counter] = sample\n",
    "        \n",
    "        self.counter += 1\n",
    "        if self.counter >= self.capacity:\n",
    "            self.counter = 0\n",
    "            self.flag = True\n",
    "            \n",
    "    def sample(self, n):\n",
    "        n = min(n, self.size())\n",
    "        \n",
    "        size = self.size()\n",
    "        if size < self.capacity:\n",
    "            return np.random.choice(self.samples[:size], n, replace=False)\n",
    "        else:\n",
    "            return np.random.choice(self.samples, n, replace=False)"
   ]
  },
  {
   "cell_type": "code",
   "execution_count": 3,
   "metadata": {
    "collapsed": true,
    "deletable": true,
    "editable": true
   },
   "outputs": [],
   "source": [
    "class Agent:\n",
    "    def __init__(self, state_dim, action_dim, learning_rate):\n",
    "        self.state_dim = state_dim\n",
    "        self.action_dim = action_dim\n",
    "        self.learning_rate = learning_rate\n",
    "        self.epsilon = 1\n",
    "        \n",
    "        # Create the model and set up trainer\n",
    "        self.state_var = input(self.state_dim, np.float32)\n",
    "        self.action_var = input(self.action_dim, np.float32)\n",
    "        \n",
    "        self.online_model = Sequential([\n",
    "            Dense(64, activation=relu),\n",
    "            Dense(self.action_dim)\n",
    "        ])(self.state_var)\n",
    "\n",
    "        loss = reduce_mean(square(self.online_model - self.action_var), axis=0)\n",
    "        lr_schedule = learning_rate_schedule(self.learning_rate, UnitType.sample)\n",
    "        learner = sgd(self.online_model.parameters, lr_schedule)\n",
    "        self.trainer = Trainer(self.online_model, loss, learner)\n",
    "        \n",
    "        # Create target network and initialize with same weights\n",
    "        self.target_model = None\n",
    "        self.update_target()\n",
    "    \n",
    "    def update_target(self):\n",
    "        \"\"\"\n",
    "        Updates the target network using the online network weights\n",
    "        \"\"\"\n",
    "        self.target_model = self.online_model.clone(CloneMethod.clone)\n",
    "        \n",
    "    def update_epsilon(self, episode):\n",
    "        \"\"\"\n",
    "        Updates epsilon using exponential decay with the decay rate chosen such\n",
    "        that epsilon is 0.05 by episode 8000\n",
    "        \"\"\"\n",
    "        self.epsilon = max(math.exp(-3.74e-4 * episode), 0.05)\n",
    "        \n",
    "    def predict(self, s, target=False):\n",
    "        \"\"\"\n",
    "        Feeds a state through the model (our network) and obtains the values of each action\n",
    "        \"\"\"\n",
    "        if target:\n",
    "            return self.target_model.eval(s)\n",
    "        else:\n",
    "            return self.online_model.eval(s)\n",
    "        \n",
    "    def act(self, state):\n",
    "        \"\"\"\n",
    "        Selects an action using the epoch-greedy approach\n",
    "        \"\"\"\n",
    "        prob = np.random.randn(1)\n",
    "        if prob > self.epsilon:\n",
    "            # exploit (greedy)\n",
    "            return np.argmax(self.predict(state))\n",
    "        else:\n",
    "            # explore (random action)\n",
    "            return np.random.randint(0, self.action_dim)\n",
    "        \n",
    "    def train(self, x, y):\n",
    "        \"\"\"\n",
    "        Performs a single gradient descent step using the provided states and targets\n",
    "        \"\"\"\n",
    "        self.trainer.train_minibatch({self.state_var: x, self.action_var: y})\n",
    "        \n",
    "    def evaluate(self, env, n):\n",
    "        \"\"\"\n",
    "        Computes the average performance of the trained model over n episodes\n",
    "        \"\"\"\n",
    "        episode = 0\n",
    "        rewards = 0\n",
    "        while episode < n:\n",
    "            s = env.reset()\n",
    "            done = False\n",
    "            while not done:\n",
    "                a = np.argmax(self.predict(s.astype(np.float32)))\n",
    "                s, r, done, info = env.step(a)\n",
    "                rewards += r\n",
    "            episode += 1\n",
    "            \n",
    "        return rewards / float(n)"
   ]
  },
  {
   "cell_type": "code",
   "execution_count": 4,
   "metadata": {
    "collapsed": true,
    "deletable": true,
    "editable": true
   },
   "outputs": [],
   "source": [
    "def initialize_buffer(env, buffer):\n",
    "    \"\"\"\n",
    "    Initializes the replay buffer using experiences generated by taking random actions\n",
    "    \"\"\"\n",
    "    actions = env.action_space.n\n",
    "    s = env.reset()\n",
    "    \n",
    "    while buffer.size() < buffer.capacity:\n",
    "        a = np.random.randint(0, actions)\n",
    "        s_, r, done, info = env.step(a)\n",
    "        \n",
    "        buffer.add((s, a, r, s_, done))\n",
    "        \n",
    "        if done:\n",
    "            s = env.reset()\n",
    "        else:\n",
    "            s = s_"
   ]
  },
  {
   "cell_type": "markdown",
   "metadata": {
    "deletable": true,
    "editable": true
   },
   "source": [
    "Notice the change in how we compute the targets for DDQN here. We use the online network to get the values of actions in the next state and then select the one with the highest value. We then use the target network to compute the value of selecting that action. Slight change, but large difference."
   ]
  },
  {
   "cell_type": "code",
   "execution_count": 5,
   "metadata": {
    "collapsed": true,
    "deletable": true,
    "editable": true
   },
   "outputs": [],
   "source": [
    "def train(env, agent, buffer, episodes, gamma, minibatch_size, update_freq, ddqn=False):\n",
    "    \"\"\"\n",
    "    param env: The gym environment to train with\n",
    "    param agent: The agent to train\n",
    "    param buffer: The replay buffer to sample experiences from\n",
    "    param episodes: The number of episodes to train for\n",
    "    param gamma: The discount factor\n",
    "    param minibatch_size: The number of transitions to sample for \n",
    "    param update_freq: The frequency at which to update the target network\n",
    "    param ddqn: If true, uses DDQN expression to compute targets\n",
    "    \"\"\"\n",
    "    episode = 0\n",
    "    rewards = 0\n",
    "    log_freq = 200\n",
    "    episode_rewards = []\n",
    "    s = env.reset().astype(np.float32)\n",
    "    \n",
    "    while episode < episodes:\n",
    "        # Select an action using policy derived from Q (e-greedy)\n",
    "        a = agent.act(s)\n",
    "        \n",
    "        # Take action and observe the next state and reward\n",
    "        s_, r, done, info = env.step(a)\n",
    "        s_ = s_.astype(np.float32)\n",
    "        \n",
    "        # Store transition in replay buffer\n",
    "        buffer.add((s, a, r, s_, done))\n",
    "        \n",
    "        s = s_\n",
    "        rewards += r\n",
    "        \n",
    "        # Sample random transitions from replay buffer\n",
    "        batch = buffer.sample(minibatch_size)\n",
    "        \n",
    "        # Compute targets, y_i\n",
    "        states = np.array([obs[0] for obs in batch], dtype=np.float32)\n",
    "        states_ = np.array([obs[3] for obs in batch], dtype=np.float32)\n",
    "        y = agent.predict(states)\n",
    "        \n",
    "        if not ddqn:\n",
    "            q_next = agent.predict(states_, target=True)\n",
    "            for i in range(minibatch_size):\n",
    "                p, a, r, p_, d = batch[i]\n",
    "                if d:\n",
    "                    y[i, a] = r\n",
    "                else:\n",
    "                    y[i, a] = r + gamma * np.amax(q_next[i])\n",
    "                    \n",
    "        else:\n",
    "            q_next = agent.predict(states_)\n",
    "            q_next_target = agent.predict(states_, target=True)\n",
    "            for i in range(minibatch_size):\n",
    "                p, a, r, p_, d = batch[i]\n",
    "                if d:\n",
    "                    y[i, a] = r\n",
    "                else:\n",
    "                    y[i, a] = r + gamma * q_next_target[i][np.argmax(q_next[i])]\n",
    "        \n",
    "        # Train using state and computed target\n",
    "        agent.train(states, y)\n",
    "        \n",
    "        if done:\n",
    "            # Episode over, reset environment\n",
    "            episode_rewards.append(rewards)\n",
    "            rewards = 0\n",
    "            \n",
    "            episode += 1\n",
    "            agent.update_epsilon(episode)\n",
    "            s = env.reset().astype(np.float32)\n",
    "            \n",
    "            if episode % log_freq == 0:\n",
    "                ave = sum(episode_rewards[(episode - log_freq):]) / float(log_freq)\n",
    "                print('Episode = {}, Average rewards = {}'.format(episode, ave))\n",
    "                \n",
    "            if episode % update_freq == 0:\n",
    "                agent.update_target()                \n",
    "                \n",
    "    return episode_rewards"
   ]
  },
  {
   "cell_type": "code",
   "execution_count": 6,
   "metadata": {
    "collapsed": true,
    "deletable": true,
    "editable": true
   },
   "outputs": [],
   "source": [
    "gamma = 0.60\n",
    "learning_rate = 0.00025\n",
    "episodes = 10000\n",
    "buffer_capacity = 32\n",
    "minibatch_size = 8\n",
    "update_freq = 500"
   ]
  },
  {
   "cell_type": "code",
   "execution_count": 7,
   "metadata": {
    "collapsed": false,
    "deletable": true,
    "editable": true
   },
   "outputs": [
    {
     "name": "stderr",
     "output_type": "stream",
     "text": [
      "[2017-04-23 11:54:17,296] Making new env: CartPole-v0\n"
     ]
    }
   ],
   "source": [
    "env = gym.make('CartPole-v0')\n",
    "state_dim = env.observation_space.shape\n",
    "action_dim = env.action_space.n"
   ]
  },
  {
   "cell_type": "code",
   "execution_count": 8,
   "metadata": {
    "collapsed": true,
    "deletable": true,
    "editable": true
   },
   "outputs": [],
   "source": [
    "buffer1 = ReplayBuffer(buffer_capacity)\n",
    "agent1 = Agent(state_dim, action_dim, learning_rate)"
   ]
  },
  {
   "cell_type": "code",
   "execution_count": 9,
   "metadata": {
    "collapsed": true,
    "deletable": true,
    "editable": true
   },
   "outputs": [],
   "source": [
    "buffer2 = ReplayBuffer(buffer_capacity)\n",
    "agent2 = Agent(state_dim, action_dim, learning_rate)"
   ]
  },
  {
   "cell_type": "code",
   "execution_count": 10,
   "metadata": {
    "collapsed": false,
    "deletable": true,
    "editable": true
   },
   "outputs": [
    {
     "name": "stdout",
     "output_type": "stream",
     "text": [
      "Episode = 200, Average rewards = 17.89\n",
      "Episode = 400, Average rewards = 17.14\n",
      "Episode = 600, Average rewards = 18.205\n",
      "Episode = 800, Average rewards = 19.03\n",
      "Episode = 1000, Average rewards = 17.87\n",
      "Episode = 1200, Average rewards = 23.405\n",
      "Episode = 1400, Average rewards = 24.35\n",
      "Episode = 1600, Average rewards = 25.45\n",
      "Episode = 1800, Average rewards = 32.29\n",
      "Episode = 2000, Average rewards = 30.555\n",
      "Episode = 2200, Average rewards = 34.87\n",
      "Episode = 2400, Average rewards = 36.205\n",
      "Episode = 2600, Average rewards = 39.715\n",
      "Episode = 2800, Average rewards = 37.735\n",
      "Episode = 3000, Average rewards = 44.33\n",
      "Episode = 3200, Average rewards = 47.62\n",
      "Episode = 3400, Average rewards = 51.415\n",
      "Episode = 3600, Average rewards = 56.025\n",
      "Episode = 3800, Average rewards = 55.185\n",
      "Episode = 4000, Average rewards = 53.395\n",
      "Episode = 4200, Average rewards = 62.545\n",
      "Episode = 4400, Average rewards = 62.775\n",
      "Episode = 4600, Average rewards = 68.05\n",
      "Episode = 4800, Average rewards = 67.97\n",
      "Episode = 5000, Average rewards = 64.08\n",
      "Episode = 5200, Average rewards = 58.495\n",
      "Episode = 5400, Average rewards = 65.52\n",
      "Episode = 5600, Average rewards = 68.31\n",
      "Episode = 5800, Average rewards = 73.77\n",
      "Episode = 6000, Average rewards = 79.63\n",
      "Episode = 6200, Average rewards = 67.11\n",
      "Episode = 6400, Average rewards = 60.595\n",
      "Episode = 6600, Average rewards = 72.42\n",
      "Episode = 6800, Average rewards = 76.37\n",
      "Episode = 7000, Average rewards = 70.105\n",
      "Episode = 7200, Average rewards = 71.065\n",
      "Episode = 7400, Average rewards = 83.5\n",
      "Episode = 7600, Average rewards = 77.915\n",
      "Episode = 7800, Average rewards = 87.075\n",
      "Episode = 8000, Average rewards = 86.33\n",
      "Episode = 8200, Average rewards = 83.505\n",
      "Episode = 8400, Average rewards = 95.44\n",
      "Episode = 8600, Average rewards = 85.605\n",
      "Episode = 8800, Average rewards = 79.565\n",
      "Episode = 9000, Average rewards = 77.595\n",
      "Episode = 9200, Average rewards = 75.03\n",
      "Episode = 9400, Average rewards = 71.315\n",
      "Episode = 9600, Average rewards = 73.235\n",
      "Episode = 9800, Average rewards = 67.45\n",
      "Episode = 10000, Average rewards = 72.855\n"
     ]
    }
   ],
   "source": [
    "initialize_buffer(env, buffer1)\n",
    "rewards1 = train(env, agent1, buffer1, episodes, gamma, minibatch_size, update_freq)"
   ]
  },
  {
   "cell_type": "code",
   "execution_count": 11,
   "metadata": {
    "collapsed": false,
    "deletable": true,
    "editable": true
   },
   "outputs": [
    {
     "name": "stdout",
     "output_type": "stream",
     "text": [
      "Episode = 200, Average rewards = 20.03\n",
      "Episode = 400, Average rewards = 18.565\n",
      "Episode = 600, Average rewards = 17.72\n",
      "Episode = 800, Average rewards = 19.625\n",
      "Episode = 1000, Average rewards = 18.225\n",
      "Episode = 1200, Average rewards = 24.015\n",
      "Episode = 1400, Average rewards = 31.67\n",
      "Episode = 1600, Average rewards = 29.32\n",
      "Episode = 1800, Average rewards = 33.205\n",
      "Episode = 2000, Average rewards = 36.25\n",
      "Episode = 2200, Average rewards = 39.855\n",
      "Episode = 2400, Average rewards = 38.96\n",
      "Episode = 2600, Average rewards = 42.665\n",
      "Episode = 2800, Average rewards = 42.195\n",
      "Episode = 3000, Average rewards = 52.355\n",
      "Episode = 3200, Average rewards = 50.505\n",
      "Episode = 3400, Average rewards = 53.42\n",
      "Episode = 3600, Average rewards = 51.44\n",
      "Episode = 3800, Average rewards = 51.325\n",
      "Episode = 4000, Average rewards = 59.91\n",
      "Episode = 4200, Average rewards = 68.185\n",
      "Episode = 4400, Average rewards = 72.89\n",
      "Episode = 4600, Average rewards = 71.605\n",
      "Episode = 4800, Average rewards = 67.885\n",
      "Episode = 5000, Average rewards = 73.68\n",
      "Episode = 5200, Average rewards = 68.385\n",
      "Episode = 5400, Average rewards = 78.215\n",
      "Episode = 5600, Average rewards = 79.845\n",
      "Episode = 5800, Average rewards = 82.12\n",
      "Episode = 6000, Average rewards = 82.81\n",
      "Episode = 6200, Average rewards = 80.33\n",
      "Episode = 6400, Average rewards = 82.565\n",
      "Episode = 6600, Average rewards = 88.15\n",
      "Episode = 6800, Average rewards = 81.28\n",
      "Episode = 7000, Average rewards = 89.045\n",
      "Episode = 7200, Average rewards = 80.54\n",
      "Episode = 7400, Average rewards = 71.365\n",
      "Episode = 7600, Average rewards = 78.47\n",
      "Episode = 7800, Average rewards = 78.49\n",
      "Episode = 8000, Average rewards = 73.225\n",
      "Episode = 8200, Average rewards = 89.24\n",
      "Episode = 8400, Average rewards = 84.37\n",
      "Episode = 8600, Average rewards = 87.375\n",
      "Episode = 8800, Average rewards = 103.145\n",
      "Episode = 9000, Average rewards = 97.725\n",
      "Episode = 9200, Average rewards = 96.79\n",
      "Episode = 9400, Average rewards = 95.27\n",
      "Episode = 9600, Average rewards = 86.465\n",
      "Episode = 9800, Average rewards = 90.035\n",
      "Episode = 10000, Average rewards = 88.45\n"
     ]
    }
   ],
   "source": [
    "initialize_buffer(env, buffer2)\n",
    "rewards2 = train(env, agent2, buffer2, episodes, gamma, minibatch_size, update_freq, ddqn=True)"
   ]
  },
  {
   "cell_type": "code",
   "execution_count": 12,
   "metadata": {
    "collapsed": false,
    "deletable": true,
    "editable": true,
    "scrolled": true
   },
   "outputs": [
    {
     "data": {
      "image/png": "[encoded data removed]",
      "text/plain": [
       "<matplotlib.figure.Figure at 0x7fcfcc8096a0>"
      ]
     },
     "metadata": {},
     "output_type": "display_data"
    }
   ],
   "source": [
    "pd.Series(rewards1).rolling(window=100).mean().plot(label='dqn')\n",
    "pd.Series(rewards2).rolling(window=100).mean().plot(label='ddqn')\n",
    "plt.legend()\n",
    "plt.show()"
   ]
  },
  {
   "cell_type": "code",
   "execution_count": 17,
   "metadata": {
    "collapsed": false,
    "deletable": true,
    "editable": true
   },
   "outputs": [
    {
     "name": "stdout",
     "output_type": "stream",
     "text": [
      "DQN Average performance = 196.9\n",
      "DDQN Average performance = 180.35\n"
     ]
    }
   ],
   "source": [
    "eval_episodes = 200\n",
    "ave1 = agent1.evaluate(env, eval_episodes)\n",
    "ave2 = agent2.evaluate(env, eval_episodes)\n",
    "\n",
    "print('DQN Average performance = {}'.format(ave1))\n",
    "print('DDQN Average performance = {}'.format(ave2))"
   ]
  },
  {
   "cell_type": "markdown",
   "metadata": {
    "deletable": true,
    "editable": true
   },
   "source": [
    "The chart above and the results for average performance assert the fact that the use of a DDQN doesn't always improve performance. You may notice though that for a majority of the chart, the average reward for DDQN was higher than that of DQN. CartPole is a relatively simple problem though and the benefits of a DDQN will most likely be more apparent when used with more complex problems. To have a more assertive conclusion, we could run the experiment several times and average of the results of both.\n",
    "\n",
    "Once again, you can try out your own experiments by modifying the different parameters and noting the performance of both algorithms."
   ]
  },
  {
   "cell_type": "code",
   "execution_count": 14,
   "metadata": {
    "collapsed": true,
    "deletable": true,
    "editable": true
   },
   "outputs": [],
   "source": [
    "agent2.online_model.save_model('cart_pole.ddqn')"
   ]
  },
  {
   "cell_type": "code",
   "execution_count": 15,
   "metadata": {
    "collapsed": false,
    "deletable": true,
    "editable": true
   },
   "outputs": [],
   "source": [
    "# Load saved model and evaluate\n",
    "model = load_model('cart_pole.ddqn')\n",
    "\n",
    "s = env.reset()\n",
    "done = False\n",
    "while not done:\n",
    "    env.render()\n",
    "    a = np.argmax(model.eval(s.astype(np.float32)))\n",
    "    s, r, done, info = env.step(a)"
   ]
  },
  {
   "cell_type": "code",
   "execution_count": 16,
   "metadata": {
    "collapsed": true,
    "deletable": true,
    "editable": true
   },
   "outputs": [],
   "source": [
    "env.close()"
   ]
  },
  {
   "cell_type": "markdown",
   "metadata": {
    "deletable": true,
    "editable": true
   },
   "source": [
    "### References\n",
    "[1]. Hado van Hasselt, Arthur Guez & David Silver. Deep Reinforcement Learning with Double Q-learning. arXiv:1509.06461v3"
   ]
  }
 ],
 "metadata": {
  "kernelspec": {
   "display_name": "Python 3",
   "language": "python",
   "name": "python3"
  },
  "language_info": {
   "codemirror_mode": {
    "name": "ipython",
    "version": 3
   },
   "file_extension": ".py",
   "mimetype": "text/x-python",
   "name": "python",
   "nbconvert_exporter": "python",
   "pygments_lexer": "ipython3",
   "version": "3.5.2"
  }
 },
 "nbformat": 4,
 "nbformat_minor": 2
}
