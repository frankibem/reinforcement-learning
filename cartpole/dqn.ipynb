{
 "cells": [
  {
   "cell_type": "code",
   "execution_count": 1,
   "metadata": {
    "collapsed": true,
    "deletable": true,
    "editable": true
   },
   "outputs": [],
   "source": [
    "import math\n",
    "import numpy as np\n",
    "import pandas as pd\n",
    "import matplotlib.pyplot as plt\n",
    "import gym\n",
    "import cntk\n",
    "from cntk import *\n",
    "from cntk.layers import *\n",
    "%matplotlib inline"
   ]
  },
  {
   "cell_type": "code",
   "execution_count": 2,
   "metadata": {
    "collapsed": true,
    "deletable": true,
    "editable": true
   },
   "outputs": [],
   "source": [
    "class ReplayBuffer: \n",
    "    \"\"\"\n",
    "    Fixed capacity buffer implemented as circular queue\n",
    "    Transitions are stored as (s, a, r, s', done) tuples\n",
    "    \"\"\"\n",
    "    def __init__(self, capacity):\n",
    "        self.samples = np.ndarray(capacity, dtype=object)\n",
    "        self.capacity = capacity\n",
    "        self.counter = 0\n",
    "        self.flag = False\n",
    "        \n",
    "    def size(self):\n",
    "        if self.flag:\n",
    "            return self.capacity\n",
    "        else:\n",
    "            return self.counter\n",
    "        \n",
    "    def add(self, sample):\n",
    "        self.samples[self.counter] = sample\n",
    "        \n",
    "        self.counter += 1\n",
    "        if self.counter >= self.capacity:\n",
    "            self.counter = 0\n",
    "            self.flag = True\n",
    "            \n",
    "    def sample(self, n):\n",
    "        n = min(n, self.size())\n",
    "        \n",
    "        size = self.size()\n",
    "        if size < self.capacity:\n",
    "            return np.random.choice(self.samples[:size], n, replace=False)\n",
    "        else:\n",
    "            return np.random.choice(self.samples, n, replace=False)"
   ]
  },
  {
   "cell_type": "code",
   "execution_count": 3,
   "metadata": {
    "collapsed": true,
    "deletable": true,
    "editable": true
   },
   "outputs": [],
   "source": [
    "class Agent:\n",
    "    def __init__(self, state_dim, action_dim, learning_rate):\n",
    "        self.state_dim = state_dim\n",
    "        self.action_dim = action_dim\n",
    "        self.learning_rate = learning_rate\n",
    "        self.epsilon = 1\n",
    "        \n",
    "        # Create the model and set up trainer\n",
    "        self.state_var = input(self.state_dim, np.float32)\n",
    "        self.action_var = input(self.action_dim, np.float32)\n",
    "        \n",
    "        self.online_model = Sequential([\n",
    "            Dense(64, activation=relu),\n",
    "            Dense(self.action_dim)\n",
    "        ])(self.state_var)\n",
    "\n",
    "        loss = reduce_mean(square(self.online_model - self.action_var), axis=0)\n",
    "        lr_schedule = learning_rate_schedule(self.learning_rate, UnitType.sample)\n",
    "        learner = sgd(self.online_model.parameters, lr_schedule)\n",
    "        self.trainer = Trainer(self.online_model, loss, learner)\n",
    "        \n",
    "        # Create target network and initialize with same weights\n",
    "        self.target_model = None\n",
    "        self.update_target()\n",
    "    \n",
    "    def update_target(self):\n",
    "        \"\"\"\n",
    "        Updates the target network using the online network weights\n",
    "        \"\"\"\n",
    "        self.target_model = self.online_model.clone(CloneMethod.clone)\n",
    "        \n",
    "    def update_epsilon(self, episode):\n",
    "        \"\"\"\n",
    "        Updates epsilon using exponential decay with the decay rate chosen such\n",
    "        that epsilon is 0.05 by episode 8000\n",
    "        \"\"\"\n",
    "        self.epsilon = max(math.exp(-3.74e-4 * episode), 0.05)\n",
    "        \n",
    "    def predict(self, s, target=False):\n",
    "        \"\"\"\n",
    "        Feeds a state through the model (our network) and obtains the values of each action\n",
    "        \"\"\"\n",
    "        if target:\n",
    "            return self.target_model.eval(s)\n",
    "        else:\n",
    "            return self.online_model.eval(s)\n",
    "        \n",
    "    def act(self, state):\n",
    "        \"\"\"\n",
    "        Selects an action using the epoch-greedy approach\n",
    "        \"\"\"\n",
    "        prob = np.random.randn(1)\n",
    "        if prob > self.epsilon:\n",
    "            # exploit (greedy)\n",
    "            return np.argmax(self.predict(state))\n",
    "        else:\n",
    "            # explore (random action)\n",
    "            return np.random.randint(0, self.action_dim)\n",
    "        \n",
    "    def train(self, x, y):\n",
    "        \"\"\"\n",
    "        Performs a single gradient descent step using the provided states and targets\n",
    "        \"\"\"\n",
    "        self.trainer.train_minibatch({self.state_var: x, self.action_var: y})\n",
    "        \n",
    "    def evaluate(self, env, n):\n",
    "        \"\"\"\n",
    "        Computes the average performance of the trained model over n episodes\n",
    "        \"\"\"\n",
    "        episode = 0\n",
    "        rewards = 0\n",
    "        while episode < n:\n",
    "            s = env.reset()\n",
    "            done = False\n",
    "            while not done:\n",
    "                a = np.argmax(self.predict(s.astype(np.float32)))\n",
    "                s, r, done, info = env.step(a)\n",
    "                rewards += r\n",
    "            episode += 1\n",
    "            \n",
    "        return rewards / float(n)"
   ]
  },
  {
   "cell_type": "code",
   "execution_count": 4,
   "metadata": {
    "collapsed": true,
    "deletable": true,
    "editable": true
   },
   "outputs": [],
   "source": [
    "def initialize_buffer(env, buffer):\n",
    "    \"\"\"\n",
    "    Initializes the replay buffer using experiences generated by taking random actions\n",
    "    \"\"\"\n",
    "    actions = env.action_space.n\n",
    "    s = env.reset()\n",
    "    \n",
    "    while buffer.size() < buffer.capacity:\n",
    "        a = np.random.randint(0, actions)\n",
    "        s_, r, done, info = env.step(a)\n",
    "        \n",
    "        buffer.add((s, a, r, s_, done))\n",
    "        \n",
    "        if done:\n",
    "            s = env.reset()\n",
    "        else:\n",
    "            s = s_"
   ]
  },
  {
   "cell_type": "code",
   "execution_count": 5,
   "metadata": {
    "collapsed": true,
    "deletable": true,
    "editable": true
   },
   "outputs": [],
   "source": [
    "def train(env, agent, buffer, episodes, gamma, minibatch_size, update_freq):\n",
    "    \"\"\"\n",
    "    param env: The gym environment to train with\n",
    "    param agent: The agent to train\n",
    "    param buffer: The replay buffer to sample experiences from\n",
    "    param episodes: The number of episodes to train for\n",
    "    param gamma: The discount factor\n",
    "    param minibatch_size: The number of transitions to sample for \n",
    "    param update_freq: The frequency at which to update the target network\n",
    "    \"\"\"\n",
    "    episode = 0\n",
    "    rewards = 0\n",
    "    log_freq = 200\n",
    "    episode_rewards = []\n",
    "    s = env.reset().astype(np.float32)\n",
    "    \n",
    "    while episode < episodes:\n",
    "        # Select an action using policy derived from Q (e-greedy)\n",
    "        a = agent.act(s)\n",
    "        \n",
    "        # Take action and observe the next state and reward\n",
    "        s_, r, done, info = env.step(a)\n",
    "        s_ = s_.astype(np.float32)\n",
    "        \n",
    "        # Store transition in replay buffer\n",
    "        buffer.add((s, a, r, s_, done))\n",
    "        \n",
    "        s = s_\n",
    "        rewards += r\n",
    "        \n",
    "        # Sample random transitions from replay buffer\n",
    "        batch = buffer.sample(minibatch_size)\n",
    "        \n",
    "        # Compute targets, y_i\n",
    "        states = np.array([obs[0] for obs in batch], dtype=np.float32)\n",
    "        states_ = np.array([obs[3] for obs in batch], dtype=np.float32)\n",
    "        \n",
    "        y = agent.predict(states)\n",
    "        q_next = agent.predict(states_, target=True)\n",
    "        \n",
    "        for i in range(minibatch_size):\n",
    "            p, a, r, p_, d = batch[i]\n",
    "            if d:\n",
    "                y[i, a] = r\n",
    "            else:\n",
    "                y[i, a] = r + gamma * np.amax(q_next[i])\n",
    "        \n",
    "        # Train using state and computed target\n",
    "        agent.train(states, y)\n",
    "        \n",
    "        if done:\n",
    "            # Episode over, reset environment\n",
    "            episode_rewards.append(rewards)\n",
    "            rewards = 0\n",
    "            \n",
    "            episode += 1\n",
    "            agent.update_epsilon(episode)\n",
    "            s = env.reset().astype(np.float32)\n",
    "            \n",
    "            if episode % log_freq == 0:\n",
    "                ave = sum(episode_rewards[(episode - log_freq):]) / float(log_freq)\n",
    "                print('Episode = {}, Average rewards = {}'.format(episode, ave))\n",
    "                \n",
    "            if episode % update_freq == 0:\n",
    "                agent.update_target()                \n",
    "                \n",
    "    return episode_rewards"
   ]
  },
  {
   "cell_type": "code",
   "execution_count": 6,
   "metadata": {
    "collapsed": true,
    "deletable": true,
    "editable": true
   },
   "outputs": [],
   "source": [
    "gamma = 0.60\n",
    "learning_rate = 0.00025\n",
    "episodes = 10000\n",
    "buffer_capacity = 32\n",
    "minibatch_size = 8\n",
    "update_freq = 500"
   ]
  },
  {
   "cell_type": "code",
   "execution_count": 7,
   "metadata": {
    "collapsed": false,
    "deletable": true,
    "editable": true
   },
   "outputs": [
    {
     "name": "stderr",
     "output_type": "stream",
     "text": [
      "[2017-04-21 17:48:29,518] Making new env: CartPole-v0\n"
     ]
    }
   ],
   "source": [
    "env = gym.make('CartPole-v0')\n",
    "state_dim = env.observation_space.shape\n",
    "action_dim = env.action_space.n"
   ]
  },
  {
   "cell_type": "code",
   "execution_count": 8,
   "metadata": {
    "collapsed": true,
    "deletable": true,
    "editable": true
   },
   "outputs": [],
   "source": [
    "buffer = ReplayBuffer(buffer_capacity)\n",
    "agent = Agent(state_dim, action_dim, learning_rate)"
   ]
  },
  {
   "cell_type": "code",
   "execution_count": 9,
   "metadata": {
    "collapsed": false,
    "deletable": true,
    "editable": true
   },
   "outputs": [
    {
     "name": "stdout",
     "output_type": "stream",
     "text": [
      "Episode = 200, Average rewards = 18.995\n",
      "Episode = 400, Average rewards = 16.995\n",
      "Episode = 600, Average rewards = 18.4\n",
      "Episode = 800, Average rewards = 19.04\n",
      "Episode = 1000, Average rewards = 17.355\n",
      "Episode = 1200, Average rewards = 23.22\n",
      "Episode = 1400, Average rewards = 23.31\n",
      "Episode = 1600, Average rewards = 28.69\n",
      "Episode = 1800, Average rewards = 27.785\n",
      "Episode = 2000, Average rewards = 32.77\n",
      "Episode = 2200, Average rewards = 37.565\n",
      "Episode = 2400, Average rewards = 36.82\n",
      "Episode = 2600, Average rewards = 35.18\n",
      "Episode = 2800, Average rewards = 44.275\n",
      "Episode = 3000, Average rewards = 42.825\n",
      "Episode = 3200, Average rewards = 46.71\n",
      "Episode = 3400, Average rewards = 48.855\n",
      "Episode = 3600, Average rewards = 49.82\n",
      "Episode = 3800, Average rewards = 54.215\n",
      "Episode = 4000, Average rewards = 56.105\n",
      "Episode = 4200, Average rewards = 54.695\n",
      "Episode = 4400, Average rewards = 59.79\n",
      "Episode = 4600, Average rewards = 62.535\n",
      "Episode = 4800, Average rewards = 65.265\n",
      "Episode = 5000, Average rewards = 64.245\n",
      "Episode = 5200, Average rewards = 67.525\n",
      "Episode = 5400, Average rewards = 69.45\n",
      "Episode = 5600, Average rewards = 70.33\n",
      "Episode = 5800, Average rewards = 76.55\n",
      "Episode = 6000, Average rewards = 84.76\n",
      "Episode = 6200, Average rewards = 78.34\n",
      "Episode = 6400, Average rewards = 87.295\n",
      "Episode = 6600, Average rewards = 76.51\n",
      "Episode = 6800, Average rewards = 69.305\n",
      "Episode = 7000, Average rewards = 76.59\n",
      "Episode = 7200, Average rewards = 64.525\n",
      "Episode = 7400, Average rewards = 74.245\n",
      "Episode = 7600, Average rewards = 82.745\n",
      "Episode = 7800, Average rewards = 71.23\n",
      "Episode = 8000, Average rewards = 84.15\n",
      "Episode = 8200, Average rewards = 80.545\n",
      "Episode = 8400, Average rewards = 90.075\n",
      "Episode = 8600, Average rewards = 80.09\n",
      "Episode = 8800, Average rewards = 81.24\n",
      "Episode = 9000, Average rewards = 67.505\n",
      "Episode = 9200, Average rewards = 82.15\n",
      "Episode = 9400, Average rewards = 88.24\n",
      "Episode = 9600, Average rewards = 75.51\n",
      "Episode = 9800, Average rewards = 71.32\n",
      "Episode = 10000, Average rewards = 79.8\n"
     ]
    }
   ],
   "source": [
    "initialize_buffer(env, buffer)\n",
    "rewards = train(env, agent, buffer, episodes, gamma, minibatch_size, update_freq)"
   ]
  },
  {
   "cell_type": "code",
   "execution_count": 10,
   "metadata": {
    "collapsed": false,
    "deletable": true,
    "editable": true
   },
   "outputs": [
    {
     "data": {
      "image/png": "[encoded data removed]",
      "text/plain": [
       "<matplotlib.figure.Figure at 0x7f0ee146feb8>"
      ]
     },
     "metadata": {},
     "output_type": "display_data"
    }
   ],
   "source": [
    "pd.Series(rewards).rolling(window=100).mean().plot()\n",
    "plt.show()"
   ]
  },
  {
   "cell_type": "code",
   "execution_count": 11,
   "metadata": {
    "collapsed": false,
    "deletable": true,
    "editable": true
   },
   "outputs": [
    {
     "name": "stdout",
     "output_type": "stream",
     "text": [
      "DQN Average performance = 190.65\n"
     ]
    }
   ],
   "source": [
    "eval_episodes = 100\n",
    "ave = agent.evaluate(env, eval_episodes)\n",
    "\n",
    "print('DQN Average performance = {}'.format(ave))"
   ]
  },
  {
   "cell_type": "code",
   "execution_count": 12,
   "metadata": {
    "collapsed": true,
    "deletable": true,
    "editable": true
   },
   "outputs": [],
   "source": [
    "agent.online_model.save_model('cart_pole.dqn')"
   ]
  },
  {
   "cell_type": "code",
   "execution_count": 17,
   "metadata": {
    "collapsed": false
   },
   "outputs": [],
   "source": [
    "# Load saved model and evaluate\n",
    "model = load_model('cart_pole.dqn')\n",
    "\n",
    "s = env.reset()\n",
    "done = False\n",
    "while not done:\n",
    "    env.render()\n",
    "    a = np.argmax(model.eval(s.astype(np.float32)))\n",
    "    s, r, done, info = env.step(a)"
   ]
  },
  {
   "cell_type": "code",
   "execution_count": 18,
   "metadata": {
    "collapsed": true
   },
   "outputs": [],
   "source": [
    "env.close()"
   ]
  }
 ],
 "metadata": {
  "kernelspec": {
   "display_name": "Python 3",
   "language": "python",
   "name": "python3"
  },
  "language_info": {
   "codemirror_mode": {
    "name": "ipython",
    "version": 3
   },
   "file_extension": ".py",
   "mimetype": "text/x-python",
   "name": "python",
   "nbconvert_exporter": "python",
   "pygments_lexer": "ipython3",
   "version": "3.5.2"
  }
 },
 "nbformat": 4,
 "nbformat_minor": 2
}
