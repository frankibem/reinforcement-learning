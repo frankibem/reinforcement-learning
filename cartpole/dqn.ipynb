{
 "cells": [
  {
   "cell_type": "code",
   "execution_count": 1,
   "metadata": {
    "collapsed": false,
    "deletable": true,
    "editable": true
   },
   "outputs": [],
   "source": [
    "import numpy as np\n",
    "import matplotlib.pyplot as plt\n",
    "import gym\n",
    "import cntk\n",
    "from cntk import *"
   ]
  },
  {
   "cell_type": "code",
   "execution_count": 2,
   "metadata": {
    "collapsed": true
   },
   "outputs": [],
   "source": [
    "class Memory: \n",
    "    \"\"\"\n",
    "    Fixed capacity buffer implemented as circular queue\n",
    "    Transitions are stored as (s, a, r, s') tuples\n",
    "    \"\"\"\n",
    "    def __init__(self, capacity):\n",
    "        self.samples = np.ndarray(capacity, dtype=object)\n",
    "        self.capacity = capacity\n",
    "        self.counter = 0\n",
    "        self.flag = False\n",
    "        \n",
    "    def size(self):\n",
    "        if self.flag:\n",
    "            return self.capacity\n",
    "        else:\n",
    "            return self.counter\n",
    "        \n",
    "    def add(self, sample):\n",
    "        self.samples[self.counter] = sample\n",
    "        \n",
    "        self.counter += 1\n",
    "        if self.counter >= self.capacity:\n",
    "            self.counter = 0\n",
    "            self.flag = True\n",
    "            \n",
    "    def sample(self, n):\n",
    "        n = min(n, self.size())\n",
    "        \n",
    "        size = self.size()\n",
    "        if size < self.capacity:\n",
    "            return np.random.choice(self.samples[:size], n)\n",
    "        else:\n",
    "            return np.random.choice(self.samples, n)"
   ]
  },
  {
   "cell_type": "code",
   "execution_count": 3,
   "metadata": {
    "collapsed": true
   },
   "outputs": [],
   "source": [
    "def moving_average(a, w=10):\n",
    "    if len(a) < w:\n",
    "        return a[:]\n",
    "    return [val if idx < w else sum(a[(idx-w):idx])/w for idx, val in enumerate(a)]"
   ]
  },
  {
   "cell_type": "code",
   "execution_count": 4,
   "metadata": {
    "collapsed": true
   },
   "outputs": [],
   "source": [
    "def predict(Q, state):\n",
    "    \"\"\"\n",
    "    Returns the values of all actions for the given state\n",
    "    \"\"\"\n",
    "    return Q.eval([state.astype(np.float32)])"
   ]
  },
  {
   "cell_type": "code",
   "execution_count": 5,
   "metadata": {
    "collapsed": true
   },
   "outputs": [],
   "source": [
    "def epsilon_fn(episode, num_episodes):\n",
    "    \"\"\"\n",
    "    Decays epsilon from 1 (at t = 0) to 0 (at t = 90% of T)\n",
    "    \"\"\"\n",
    "    return -episode / (0.9 * num_episodes) + 1"
   ]
  },
  {
   "cell_type": "code",
   "execution_count": 6,
   "metadata": {
    "collapsed": true
   },
   "outputs": [],
   "source": [
    "def epoch_greedy(Q, state, episode, num_episodes):\n",
    "    \"\"\"\n",
    "    Selects an action using the epoch-greedy approach\n",
    "    \"\"\"\n",
    "    prob = np.random.randn(1)\n",
    "    if prob > epsilon_fn(episode, num_episodes):\n",
    "        # exploit (greedy)\n",
    "        action_index = np.argmax(predict(Q, state))\n",
    "    else:\n",
    "        # explore (random action)\n",
    "        action_index = np.random.randint(0, output_dim)\n",
    "    \n",
    "    return action_index"
   ]
  },
  {
   "cell_type": "code",
   "execution_count": 7,
   "metadata": {
    "collapsed": false,
    "deletable": true,
    "editable": true
   },
   "outputs": [
    {
     "name": "stderr",
     "output_type": "stream",
     "text": [
      "[2017-04-04 16:51:51,394] Making new env: CartPole-v0\n"
     ]
    }
   ],
   "source": [
    "env = gym.make('CartPole-v0')"
   ]
  },
  {
   "cell_type": "code",
   "execution_count": 8,
   "metadata": {
    "collapsed": true,
    "deletable": true,
    "editable": true
   },
   "outputs": [],
   "source": [
    "input_dim = env.observation_space.shape\n",
    "output_dim = env.action_space.n\n",
    "\n",
    "input_var = input_variable(input_dim, np.float32)\n",
    "output_var = input_variable(output_dim, np.float32)\n",
    "\n",
    "model = Sequential([\n",
    "    Dense(16, activation=relu, name='dense1'),\n",
    "    Dense(16, activation=relu, name='dense2'),\n",
    "    Dense(output_dim, name='z')\n",
    "])(input_var)"
   ]
  },
  {
   "cell_type": "code",
   "execution_count": 26,
   "metadata": {
    "collapsed": true,
    "deletable": true,
    "editable": true
   },
   "outputs": [],
   "source": [
    "loss = reduce_mean(square(model.z - output_var), axis=0)\n",
    "\n",
    "learning_rate = 0.00025\n",
    "lr_schedule = learning_rate_schedule(learning_rate, UnitType.sample)\n",
    "learner = sgd(model.z.parameters, lr_schedule)\n",
    "printer = cntk.logging.ProgressPrinter(tag='Training')\n",
    "trainer = Trainer(model.z, loss, learner, printer)"
   ]
  },
  {
   "cell_type": "code",
   "execution_count": 27,
   "metadata": {
    "collapsed": true,
    "deletable": true,
    "editable": true
   },
   "outputs": [],
   "source": [
    "# Parameters\n",
    "gamma = 0.99\n",
    "episodes = 20000\n",
    "memory_capacity = 50000\n",
    "minibatch_size = 32"
   ]
  },
  {
   "cell_type": "code",
   "execution_count": 28,
   "metadata": {
    "collapsed": false
   },
   "outputs": [],
   "source": [
    "# Create and initialize memory with randomly obtained sample transitions\n",
    "samples = 0\n",
    "memory = Memory(memory_capacity)\n",
    "s = env.reset()\n",
    "\n",
    "while samples < memory_capacity:\n",
    "    # Select random action at each step\n",
    "    a = np.random.randint(0, output_dim)\n",
    "    \n",
    "    s_, r, done, info = env.step(a)\n",
    "    s_ = None if done else s_ # Track terminal states\n",
    "    \n",
    "    memory.add((s, a, r, s_))\n",
    "    samples += 1\n",
    "    \n",
    "    s = s_\n",
    "    \n",
    "    if done:\n",
    "        s = env.reset()"
   ]
  },
  {
   "cell_type": "code",
   "execution_count": null,
   "metadata": {
    "collapsed": false
   },
   "outputs": [
    {
     "name": "stdout",
     "output_type": "stream",
     "text": [
      "Finished Epoch[1 of 300]: [Training] loss = 4.914925 * 150720, metric = 0.00% * 150720 15.643s (9635.0 samples/s);\n",
      "Episode 200, reward = 33.0\n",
      "\n",
      "Finished Epoch[2 of 300]: [Training] loss = 5.663687 * 144960, metric = 0.00% * 144960 10.445s (13878.4 samples/s);\n",
      "Episode 400, reward = 24.0\n",
      "\n"
     ]
    }
   ],
   "source": [
    "# Train network\n",
    "rewards = 0\n",
    "episode = 0\n",
    "reward_list = []\n",
    "\n",
    "s = env.reset()\n",
    "while episode < episodes:\n",
    "    # Select action using policy derived from Q (e-greedy)\n",
    "    a = epoch_greedy(model, s, episode, episodes)\n",
    "    \n",
    "    # Take action and observe next state and reward\n",
    "    s_, r, done, info = env.step(a)\n",
    "    s_ = None if done else s_ # Track terminal states\n",
    "    \n",
    "    # Store transition in memory\n",
    "    memory.add((s, a, r, s_))\n",
    "    \n",
    "    # Sample random minibatch of transitions from memory\n",
    "    batch = memory.sample(minibatch_size)\n",
    "    \n",
    "    # Calculate the values of the next states for each sample in the batch\n",
    "    no_state = np.zeros(input_dim)\n",
    "    next_states = np.array([no_state if sample[3] is None else sample[3] for sample in batch], dtype=np.float32)\n",
    "    values = predict(model, next_states)\n",
    "    \n",
    "    # Calculate y_j for each sample in batch\n",
    "    net_in = np.zeros((minibatch_size, input_dim[0]), dtype=np.float32)\n",
    "    net_out = np.zeros((minibatch_size, output_dim), dtype=np.float32)\n",
    "    \n",
    "    for i in range(minibatch_size):\n",
    "        S, a, r, S_ = batch[i]\n",
    "        qa = values[0][i]\n",
    "        \n",
    "        if S_ is None:\n",
    "            qa[a] = r\n",
    "        else:\n",
    "            qa[a] = r + gamma * np.amax(values[0][i])\n",
    "        \n",
    "        net_in[i] = S\n",
    "        net_out[i] = qa\n",
    "    \n",
    "    # Perform a gradient descent step\n",
    "    trainer.train_minibatch({input_var: net_in, output_var: net_out})\n",
    "    \n",
    "    s = s_\n",
    "    rewards += r\n",
    "    \n",
    "    # Episode over, reset environment\n",
    "    if done:\n",
    "        episode += 1\n",
    "        reward_list.append(rewards)\n",
    "        \n",
    "        if episode % 200 == 0:            \n",
    "            trainer.summarize_training_progress()\n",
    "            print('Episode {}, reward = {}\\n'.format(episode, rewards))\n",
    "            \n",
    "        s = env.reset()\n",
    "        rewards = 0"
   ]
  },
  {
   "cell_type": "code",
   "execution_count": 13,
   "metadata": {
    "collapsed": false
   },
   "outputs": [
    {
     "data": {
      "image/png": "[encoded data removed]",
      "text/plain": [
       "<matplotlib.figure.Figure at 0x7fb90b5ecba8>"
      ]
     },
     "metadata": {},
     "output_type": "display_data"
    }
   ],
   "source": [
    "step = 100\n",
    "x = range(0, episodes, step)\n",
    "ave = moving_average(reward_list, w=50)[::step]\n",
    "plt.plot(x, reward_list[::step])\n",
    "plt.plot(x, ave)\n",
    "plt.show()"
   ]
  },
  {
   "cell_type": "code",
   "execution_count": 25,
   "metadata": {
    "collapsed": false
   },
   "outputs": [
    {
     "name": "stdout",
     "output_type": "stream",
     "text": [
      "Total rewards = 10.0\n"
     ]
    }
   ],
   "source": [
    "import time\n",
    "\n",
    "s = env.reset()\n",
    "done = False\n",
    "rewards = 0\n",
    "while not done:\n",
    "    env.render()\n",
    "    a = np.argmax(predict(model, s))\n",
    "    s, r, done, info = env.step(a)\n",
    "    rewards += r\n",
    "    time.sleep(1)\n",
    "    \n",
    "print('Total rewards = {}'.format(rewards))"
   ]
  },
  {
   "cell_type": "code",
   "execution_count": 15,
   "metadata": {
    "collapsed": true
   },
   "outputs": [],
   "source": [
    "env.close()"
   ]
  },
  {
   "cell_type": "code",
   "execution_count": null,
   "metadata": {
    "collapsed": true
   },
   "outputs": [],
   "source": []
  }
 ],
 "metadata": {
  "kernelspec": {
   "display_name": "Python 3",
   "language": "python",
   "name": "python3"
  },
  "language_info": {
   "codemirror_mode": {
    "name": "ipython",
    "version": 3
   },
   "file_extension": ".py",
   "mimetype": "text/x-python",
   "name": "python",
   "nbconvert_exporter": "python",
   "pygments_lexer": "ipython3",
   "version": "3.5.2"
  }
 },
 "nbformat": 4,
 "nbformat_minor": 2
}
