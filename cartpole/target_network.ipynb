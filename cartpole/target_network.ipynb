{
 "cells": [
  {
   "cell_type": "markdown",
   "metadata": {},
   "source": [
    "## DQN - Using a Target Network\n",
    "Since action-values are used to compute targets, there could be a correlation between them and this correlation could cause problems when a function approximator is used for Q-learning. To solve this problem, Mnih et al have proposed the use of 2 networks: an online network for selecting actions to execute and a target network for evaluation actions and computing targets. Both networks start out with the same parameters but the target network is periodically updated with the values of the online network and held fixed between individual updates.\n",
    "\n",
    "To see the effect of using a target network, the Agent class has been extended with the update_target() method which clones the online network into the target network. It's predict method also has a new parameter to determine if to use the online or target network to compute action values. Finally, the train method has been updated to make use of the target network when evaluating actions to compute the targets. Everything else is the same as in the original Q-learning notebook. Finally, we visualize the learning of both methods and then evaluate them."
   ]
  },
  {
   "cell_type": "code",
   "execution_count": 1,
   "metadata": {
    "collapsed": true,
    "deletable": true,
    "editable": true
   },
   "outputs": [],
   "source": [
    "import math\n",
    "import numpy as np\n",
    "import pandas as pd\n",
    "import matplotlib.pyplot as plt\n",
    "import gym\n",
    "import cntk\n",
    "from cntk import *\n",
    "from cntk.layers import *\n",
    "%matplotlib inline"
   ]
  },
  {
   "cell_type": "code",
   "execution_count": 2,
   "metadata": {
    "collapsed": true,
    "deletable": true,
    "editable": true
   },
   "outputs": [],
   "source": [
    "class Agent:\n",
    "    def __init__(self, state_dim, action_dim, learning_rate):\n",
    "        self.state_dim = state_dim\n",
    "        self.action_dim = action_dim\n",
    "        self.learning_rate = learning_rate\n",
    "        self.epsilon = 1\n",
    "        \n",
    "        # Create the model and set up trainer\n",
    "        self.state_var = input(self.state_dim, np.float32)\n",
    "        self.action_var = input(self.action_dim, np.float32)\n",
    "        \n",
    "        self.online_model = Sequential([\n",
    "            Dense(64, activation=relu),\n",
    "            Dense(self.action_dim)\n",
    "        ])(self.state_var)\n",
    "\n",
    "        loss = reduce_mean(square(self.online_model - self.action_var), axis=0)\n",
    "        lr_schedule = learning_rate_schedule(self.learning_rate, UnitType.sample)\n",
    "        learner = sgd(self.online_model.parameters, lr_schedule)\n",
    "        self.trainer = Trainer(self.online_model, loss, learner)\n",
    "        \n",
    "        # Create target network and initialize with same weights\n",
    "        self.target_model = None\n",
    "        self.update_target()\n",
    "    \n",
    "    def update_target(self):\n",
    "        \"\"\"\n",
    "        Updates the target network using the online network weights\n",
    "        \"\"\"\n",
    "        self.target_model = self.online_model.clone(CloneMethod.clone)\n",
    "        \n",
    "    def update_epsilon(self, episode):\n",
    "        \"\"\"\n",
    "        Updates epsilon using exponential decay with the decay rate chosen such\n",
    "        that epsilon is 0.05 by episode 8000\n",
    "        \"\"\"\n",
    "        self.epsilon = max(math.exp(-3.74e-4 * episode), 0.05)\n",
    "        \n",
    "    def predict(self, s, target=False):\n",
    "        \"\"\"\n",
    "        Feeds a state through the model (our network) and obtains the values of each action\n",
    "        \"\"\"\n",
    "        if target:\n",
    "            return self.target_model.eval(s)[0]\n",
    "        else:\n",
    "            return self.online_model.eval(s)[0]\n",
    "        \n",
    "    def act(self, state):\n",
    "        \"\"\"\n",
    "        Selects an action using the epoch-greedy approach\n",
    "        \"\"\"\n",
    "        prob = np.random.randn(1)\n",
    "        if prob > self.epsilon:\n",
    "            # exploit (greedy)\n",
    "            return np.argmax(self.predict(state))\n",
    "        else:\n",
    "            # explore (random action)\n",
    "            return np.random.randint(0, self.action_dim)\n",
    "        \n",
    "    def train(self, x, y):\n",
    "        \"\"\"\n",
    "        Performs a single gradient descent step using the provided states and targets\n",
    "        \"\"\"\n",
    "        self.trainer.train_minibatch({self.state_var: x, self.action_var: y})\n",
    "        \n",
    "    def evaluate(self, env, n):\n",
    "        \"\"\"\n",
    "        Computes the average performance of the trained model over n episodes\n",
    "        \"\"\"\n",
    "        episode = 0\n",
    "        rewards = 0\n",
    "        while episode < n:\n",
    "            s = env.reset()\n",
    "            done = False\n",
    "            while not done:\n",
    "                a = np.argmax(self.predict(s.astype(np.float32)))\n",
    "                s, r, done, info = env.step(a)\n",
    "                rewards += r\n",
    "            episode += 1\n",
    "            \n",
    "        return rewards / float(n)"
   ]
  },
  {
   "cell_type": "code",
   "execution_count": 8,
   "metadata": {
    "collapsed": false,
    "deletable": true,
    "editable": true
   },
   "outputs": [],
   "source": [
    "def train(env, agent, episodes, gamma, update_freq, use_target=True):\n",
    "    \"\"\"\n",
    "    param env: The gym environment to train with\n",
    "    param agent: The agent to train\n",
    "    param episodes: The number of episodes to train for\n",
    "    param gamma: The discount factor\n",
    "    param update_freq: The frequency at which to update the target network\n",
    "    param use_target: If true, uses the target network for state evaluation\n",
    "    \"\"\"    \n",
    "    episode = 0\n",
    "    rewards = 0\n",
    "    log_freq = 200\n",
    "    episode_rewards = []\n",
    "    s = env.reset().astype(np.float32)\n",
    "    \n",
    "    while episode < episodes:\n",
    "        # Select action using policy derived from Q (e-greedy) \n",
    "        a = agent.act(s)\n",
    "\n",
    "        # Take action and observe next state and reward\n",
    "        s_, r, done, info = env.step(a)\n",
    "        s_ = s_.astype(np.float32)\n",
    "        \n",
    "        # Compute target, y_i\n",
    "        y = agent.predict(s)\n",
    "        \n",
    "        if use_target:\n",
    "            q_next = agent.predict(s_, target=True)\n",
    "        else:\n",
    "            q_next = agent.predict(s_)\n",
    "        \n",
    "        if done:\n",
    "            y[a] = r\n",
    "        else:\n",
    "            y[a] = r + gamma * np.amax(q_next)\n",
    "\n",
    "        # Train using state and computed target\n",
    "        agent.train(s, y)\n",
    "\n",
    "        s = s_\n",
    "        rewards += r\n",
    "\n",
    "        if done:\n",
    "            # Episode over, reset environment\n",
    "            episode_rewards.append(rewards)\n",
    "            rewards = 0\n",
    "            \n",
    "            episode += 1\n",
    "            agent.update_epsilon(episode)\n",
    "            s = env.reset().astype(np.float32)\n",
    "            \n",
    "            if episode % log_freq == 0:\n",
    "                ave = sum(episode_rewards[(episode - log_freq):]) / float(log_freq)\n",
    "                print('Episode = {}, Average rewards = {}'.format(episode, ave))\n",
    "                \n",
    "            if episode % update_freq == 0 and use_target:\n",
    "                agent.update_target()\n",
    "                \n",
    "    return episode_rewards"
   ]
  },
  {
   "cell_type": "code",
   "execution_count": 4,
   "metadata": {
    "collapsed": false,
    "deletable": true,
    "editable": true
   },
   "outputs": [],
   "source": [
    "gamma = 0.60\n",
    "learning_rate = 0.00025\n",
    "episodes = 10000\n",
    "update_freq = 500"
   ]
  },
  {
   "cell_type": "code",
   "execution_count": 5,
   "metadata": {
    "collapsed": false,
    "deletable": true,
    "editable": true
   },
   "outputs": [
    {
     "name": "stderr",
     "output_type": "stream",
     "text": [
      "[2017-04-21 14:30:26,451] Making new env: CartPole-v0\n"
     ]
    }
   ],
   "source": [
    "env = gym.make('CartPole-v0')\n",
    "state_dim = env.observation_space.shape\n",
    "action_dim = env.action_space.n"
   ]
  },
  {
   "cell_type": "code",
   "execution_count": 6,
   "metadata": {
    "collapsed": false,
    "deletable": true,
    "editable": true
   },
   "outputs": [
    {
     "name": "stdout",
     "output_type": "stream",
     "text": [
      "Episode = 200, Average rewards = 17.615\n",
      "Episode = 400, Average rewards = 16.215\n",
      "Episode = 600, Average rewards = 16.74\n",
      "Episode = 800, Average rewards = 17.435\n",
      "Episode = 1000, Average rewards = 17.235\n",
      "Episode = 1200, Average rewards = 16.25\n",
      "Episode = 1400, Average rewards = 16.88\n",
      "Episode = 1600, Average rewards = 17.145\n",
      "Episode = 1800, Average rewards = 18.07\n",
      "Episode = 2000, Average rewards = 19.115\n",
      "Episode = 2200, Average rewards = 18.315\n",
      "Episode = 2400, Average rewards = 19.615\n",
      "Episode = 2600, Average rewards = 20.24\n",
      "Episode = 2800, Average rewards = 24.73\n",
      "Episode = 3000, Average rewards = 27.205\n",
      "Episode = 3200, Average rewards = 31.15\n",
      "Episode = 3400, Average rewards = 31.14\n",
      "Episode = 3600, Average rewards = 31.455\n",
      "Episode = 3800, Average rewards = 31.98\n",
      "Episode = 4000, Average rewards = 34.35\n",
      "Episode = 4200, Average rewards = 34.84\n",
      "Episode = 4400, Average rewards = 37.13\n",
      "Episode = 4600, Average rewards = 32.305\n",
      "Episode = 4800, Average rewards = 39.025\n",
      "Episode = 5000, Average rewards = 35.875\n",
      "Episode = 5200, Average rewards = 39.17\n",
      "Episode = 5400, Average rewards = 37.39\n",
      "Episode = 5600, Average rewards = 37.86\n",
      "Episode = 5800, Average rewards = 40.365\n",
      "Episode = 6000, Average rewards = 38.955\n",
      "Episode = 6200, Average rewards = 44.835\n",
      "Episode = 6400, Average rewards = 38.58\n",
      "Episode = 6600, Average rewards = 40.2\n",
      "Episode = 6800, Average rewards = 42.675\n",
      "Episode = 7000, Average rewards = 41.845\n",
      "Episode = 7200, Average rewards = 46.42\n",
      "Episode = 7400, Average rewards = 43.305\n",
      "Episode = 7600, Average rewards = 43.9\n",
      "Episode = 7800, Average rewards = 45.775\n",
      "Episode = 8000, Average rewards = 46.985\n",
      "Episode = 8200, Average rewards = 45.31\n",
      "Episode = 8400, Average rewards = 49.755\n",
      "Episode = 8600, Average rewards = 48.035\n",
      "Episode = 8800, Average rewards = 47.925\n",
      "Episode = 9000, Average rewards = 49.785\n",
      "Episode = 9200, Average rewards = 52.42\n",
      "Episode = 9400, Average rewards = 52.435\n",
      "Episode = 9600, Average rewards = 55.615\n",
      "Episode = 9800, Average rewards = 55.625\n",
      "Episode = 10000, Average rewards = 55.69\n"
     ]
    }
   ],
   "source": [
    "agent1 = Agent(state_dim, action_dim, learning_rate)\n",
    "rewards1 = train(env, agent1, episodes, gamma, update_freq, use_target=False)"
   ]
  },
  {
   "cell_type": "code",
   "execution_count": 9,
   "metadata": {
    "collapsed": false,
    "deletable": true,
    "editable": true
   },
   "outputs": [
    {
     "name": "stdout",
     "output_type": "stream",
     "text": [
      "Episode = 200, Average rewards = 19.785\n",
      "Episode = 400, Average rewards = 21.415\n",
      "Episode = 600, Average rewards = 19.55\n",
      "Episode = 800, Average rewards = 20.515\n",
      "Episode = 1000, Average rewards = 19.145\n",
      "Episode = 1200, Average rewards = 18.355\n",
      "Episode = 1400, Average rewards = 17.74\n",
      "Episode = 1600, Average rewards = 20.245\n",
      "Episode = 1800, Average rewards = 16.93\n",
      "Episode = 2000, Average rewards = 17.865\n",
      "Episode = 2200, Average rewards = 17.02\n",
      "Episode = 2400, Average rewards = 17.26\n",
      "Episode = 2600, Average rewards = 22.485\n",
      "Episode = 2800, Average rewards = 35.36\n",
      "Episode = 3000, Average rewards = 23.465\n",
      "Episode = 3200, Average rewards = 18.21\n",
      "Episode = 3400, Average rewards = 17.035\n",
      "Episode = 3600, Average rewards = 16.23\n",
      "Episode = 3800, Average rewards = 17.92\n",
      "Episode = 4000, Average rewards = 33.605\n",
      "Episode = 4200, Average rewards = 47.395\n",
      "Episode = 4400, Average rewards = 51.015\n",
      "Episode = 4600, Average rewards = 49.67\n",
      "Episode = 4800, Average rewards = 51.255\n",
      "Episode = 5000, Average rewards = 50.83\n",
      "Episode = 5200, Average rewards = 48.24\n",
      "Episode = 5400, Average rewards = 50.41\n",
      "Episode = 5600, Average rewards = 52.095\n",
      "Episode = 5800, Average rewards = 51.425\n",
      "Episode = 6000, Average rewards = 55.83\n",
      "Episode = 6200, Average rewards = 55.365\n",
      "Episode = 6400, Average rewards = 58.55\n",
      "Episode = 6600, Average rewards = 62.025\n",
      "Episode = 6800, Average rewards = 61.475\n",
      "Episode = 7000, Average rewards = 58.615\n",
      "Episode = 7200, Average rewards = 57.405\n",
      "Episode = 7400, Average rewards = 58.61\n",
      "Episode = 7600, Average rewards = 62.465\n",
      "Episode = 7800, Average rewards = 66.72\n",
      "Episode = 8000, Average rewards = 64.8\n",
      "Episode = 8200, Average rewards = 68.87\n",
      "Episode = 8400, Average rewards = 72.565\n",
      "Episode = 8600, Average rewards = 71.65\n",
      "Episode = 8800, Average rewards = 71.1\n",
      "Episode = 9000, Average rewards = 69.165\n",
      "Episode = 9200, Average rewards = 72.645\n",
      "Episode = 9400, Average rewards = 68.875\n",
      "Episode = 9600, Average rewards = 63.155\n",
      "Episode = 9800, Average rewards = 61.08\n",
      "Episode = 10000, Average rewards = 63.685\n"
     ]
    }
   ],
   "source": [
    "agent2 = Agent(state_dim, action_dim, learning_rate)\n",
    "rewards2 = train(env, agent2, episodes, gamma, update_freq)"
   ]
  },
  {
   "cell_type": "code",
   "execution_count": 10,
   "metadata": {
    "collapsed": false,
    "deletable": true,
    "editable": true
   },
   "outputs": [
    {
     "data": {
      "image/png": "[encoded data removed]",
      "text/plain": [
       "<matplotlib.figure.Figure at 0x7f4908971860>"
      ]
     },
     "metadata": {},
     "output_type": "display_data"
    }
   ],
   "source": [
    "pd.Series(rewards1).rolling(window=100).mean().plot(label='no target')\n",
    "pd.Series(rewards2).rolling(window=100).mean().plot(label='with target')\n",
    "plt.legend()\n",
    "plt.show()"
   ]
  },
  {
   "cell_type": "code",
   "execution_count": 11,
   "metadata": {
    "collapsed": false,
    "deletable": true,
    "editable": true
   },
   "outputs": [
    {
     "name": "stdout",
     "output_type": "stream",
     "text": [
      "Average (without target network) = 89.33\n",
      "Average (with target network) = 123.56\n"
     ]
    }
   ],
   "source": [
    "eval_episodes = 100\n",
    "ave_without = agent1.evaluate(env, eval_episodes)\n",
    "ave_with = agent2.evaluate(env, eval_episodes)\n",
    "\n",
    "print('Average (without target network) = {}'.format(ave_without))\n",
    "print('Average (with target network) = {}'.format(ave_with))"
   ]
  },
  {
   "cell_type": "markdown",
   "metadata": {},
   "source": [
    "### References\n",
    "[1] Volodymyr M., Koray K., David S., Alex G., Ioannis A., Daan W. & Martin R. Playing Atari with Deep Reinforcement Learning. ArXiv:1312.5602"
   ]
  }
 ],
 "metadata": {
  "kernelspec": {
   "display_name": "Python 3",
   "language": "python",
   "name": "python3"
  },
  "language_info": {
   "codemirror_mode": {
    "name": "ipython",
    "version": 3
   },
   "file_extension": ".py",
   "mimetype": "text/x-python",
   "name": "python",
   "nbconvert_exporter": "python",
   "pygments_lexer": "ipython3",
   "version": "3.5.2"
  }
 },
 "nbformat": 4,
 "nbformat_minor": 2
}
