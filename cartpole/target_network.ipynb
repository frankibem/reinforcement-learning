{
 "cells": [
  {
   "cell_type": "code",
   "execution_count": 1,
   "metadata": {
    "collapsed": true,
    "deletable": true,
    "editable": true
   },
   "outputs": [],
   "source": [
    "import math\n",
    "import random\n",
    "import numpy as np\n",
    "import pandas as pd\n",
    "import matplotlib.pyplot as plt\n",
    "import gym\n",
    "import cntk\n",
    "from cntk import *\n",
    "from cntk.layers import *\n",
    "%matplotlib inline"
   ]
  },
  {
   "cell_type": "code",
   "execution_count": 2,
   "metadata": {
    "collapsed": true
   },
   "outputs": [],
   "source": [
    "class Target_Agent:\n",
    "    def __init__(self, input_dim, output_dim):\n",
    "        self.input_dim = input_dim\n",
    "        self.output_dim = output_dim\n",
    "        self.epsilon = 1\n",
    "        \n",
    "        # Create the model and set up trainer\n",
    "        self.input_var = input(input_dim, np.float32)\n",
    "        self.output_var = input(output_dim, np.float32)\n",
    "        self.online_model = self.create_network()\n",
    "\n",
    "        learning_rate = 0.0025\n",
    "        loss = reduce_mean(square(self.online_model - self.output_var), axis=0)\n",
    "        lr_schedule = learning_rate_schedule(learning_rate, UnitType.sample)\n",
    "        learner = sgd(self.online_model.parameters, lr_schedule)\n",
    "        self.trainer = Trainer(self.online_model, loss, learner)\n",
    "        \n",
    "        # Create target network and initialize with same weights\n",
    "        self.target_model = self.create_network()\n",
    "        self.update_target()\n",
    "        \n",
    "    def create_network(self):\n",
    "        scale = 1e-4\n",
    "        return Sequential([\n",
    "            Dense(16, activation=relu, name='dense1', init=uniform(scale) ,init_bias=uniform(scale)),\n",
    "            Dense(16, activation=relu, name='dense2', init=uniform(scale) ,init_bias=uniform(scale)),\n",
    "            Dense(self.output_dim, name='z', init=uniform(scale), init_bias=uniform(scale))\n",
    "        ])(self.input_var)\n",
    "    \n",
    "    def update_target(self):\n",
    "        \"\"\"\n",
    "        Updates the target network using the online network weights\n",
    "        \"\"\"\n",
    "        self.target_model = self.online_model.clone(CloneMethod.clone)\n",
    "        \n",
    "    def update_epsilon(self, episode):\n",
    "        \"\"\"\n",
    "        Updates epsilon using exponential decay with the decay rate chosen such\n",
    "        that epsilon is 0.05 by episode 10000\n",
    "        \"\"\"\n",
    "        self.epsilon = max(math.exp(-2.996e-4 * episode), 0.05)\n",
    "        \n",
    "    def predict(self, s, target=False):\n",
    "        \"\"\"\n",
    "        Feeds a state through the model (our network) and obtains the values of each action\n",
    "        \"\"\"\n",
    "        if target:\n",
    "            return self.target_model.eval(s)[0]\n",
    "        else:\n",
    "            return self.online_model.eval(s)[0]\n",
    "        \n",
    "    def act(self, s):\n",
    "        \"\"\"\n",
    "        Selects an action using the epoch-greedy approach\n",
    "        \"\"\"\n",
    "        if random.random() > self.epsilon:\n",
    "            # Exploit (greedy)            \n",
    "            return np.argmax(self.predict(s))\n",
    "        else:\n",
    "            # Explore (random action)\n",
    "            return random.randint(0, self.output_dim - 1)\n",
    "        \n",
    "    def train(self, x, y):\n",
    "        \"\"\"\n",
    "        Performs a single gradient descent step\n",
    "        \"\"\"\n",
    "        self.trainer.train_minibatch({self.input_var: x, self.output_var: y})\n",
    "        \n",
    "    def evaluate(self, env, n):\n",
    "        \"\"\"\n",
    "        Computes the average performance of the agent over n episodes\n",
    "        \"\"\"\n",
    "        episode = 0\n",
    "        rewards = 0\n",
    "        \n",
    "        while episode < n:\n",
    "            s = env.reset()\n",
    "            done = False\n",
    "            while not done:\n",
    "                a = np.argmax(self.predict(s.astype(np.float32)))\n",
    "                s, r, done, info = env.step(a)\n",
    "                rewards += r\n",
    "            episode += 1\n",
    "        \n",
    "        return rewards / float(n)"
   ]
  },
  {
   "cell_type": "code",
   "execution_count": 3,
   "metadata": {
    "collapsed": false,
    "deletable": true,
    "editable": true
   },
   "outputs": [],
   "source": [
    "def train(env, agent, episodes, gamma, update_freq, use_target=True):\n",
    "    \"\"\"\n",
    "    param env: The gym environment to train with\n",
    "    param episodes: The number of episodes to train for\n",
    "    param gamma: The discount factor\n",
    "    \"\"\"    \n",
    "    episode = 0\n",
    "    rewards = 0\n",
    "    episode_rewards = []\n",
    "    s = env.reset().astype(np.float32)\n",
    "    \n",
    "    while episode < episodes:\n",
    "        # Select action using policy derived from Q (e-greedy) \n",
    "        a = agent.act(s)\n",
    "\n",
    "        # Take action and observe next state and reward\n",
    "        s_, r, done, info = env.step(a)\n",
    "        s_ = s_.astype(np.float32)\n",
    "\n",
    "        y = agent.predict(s)\n",
    "        if use_target:\n",
    "            q_next = agent.predict(s_, target=True)\n",
    "        else:\n",
    "            q_next = agent.predict(s_)\n",
    "        \n",
    "        if done:\n",
    "            y[a] = r\n",
    "        else:\n",
    "            y[a] = r + gamma * np.amax(q_next)\n",
    "\n",
    "        agent.train(s, y)\n",
    "\n",
    "        s = s_\n",
    "        rewards += r\n",
    "\n",
    "        # Episode over, reset environment\n",
    "        if done:                \n",
    "            episode += 1\n",
    "            episode_rewards.append(rewards)\n",
    "\n",
    "            if episode % 200 == 0:\n",
    "                print('Episode {}, reward = {}'.format(episode, rewards))\n",
    "                \n",
    "            if episode % update_freq == 0 and use_target:\n",
    "                agent.update_target()\n",
    "\n",
    "            s = env.reset().astype(np.float32)\n",
    "            rewards = 0\n",
    "    return episode_rewards"
   ]
  },
  {
   "cell_type": "code",
   "execution_count": 4,
   "metadata": {
    "collapsed": false,
    "deletable": true,
    "editable": true
   },
   "outputs": [],
   "source": [
    "gamma = 0.99\n",
    "episodes = 15000\n",
    "update_freq = 1000"
   ]
  },
  {
   "cell_type": "code",
   "execution_count": 5,
   "metadata": {
    "collapsed": false
   },
   "outputs": [
    {
     "name": "stderr",
     "output_type": "stream",
     "text": [
      "[2017-04-20 14:32:56,998] Making new env: CartPole-v0\n"
     ]
    }
   ],
   "source": [
    "env = gym.make('CartPole-v0')\n",
    "\n",
    "input_dim = env.observation_space.shape\n",
    "output_dim = env.action_space.n\n",
    "\n",
    "agent = Target_Agent(input_dim, output_dim)\n",
    "agent2 = Target_Agent(input_dim, output_dim)"
   ]
  },
  {
   "cell_type": "code",
   "execution_count": 6,
   "metadata": {
    "collapsed": false,
    "deletable": true,
    "editable": true
   },
   "outputs": [
    {
     "name": "stdout",
     "output_type": "stream",
     "text": [
      "Episode 200, reward = 13.0\n",
      "Episode 400, reward = 14.0\n",
      "Episode 600, reward = 12.0\n",
      "Episode 800, reward = 25.0\n",
      "Episode 1000, reward = 43.0\n",
      "Episode 1200, reward = 14.0\n",
      "Episode 1400, reward = 19.0\n",
      "Episode 1600, reward = 19.0\n",
      "Episode 1800, reward = 12.0\n",
      "Episode 2000, reward = 11.0\n",
      "Episode 2200, reward = 21.0\n",
      "Episode 2400, reward = 10.0\n",
      "Episode 2600, reward = 28.0\n",
      "Episode 2800, reward = 11.0\n",
      "Episode 3000, reward = 17.0\n",
      "Episode 3200, reward = 12.0\n",
      "Episode 3400, reward = 25.0\n",
      "Episode 3600, reward = 10.0\n",
      "Episode 3800, reward = 11.0\n",
      "Episode 4000, reward = 13.0\n",
      "Episode 4200, reward = 25.0\n",
      "Episode 4400, reward = 18.0\n",
      "Episode 4600, reward = 26.0\n",
      "Episode 4800, reward = 33.0\n",
      "Episode 5000, reward = 17.0\n",
      "Episode 5200, reward = 34.0\n",
      "Episode 5400, reward = 10.0\n",
      "Episode 5600, reward = 27.0\n",
      "Episode 5800, reward = 26.0\n",
      "Episode 6000, reward = 25.0\n",
      "Episode 6200, reward = 26.0\n",
      "Episode 6400, reward = 12.0\n",
      "Episode 6600, reward = 18.0\n",
      "Episode 6800, reward = 26.0\n",
      "Episode 7000, reward = 33.0\n",
      "Episode 7200, reward = 34.0\n",
      "Episode 7400, reward = 23.0\n",
      "Episode 7600, reward = 21.0\n",
      "Episode 7800, reward = 16.0\n",
      "Episode 8000, reward = 15.0\n",
      "Episode 8200, reward = 31.0\n",
      "Episode 8400, reward = 19.0\n",
      "Episode 8600, reward = 12.0\n",
      "Episode 8800, reward = 35.0\n",
      "Episode 9000, reward = 22.0\n",
      "Episode 9200, reward = 55.0\n",
      "Episode 9400, reward = 23.0\n",
      "Episode 9600, reward = 19.0\n",
      "Episode 9800, reward = 15.0\n",
      "Episode 10000, reward = 18.0\n",
      "Episode 10200, reward = 26.0\n",
      "Episode 10400, reward = 23.0\n",
      "Episode 10600, reward = 17.0\n",
      "Episode 10800, reward = 27.0\n",
      "Episode 11000, reward = 14.0\n",
      "Episode 11200, reward = 13.0\n",
      "Episode 11400, reward = 21.0\n",
      "Episode 11600, reward = 27.0\n",
      "Episode 11800, reward = 12.0\n",
      "Episode 12000, reward = 15.0\n",
      "Episode 12200, reward = 12.0\n",
      "Episode 12400, reward = 13.0\n",
      "Episode 12600, reward = 18.0\n",
      "Episode 12800, reward = 37.0\n",
      "Episode 13000, reward = 16.0\n",
      "Episode 13200, reward = 11.0\n",
      "Episode 13400, reward = 25.0\n",
      "Episode 13600, reward = 27.0\n",
      "Episode 13800, reward = 37.0\n",
      "Episode 14000, reward = 19.0\n",
      "Episode 14200, reward = 14.0\n",
      "Episode 14400, reward = 21.0\n",
      "Episode 14600, reward = 27.0\n",
      "Episode 14800, reward = 32.0\n",
      "Episode 15000, reward = 17.0\n"
     ]
    }
   ],
   "source": [
    "rewards = train(env, agent, episodes, gamma, update_freq, use_target=False)\n"
   ]
  },
  {
   "cell_type": "code",
   "execution_count": 7,
   "metadata": {
    "collapsed": false
   },
   "outputs": [
    {
     "name": "stdout",
     "output_type": "stream",
     "text": [
      "Episode 200, reward = 48.0\n",
      "Episode 400, reward = 26.0\n",
      "Episode 600, reward = 13.0\n",
      "Episode 800, reward = 20.0\n",
      "Episode 1000, reward = 14.0\n",
      "Episode 1200, reward = 20.0\n",
      "Episode 1400, reward = 47.0\n",
      "Episode 1600, reward = 28.0\n",
      "Episode 1800, reward = 27.0\n",
      "Episode 2000, reward = 27.0\n",
      "Episode 2200, reward = 16.0\n",
      "Episode 2400, reward = 16.0\n",
      "Episode 2600, reward = 30.0\n",
      "Episode 2800, reward = 11.0\n",
      "Episode 3000, reward = 22.0\n",
      "Episode 3200, reward = 24.0\n",
      "Episode 3400, reward = 32.0\n",
      "Episode 3600, reward = 14.0\n",
      "Episode 3800, reward = 14.0\n",
      "Episode 4000, reward = 14.0\n",
      "Episode 4200, reward = 18.0\n",
      "Episode 4400, reward = 22.0\n",
      "Episode 4600, reward = 12.0\n",
      "Episode 4800, reward = 20.0\n",
      "Episode 5000, reward = 17.0\n",
      "Episode 5200, reward = 27.0\n",
      "Episode 5400, reward = 25.0\n",
      "Episode 5600, reward = 38.0\n",
      "Episode 5800, reward = 15.0\n",
      "Episode 6000, reward = 10.0\n",
      "Episode 6200, reward = 21.0\n",
      "Episode 6400, reward = 15.0\n",
      "Episode 6600, reward = 17.0\n",
      "Episode 6800, reward = 10.0\n",
      "Episode 7000, reward = 17.0\n",
      "Episode 7200, reward = 14.0\n",
      "Episode 7400, reward = 23.0\n",
      "Episode 7600, reward = 20.0\n",
      "Episode 7800, reward = 33.0\n",
      "Episode 8000, reward = 21.0\n",
      "Episode 8200, reward = 16.0\n",
      "Episode 8400, reward = 19.0\n",
      "Episode 8600, reward = 32.0\n",
      "Episode 8800, reward = 26.0\n",
      "Episode 9000, reward = 63.0\n",
      "Episode 9200, reward = 34.0\n",
      "Episode 9400, reward = 20.0\n",
      "Episode 9600, reward = 17.0\n",
      "Episode 9800, reward = 33.0\n",
      "Episode 10000, reward = 30.0\n",
      "Episode 10200, reward = 26.0\n",
      "Episode 10400, reward = 15.0\n",
      "Episode 10600, reward = 15.0\n",
      "Episode 10800, reward = 64.0\n",
      "Episode 11000, reward = 18.0\n",
      "Episode 11200, reward = 34.0\n",
      "Episode 11400, reward = 11.0\n",
      "Episode 11600, reward = 20.0\n",
      "Episode 11800, reward = 19.0\n",
      "Episode 12000, reward = 12.0\n",
      "Episode 12200, reward = 12.0\n",
      "Episode 12400, reward = 15.0\n",
      "Episode 12600, reward = 18.0\n",
      "Episode 12800, reward = 37.0\n",
      "Episode 13000, reward = 18.0\n",
      "Episode 13200, reward = 17.0\n",
      "Episode 13400, reward = 15.0\n",
      "Episode 13600, reward = 30.0\n",
      "Episode 13800, reward = 33.0\n",
      "Episode 14000, reward = 28.0\n",
      "Episode 14200, reward = 15.0\n",
      "Episode 14400, reward = 26.0\n",
      "Episode 14600, reward = 25.0\n",
      "Episode 14800, reward = 21.0\n",
      "Episode 15000, reward = 20.0\n"
     ]
    }
   ],
   "source": [
    "rewards_target = train(env, agent2, episodes, gamma, update_freq)"
   ]
  },
  {
   "cell_type": "code",
   "execution_count": 8,
   "metadata": {
    "collapsed": false,
    "deletable": true,
    "editable": true
   },
   "outputs": [
    {
     "data": {
      "image/png": "[encoded data removed]",
      "text/plain": [
       "<matplotlib.figure.Figure at 0x7f8997aec0f0>"
      ]
     },
     "metadata": {},
     "output_type": "display_data"
    }
   ],
   "source": [
    "pd.Series(rewards).rolling(window=100).mean().plot(label='no target')\n",
    "pd.Series(rewards_target).rolling(window=100).mean().plot(label='with target')\n",
    "plt.legend()\n",
    "plt.show()"
   ]
  },
  {
   "cell_type": "code",
   "execution_count": 9,
   "metadata": {
    "collapsed": false,
    "deletable": true,
    "editable": true
   },
   "outputs": [
    {
     "name": "stdout",
     "output_type": "stream",
     "text": [
      "Average (with target network) = 9.42\n"
     ]
    }
   ],
   "source": [
    "ave_with_target = agent.evaluate(env, 100)\n",
    "print('Average (with target network) = {}'.format(ave_with_target))\n"
   ]
  },
  {
   "cell_type": "code",
   "execution_count": 10,
   "metadata": {
    "collapsed": false
   },
   "outputs": [],
   "source": [
    "for i in range(100):\n",
    "    s = env.reset()\n",
    "    done = False\n",
    "    while not done:\n",
    "        env.render()\n",
    "        a = agent2.act(s.astype(np.float32))\n",
    "        s, r, done, info = env.step(a)"
   ]
  },
  {
   "cell_type": "code",
   "execution_count": 11,
   "metadata": {
    "collapsed": true
   },
   "outputs": [],
   "source": [
    "env.close()"
   ]
  }
 ],
 "metadata": {
  "kernelspec": {
   "display_name": "Python 3",
   "language": "python",
   "name": "python3"
  },
  "language_info": {
   "codemirror_mode": {
    "name": "ipython",
    "version": 3
   },
   "file_extension": ".py",
   "mimetype": "text/x-python",
   "name": "python",
   "nbconvert_exporter": "python",
   "pygments_lexer": "ipython3",
   "version": "3.5.2"
  }
 },
 "nbformat": 4,
 "nbformat_minor": 2
}
