{
 "cells": [
  {
   "cell_type": "code",
   "execution_count": 1,
   "metadata": {
    "collapsed": true,
    "deletable": true,
    "editable": true
   },
   "outputs": [],
   "source": [
    "import math\n",
    "import numpy as np\n",
    "import pandas as pd\n",
    "import matplotlib.pyplot as plt\n",
    "import gym\n",
    "import cntk\n",
    "from cntk import *\n",
    "from cntk.layers import *"
   ]
  },
  {
   "cell_type": "markdown",
   "metadata": {
    "deletable": true,
    "editable": true
   },
   "source": [
    "### Some comments about replay buffer implementation"
   ]
  },
  {
   "cell_type": "code",
   "execution_count": 2,
   "metadata": {
    "collapsed": true,
    "deletable": true,
    "editable": true
   },
   "outputs": [],
   "source": [
    "class ReplayBuffer: \n",
    "    \"\"\"\n",
    "    Fixed capacity buffer implemented as circular queue\n",
    "    Transitions are stored as (s, a, r, s', done) tuples\n",
    "    \"\"\"\n",
    "    def __init__(self, capacity):\n",
    "        self.samples = np.ndarray(capacity, dtype=object)\n",
    "        self.capacity = capacity\n",
    "        self.counter = 0\n",
    "        self.flag = False\n",
    "        \n",
    "    def size(self):\n",
    "        if self.flag:\n",
    "            return self.capacity\n",
    "        else:\n",
    "            return self.counter\n",
    "        \n",
    "    def add(self, sample):\n",
    "        self.samples[self.counter] = sample\n",
    "        \n",
    "        self.counter += 1\n",
    "        if self.counter >= self.capacity:\n",
    "            self.counter = 0\n",
    "            self.flag = True\n",
    "            \n",
    "    def sample(self, n):\n",
    "        n = min(n, self.size())\n",
    "        \n",
    "        size = self.size()\n",
    "        if size < self.capacity:\n",
    "            return np.random.choice(self.samples[:size], n, replace=False)\n",
    "        else:\n",
    "            return np.random.choice(self.samples, n, replace=False)"
   ]
  },
  {
   "cell_type": "code",
   "execution_count": 3,
   "metadata": {
    "collapsed": false,
    "deletable": true,
    "editable": true
   },
   "outputs": [],
   "source": [
    "class Agent:\n",
    "    def __init__(self, state_dim, action_dim, learning_rate):\n",
    "        self.state_dim = state_dim\n",
    "        self.action_dim = action_dim\n",
    "        self.learning_rate = learning_rate\n",
    "        self.epsilon = 1.0\n",
    "        \n",
    "        # Create the neural network\n",
    "        self.state_var = input(state_dim, np.float32)\n",
    "        self.action_var = input(action_dim, np.float32)\n",
    "        \n",
    "        self.model = Sequential([\n",
    "            Dense(64, activation=relu),\n",
    "            Dense(action_dim)\n",
    "        ])(self.state_var)\n",
    "        \n",
    "        loss = reduce_mean(square(self.model - self.action_var), axis=0)\n",
    "        lr_schedule = learning_rate_schedule(self.learning_rate, UnitType.sample)\n",
    "        learner = sgd(self.model.parameters, lr_schedule)\n",
    "        self.trainer = Trainer(self.model, loss, learner)\n",
    "    \n",
    "    def predict(self, state):\n",
    "        \"\"\"\n",
    "        Feeds a state through our model to obtain the values of each action\n",
    "        \"\"\"\n",
    "        return self.model.eval(state)\n",
    "    \n",
    "    def act(self, state):\n",
    "        \"\"\"\n",
    "        Selects an action using the epoch-greedy approach\n",
    "        \"\"\"\n",
    "        prob = np.random.randn(1)\n",
    "        if prob > self.epsilon:\n",
    "            # exploit (greedy)\n",
    "            return np.argmax(self.predict(state))\n",
    "        else:\n",
    "            # explore (random action)\n",
    "            return np.random.randint(0, self.action_dim)\n",
    "        \n",
    "    def update_epsilon(self, episode):\n",
    "        \"\"\"\n",
    "        Updates epsilon using exponential decay with the decay rate chosen such\n",
    "        that epsilon is 0.05 by episode 8000\n",
    "        \"\"\"\n",
    "        self.epsilon = max(math.exp(-3.74e-4 * episode), 0.05)\n",
    "        \n",
    "    def train(self, x, y):\n",
    "        \"\"\"\n",
    "        Performs a single gradient descent step using the provided state and target\n",
    "        \"\"\"\n",
    "        self.trainer.train_minibatch({self.state_var: x, self.action_var: y})\n",
    "        \n",
    "    def evaluate(self, env, n):\n",
    "        \"\"\"\n",
    "        Computes the average performance of the trained model over n episodes\n",
    "        \"\"\"\n",
    "        episode = 0\n",
    "        rewards = 0\n",
    "        while episode < n:\n",
    "            s = env.reset()\n",
    "            done = False\n",
    "            while not done:\n",
    "                a = np.argmax(self.predict(s.astype(np.float32)))\n",
    "                s, r, done, info = env.step(a)\n",
    "                rewards += r\n",
    "            episode += 1\n",
    "            \n",
    "        return rewards / float(n)"
   ]
  },
  {
   "cell_type": "code",
   "execution_count": 4,
   "metadata": {
    "collapsed": true,
    "deletable": true,
    "editable": true
   },
   "outputs": [],
   "source": [
    "def initialize_buffer(env, buffer):\n",
    "    \"\"\"\n",
    "    Initializes the replay buffer using experiences generated by taking random actions\n",
    "    \"\"\"\n",
    "    actions = env.action_space.n\n",
    "    s = env.reset()\n",
    "    \n",
    "    while buffer.size() < buffer.capacity:\n",
    "        a = np.random.randint(0, actions)\n",
    "        s_, r, done, info = env.step(a)\n",
    "        \n",
    "        buffer.add((s, a, r, s_, done))\n",
    "        \n",
    "        if done:\n",
    "            s = env.reset()\n",
    "        else:\n",
    "            s = s_"
   ]
  },
  {
   "cell_type": "code",
   "execution_count": 5,
   "metadata": {
    "collapsed": true,
    "deletable": true,
    "editable": true
   },
   "outputs": [],
   "source": [
    "def train(env, agent, buffer, episodes, gamma, minibatch_size):\n",
    "    \"\"\"\n",
    "    param env: The gym environment to train with\n",
    "    param agent: The agent to train\n",
    "    param buffer: The replay buffer to sample experiences from\n",
    "    param episodes: The number of episodes to train for\n",
    "    param gamma: The discount factor\n",
    "    param minibatch_size: The number of transitions to sample for training\n",
    "    \"\"\"\n",
    "    episode = 0\n",
    "    rewards = 0\n",
    "    log_freq = 200\n",
    "    episode_rewards = []\n",
    "    s = env.reset().astype(np.float32)\n",
    "    \n",
    "    while episode < episodes:\n",
    "        # Select an action using policy derived from Q (e-greedy)\n",
    "        a = agent.act(s)\n",
    "        \n",
    "        # Take action and observe the next state and reward\n",
    "        s_, r, done, info = env.step(a)\n",
    "        s_ = s_.astype(np.float32)\n",
    "        \n",
    "        # Store transition in replay buffer\n",
    "        buffer.add((s, a, r, s_, done))\n",
    "        \n",
    "        s = s_\n",
    "        rewards += r\n",
    "        \n",
    "        # Sample random transitions from replay buffer\n",
    "        batch = buffer.sample(minibatch_size)\n",
    "        \n",
    "        # Compute targets, y_i\n",
    "        states = np.array([obs[0] for obs in batch], dtype=np.float32)\n",
    "        states_ = np.array([obs[3] for obs in batch], dtype=np.float32)\n",
    "        \n",
    "        y = agent.predict(states)\n",
    "        q_next = agent.predict(states_)\n",
    "        \n",
    "        for i in range(minibatch_size):\n",
    "            p, a, r, p_, d = batch[i]\n",
    "            if d:\n",
    "                y[i, a] = r\n",
    "            else:\n",
    "                y[i, a] = r + gamma * np.amax(q_next[i])\n",
    "        \n",
    "        # Train using state and computed target\n",
    "        agent.train(states, y)\n",
    "        \n",
    "        if done:\n",
    "            # Episode over, reset environment\n",
    "            episode_rewards.append(rewards)\n",
    "            rewards = 0\n",
    "            \n",
    "            episode += 1\n",
    "            agent.update_epsilon(episode)\n",
    "            s = env.reset().astype(np.float32)\n",
    "            \n",
    "            if episode % log_freq == 0:\n",
    "                ave = sum(episode_rewards[(episode - log_freq):]) / float(log_freq)\n",
    "                print('Episode = {}, Average rewards = {}'.format(episode, ave))\n",
    "                \n",
    "    return episode_rewards"
   ]
  },
  {
   "cell_type": "code",
   "execution_count": 6,
   "metadata": {
    "collapsed": false,
    "deletable": true,
    "editable": true
   },
   "outputs": [],
   "source": [
    "gamma = 0.60\n",
    "learning_rate = 0.00025\n",
    "episodes = 10000\n",
    "buffer_capacity = 32\n",
    "minibatch_size = 8"
   ]
  },
  {
   "cell_type": "code",
   "execution_count": 7,
   "metadata": {
    "collapsed": false,
    "deletable": true,
    "editable": true
   },
   "outputs": [
    {
     "name": "stderr",
     "output_type": "stream",
     "text": [
      "[2017-04-21 16:02:41,655] Making new env: CartPole-v0\n"
     ]
    }
   ],
   "source": [
    "env = gym.make('CartPole-v0')\n",
    "state_dim = env.observation_space.shape\n",
    "action_dim = env.action_space.n "
   ]
  },
  {
   "cell_type": "code",
   "execution_count": 8,
   "metadata": {
    "collapsed": true,
    "deletable": true,
    "editable": true
   },
   "outputs": [],
   "source": [
    "buffer = ReplayBuffer(buffer_capacity)\n",
    "agent = Agent(state_dim, action_dim, learning_rate)"
   ]
  },
  {
   "cell_type": "code",
   "execution_count": 9,
   "metadata": {
    "collapsed": false,
    "deletable": true,
    "editable": true
   },
   "outputs": [
    {
     "name": "stdout",
     "output_type": "stream",
     "text": [
      "Episode = 200, Average rewards = 19.32\n",
      "Episode = 400, Average rewards = 21.325\n",
      "Episode = 600, Average rewards = 28.395\n",
      "Episode = 800, Average rewards = 30.76\n",
      "Episode = 1000, Average rewards = 33.595\n",
      "Episode = 1200, Average rewards = 34.285\n",
      "Episode = 1400, Average rewards = 35.105\n",
      "Episode = 1600, Average rewards = 39.34\n",
      "Episode = 1800, Average rewards = 39.99\n",
      "Episode = 2000, Average rewards = 40.285\n",
      "Episode = 2200, Average rewards = 36.96\n",
      "Episode = 2400, Average rewards = 46.825\n",
      "Episode = 2600, Average rewards = 47.305\n",
      "Episode = 2800, Average rewards = 50.95\n",
      "Episode = 3000, Average rewards = 51.245\n",
      "Episode = 3200, Average rewards = 60.1\n",
      "Episode = 3400, Average rewards = 61.915\n",
      "Episode = 3600, Average rewards = 60.69\n",
      "Episode = 3800, Average rewards = 65.125\n",
      "Episode = 4000, Average rewards = 62.395\n",
      "Episode = 4200, Average rewards = 63.98\n",
      "Episode = 4400, Average rewards = 67.3\n",
      "Episode = 4600, Average rewards = 67.235\n",
      "Episode = 4800, Average rewards = 70.525\n",
      "Episode = 5000, Average rewards = 68.465\n",
      "Episode = 5200, Average rewards = 81.52\n",
      "Episode = 5400, Average rewards = 70.455\n",
      "Episode = 5600, Average rewards = 75.525\n",
      "Episode = 5800, Average rewards = 73.505\n",
      "Episode = 6000, Average rewards = 73.905\n",
      "Episode = 6200, Average rewards = 76.04\n",
      "Episode = 6400, Average rewards = 82.365\n",
      "Episode = 6600, Average rewards = 83.105\n",
      "Episode = 6800, Average rewards = 76.205\n",
      "Episode = 7000, Average rewards = 78.305\n",
      "Episode = 7200, Average rewards = 71.89\n",
      "Episode = 7400, Average rewards = 78.555\n",
      "Episode = 7600, Average rewards = 75.905\n",
      "Episode = 7800, Average rewards = 81.67\n",
      "Episode = 8000, Average rewards = 85.595\n",
      "Episode = 8200, Average rewards = 80.545\n",
      "Episode = 8400, Average rewards = 79.615\n",
      "Episode = 8600, Average rewards = 86.22\n",
      "Episode = 8800, Average rewards = 93.765\n",
      "Episode = 9000, Average rewards = 74.775\n",
      "Episode = 9200, Average rewards = 78.115\n",
      "Episode = 9400, Average rewards = 86.06\n",
      "Episode = 9600, Average rewards = 82.97\n",
      "Episode = 9800, Average rewards = 89.505\n",
      "Episode = 10000, Average rewards = 87.645\n"
     ]
    }
   ],
   "source": [
    "initialize_buffer(env, buffer)\n",
    "rewards = train(env, agent, buffer, episodes, gamma, minibatch_size)"
   ]
  },
  {
   "cell_type": "code",
   "execution_count": 14,
   "metadata": {
    "collapsed": true,
    "deletable": true,
    "editable": true
   },
   "outputs": [],
   "source": [
    "buffer2 = ReplayBuffer(1)\n",
    "agent2 = Agent(state_dim, action_dim, learning_rate)"
   ]
  },
  {
   "cell_type": "code",
   "execution_count": 15,
   "metadata": {
    "collapsed": false,
    "deletable": true,
    "editable": true
   },
   "outputs": [
    {
     "name": "stdout",
     "output_type": "stream",
     "text": [
      "Episode = 200, Average rewards = 20.685\n",
      "Episode = 400, Average rewards = 20.825\n",
      "Episode = 600, Average rewards = 21.85\n",
      "Episode = 800, Average rewards = 19.03\n",
      "Episode = 1000, Average rewards = 19.39\n",
      "Episode = 1200, Average rewards = 19.575\n",
      "Episode = 1400, Average rewards = 31.09\n",
      "Episode = 1600, Average rewards = 34.495\n",
      "Episode = 1800, Average rewards = 32.2\n",
      "Episode = 2000, Average rewards = 29.15\n",
      "Episode = 2200, Average rewards = 34.545\n",
      "Episode = 2400, Average rewards = 40.54\n",
      "Episode = 2600, Average rewards = 41.34\n",
      "Episode = 2800, Average rewards = 43.715\n",
      "Episode = 3000, Average rewards = 45.525\n",
      "Episode = 3200, Average rewards = 47.57\n",
      "Episode = 3400, Average rewards = 47.61\n",
      "Episode = 3600, Average rewards = 47.385\n",
      "Episode = 3800, Average rewards = 50.05\n",
      "Episode = 4000, Average rewards = 50.3\n",
      "Episode = 4200, Average rewards = 51.7\n",
      "Episode = 4400, Average rewards = 50.56\n",
      "Episode = 4600, Average rewards = 56.615\n",
      "Episode = 4800, Average rewards = 60.75\n",
      "Episode = 5000, Average rewards = 52.155\n",
      "Episode = 5200, Average rewards = 57.385\n",
      "Episode = 5400, Average rewards = 61.025\n",
      "Episode = 5600, Average rewards = 55.935\n",
      "Episode = 5800, Average rewards = 57.235\n",
      "Episode = 6000, Average rewards = 63.245\n",
      "Episode = 6200, Average rewards = 61.62\n",
      "Episode = 6400, Average rewards = 57.415\n",
      "Episode = 6600, Average rewards = 69.035\n",
      "Episode = 6800, Average rewards = 58.99\n",
      "Episode = 7000, Average rewards = 59.81\n",
      "Episode = 7200, Average rewards = 66.84\n",
      "Episode = 7400, Average rewards = 67.925\n",
      "Episode = 7600, Average rewards = 64.075\n",
      "Episode = 7800, Average rewards = 60.71\n",
      "Episode = 8000, Average rewards = 54.55\n",
      "Episode = 8200, Average rewards = 50.25\n",
      "Episode = 8400, Average rewards = 53.48\n",
      "Episode = 8600, Average rewards = 56.805\n",
      "Episode = 8800, Average rewards = 57.495\n",
      "Episode = 9000, Average rewards = 62.735\n",
      "Episode = 9200, Average rewards = 63.61\n",
      "Episode = 9400, Average rewards = 64.86\n",
      "Episode = 9600, Average rewards = 60.675\n",
      "Episode = 9800, Average rewards = 67.005\n",
      "Episode = 10000, Average rewards = 65.67\n"
     ]
    }
   ],
   "source": [
    "rewards2 = train(env, agent2, buffer, episodes, gamma, 1)"
   ]
  },
  {
   "cell_type": "code",
   "execution_count": 16,
   "metadata": {
    "collapsed": false,
    "deletable": true,
    "editable": true
   },
   "outputs": [
    {
     "data": {
      "image/png": "[encoded data removed]",
      "text/plain": [
       "<matplotlib.figure.Figure at 0x7f1ff7a226a0>"
      ]
     },
     "metadata": {},
     "output_type": "display_data"
    }
   ],
   "source": [
    "pd.Series(rewards).rolling(window=100).mean().plot(label='with experience replay')\n",
    "pd.Series(rewards2).rolling(window=100).mean().plot(label='without experience replay')\n",
    "plt.legend()\n",
    "plt.show()"
   ]
  },
  {
   "cell_type": "code",
   "execution_count": 17,
   "metadata": {
    "collapsed": false,
    "deletable": true,
    "editable": true
   },
   "outputs": [
    {
     "name": "stdout",
     "output_type": "stream",
     "text": [
      "Average reward (without experience replay) = 134.37\n",
      "Average reward (with experience replay) = 177.94\n"
     ]
    }
   ],
   "source": [
    "eval_episodes = 100\n",
    "ave_er = agent.evaluate(env, eval_episodes)\n",
    "ave_no_er = agent2.evaluate(env, eval_episodes)\n",
    "print('Average reward (without experience replay) = {}'.format(ave_no_er))\n",
    "print('Average reward (with experience replay) = {}'.format(ave_er))\n"
   ]
  },
  {
   "cell_type": "code",
   "execution_count": 21,
   "metadata": {
    "collapsed": true,
    "deletable": true,
    "editable": true
   },
   "outputs": [],
   "source": [
    "s = env.reset()\n",
    "done = False\n",
    "while not done:\n",
    "    env.render()\n",
    "    a = np.argmax(agent2.predict(s.astype(np.float32)))\n",
    "    s, r, done, info = env.step(a)"
   ]
  },
  {
   "cell_type": "code",
   "execution_count": null,
   "metadata": {
    "collapsed": true,
    "deletable": true,
    "editable": true
   },
   "outputs": [],
   "source": [
    "env.close()"
   ]
  }
 ],
 "metadata": {
  "kernelspec": {
   "display_name": "Python 3",
   "language": "python",
   "name": "python3"
  },
  "language_info": {
   "codemirror_mode": {
    "name": "ipython",
    "version": 3
   },
   "file_extension": ".py",
   "mimetype": "text/x-python",
   "name": "python",
   "nbconvert_exporter": "python",
   "pygments_lexer": "ipython3",
   "version": "3.5.2"
  }
 },
 "nbformat": 4,
 "nbformat_minor": 2
}
