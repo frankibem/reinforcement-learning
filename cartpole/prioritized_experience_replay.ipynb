{
 "cells": [
  {
   "cell_type": "markdown",
   "metadata": {
    "deletable": true,
    "editable": true
   },
   "source": [
    "## Prioritized Experience Replay\n",
    "In the original DQN paper (and implementation), random transitions were sampled uniformly from the replay buffer and used for learning. Naturally the next question to ask is, \"can we sample some other way and expect better performance?\" That is, can we learn more from some transitions than from others? To draw a parallel, envision some task you're accustomed to performing with an expected outcome. If someday you perform this same task but achieve some wildly different outcome, you'd stop to reevaluate the situation. You'd think long and hard trying to come up with an explanation (adjusting your model) for this unexpected event. This is same idea behind prioritized experience replay. We assign some priority to transitions and when it's time to sample, we choose the transitions with the highest priorities because we expect to learn more from them.\n",
    "\n",
    "In [1], the TD error, $\\delta_i$, of a transition is used to compute its priority. The authors stated that it \"indicates how surprising or unexpected the transition is.\" Two methods for assigning priority are given:\n",
    "\n",
    "Proportional Prioritization: $p_i = |\\delta_i| + \\epsilon$\n",
    "\n",
    "Rank Prioritization: $p_i = \\frac{1}{rank(i)}$\n",
    "\n",
    "where $\\delta_i$ is the TD error, $\\epsilon$ is a small constant and rank(i) is the rank of transition i when the replay buffer is sorted according to $|\\delta_i|$\n",
    "\n",
    "For rank proritization, a priority queue can be used. For proportional prioritization, the authors have used the sum tree data structure with the property that the value of all internal nodes are the sum of their respective children. Thus, the root node's value is the sum of all leaf nodes. See sumtree.ipynb for an understanding of how the sum tree works. Below I compare the performance of an agent on the CartPole problem using uniform sampling and with prioritized sampling."
   ]
  },
  {
   "cell_type": "code",
   "execution_count": 1,
   "metadata": {
    "collapsed": true
   },
   "outputs": [],
   "source": [
    "import math\n",
    "import random\n",
    "import numpy as np\n",
    "import pandas as pd\n",
    "import matplotlib.pyplot as plt\n",
    "import gym\n",
    "import cntk\n",
    "from cntk.layers import *\n",
    "from sumtree import SumTree\n",
    "%matplotlib inline"
   ]
  },
  {
   "cell_type": "code",
   "execution_count": 2,
   "metadata": {
    "collapsed": true
   },
   "outputs": [],
   "source": [
    "class UniformBuffer: \n",
    "    \"\"\"\n",
    "    Fixed capacity buffer implemented as circular queue\n",
    "    Transitions are stored as (s, a, r, s', done) tuples\n",
    "    \"\"\"\n",
    "    def __init__(self, capacity):\n",
    "        self.samples = np.ndarray(capacity, dtype=object)\n",
    "        self.capacity = capacity\n",
    "        self.counter = 0\n",
    "        self.flag = False\n",
    "        \n",
    "    def size(self):\n",
    "        if self.flag:\n",
    "            return self.capacity\n",
    "        else:\n",
    "            return self.counter\n",
    "        \n",
    "    def add(self, sample):\n",
    "        self.samples[self.counter] = sample\n",
    "        \n",
    "        self.counter += 1\n",
    "        if self.counter >= self.capacity:\n",
    "            self.counter = 0\n",
    "            self.flag = True\n",
    "            \n",
    "    def sample(self, n):\n",
    "        n = min(n, self.size())\n",
    "        \n",
    "        size = self.size()\n",
    "        if size < self.capacity:\n",
    "            return np.random.choice(self.samples[:size], n, replace=False)\n",
    "        else:\n",
    "            return np.random.choice(self.samples, n, replace=False)"
   ]
  },
  {
   "cell_type": "code",
   "execution_count": 3,
   "metadata": {
    "collapsed": true
   },
   "outputs": [],
   "source": [
    "class PrioritizedBuffer:\n",
    "    \"\"\"\n",
    "    Stores transitions as (s, a, r, s_, done) tuples using a SumTree.\n",
    "    Each sample is assigned a priority which affects retrieval\n",
    "    \"\"\"\n",
    "\n",
    "    def __init__(self, capacity, e=0.01, a=0.6):\n",
    "        \"\"\"        \n",
    "        :param capacity: The maximum number of samples that can be stored\n",
    "        :param e: Ensures that no sample has 0 priority\n",
    "        :param a: \n",
    "        \"\"\"\n",
    "        self.capacity = capacity\n",
    "        self.e = e\n",
    "        self.a = a\n",
    "        self.counter = 0\n",
    "        self.flag = False\n",
    "\n",
    "        self.tree = SumTree(capacity)\n",
    "        \n",
    "    def size(self):\n",
    "        if self.flag:\n",
    "            return self.capacity\n",
    "        else:\n",
    "            return self.counter\n",
    "\n",
    "    def _getPriority(self, error):\n",
    "        return (error + self.e) ** self.a\n",
    "\n",
    "    def add(self, error, sample):\n",
    "        \"\"\"\n",
    "        Adds a new sample to the buffer\n",
    "        :param error: The error associated with the sample\n",
    "        :param sample: The sample to add \n",
    "        \"\"\"\n",
    "        p = self._getPriority(error)\n",
    "        self.tree.add(p, sample)\n",
    "        \n",
    "        self.counter += 1\n",
    "        if self.counter >= self.capacity:\n",
    "            self.counter = 0\n",
    "            self.flag = True    \n",
    "\n",
    "    def sample(self, n):\n",
    "        \"\"\"\n",
    "        Returns n samples from the buffer\n",
    "        :param n: The number of samples to return\n",
    "        \"\"\"\n",
    "        batch = []\n",
    "        segment = self.tree.total() / n\n",
    "\n",
    "        for i in range(n):\n",
    "            a = segment * i\n",
    "            b = segment * (i + 1)\n",
    "\n",
    "            s = random.uniform(a, b)\n",
    "            (idx, p, data) = self.tree.get(s)\n",
    "            batch.append((idx, data))\n",
    "\n",
    "        return batch\n",
    "\n",
    "    def update(self, idx, error):\n",
    "        p = self._getPriority(error)\n",
    "        self.tree.update(idx, p)"
   ]
  },
  {
   "cell_type": "code",
   "execution_count": 4,
   "metadata": {
    "collapsed": true
   },
   "outputs": [],
   "source": [
    "class Agent:\n",
    "    def __init__(self, state_dim, action_dim, learning_rate):\n",
    "        self.state_dim = state_dim\n",
    "        self.action_dim = action_dim\n",
    "        self.learning_rate = learning_rate\n",
    "        self.epsilon = 1\n",
    "        \n",
    "        # Create the model and set up trainer\n",
    "        self.state_var = input(self.state_dim, np.float32)\n",
    "        self.action_var = input(self.action_dim, np.float32)\n",
    "        \n",
    "        self.online_model = Sequential([\n",
    "            Dense(64, activation=cntk.relu),\n",
    "            Dense(self.action_dim)\n",
    "        ])(self.state_var)\n",
    "\n",
    "        loss = cntk.reduce_mean(cntk.square(self.online_model - self.action_var), axis=0)\n",
    "        lr_schedule = cntk.learning_rate_schedule(self.learning_rate, cntk.UnitType.sample)\n",
    "        learner = cntk.sgd(self.online_model.parameters, lr_schedule)\n",
    "        self.trainer = cntk.Trainer(self.online_model, loss, learner)\n",
    "        \n",
    "        # Create target network and initialize with same weights\n",
    "        self.target_model = None\n",
    "        self.update_target()\n",
    "    \n",
    "    def update_target(self):\n",
    "        \"\"\"\n",
    "        Updates the target network using the online network weights\n",
    "        \"\"\"\n",
    "        self.target_model = self.online_model.clone(cntk.CloneMethod.clone)\n",
    "        \n",
    "    def update_epsilon(self, episode):\n",
    "        \"\"\"\n",
    "        Updates epsilon using exponential decay with the decay rate chosen such\n",
    "        that epsilon is 0.05 by episode 8000\n",
    "        \"\"\"\n",
    "        self.epsilon = max(math.exp(-3.74e-4 * episode), 0.05)\n",
    "        \n",
    "    def predict(self, s, target=False):\n",
    "        \"\"\"\n",
    "        Feeds a state through the model (our network) and obtains the values of each action\n",
    "        \"\"\"\n",
    "        if target:\n",
    "            return self.target_model.eval(s)\n",
    "        else:\n",
    "            return self.online_model.eval(s)\n",
    "        \n",
    "    def act(self, state):\n",
    "        \"\"\"\n",
    "        Selects an action using the epoch-greedy approach\n",
    "        \"\"\"\n",
    "        prob = np.random.randn(1)\n",
    "        if prob > self.epsilon:\n",
    "            # exploit (greedy)\n",
    "            return np.argmax(self.predict(state))\n",
    "        else:\n",
    "            # explore (random action)\n",
    "            return np.random.randint(0, self.action_dim)\n",
    "        \n",
    "    def train(self, x, y):\n",
    "        \"\"\"\n",
    "        Performs a single gradient descent step using the provided states and targets\n",
    "        \"\"\"\n",
    "        self.trainer.train_minibatch({self.state_var: x, self.action_var: y})\n",
    "        \n",
    "    def evaluate(self, env, n):\n",
    "        \"\"\"\n",
    "        Computes the average performance of the trained model over n episodes\n",
    "        \"\"\"\n",
    "        episode = 0\n",
    "        rewards = 0\n",
    "        while episode < n:\n",
    "            s = env.reset()\n",
    "            done = False\n",
    "            while not done:\n",
    "                a = np.argmax(self.predict(s.astype(np.float32)))\n",
    "                s, r, done, info = env.step(a)\n",
    "                rewards += r\n",
    "            episode += 1\n",
    "            \n",
    "        return rewards / float(n)"
   ]
  },
  {
   "cell_type": "code",
   "execution_count": 5,
   "metadata": {
    "collapsed": true
   },
   "outputs": [],
   "source": [
    "def get_targets(agent, batch, per=False):\n",
    "    \"\"\"\n",
    "    Computes the targets for the given transition batch and their TD error\n",
    "    \"\"\"\n",
    "    errors = np.zeros(len(batch), dtype=np.float32)\n",
    "    states = np.array([obs[1][0] if per else obs[0] for obs in batch], dtype=np.float32)\n",
    "    states_ = np.array([obs[1][3] if per else obs[3] for obs in batch], dtype=np.float32)\n",
    "    \n",
    "    y = agent.predict(states)\n",
    "    q_next = agent.predict(states_)\n",
    "    q_next_target = agent.predict(states_, target=True)\n",
    "    \n",
    "    for i in range(len(batch)):\n",
    "        p, a, r, p_, d = batch[i][1] if per else batch[i]\n",
    "        old_value = y[i, a]\n",
    "        if d:\n",
    "            y[i, a] = r\n",
    "        else:\n",
    "            y[i, a] = r + gamma * q_next_target[i][np.argmax(q_next[i])]\n",
    "            \n",
    "        if per:\n",
    "            # Compute the TD error\n",
    "            errors[i] = abs(old_value - y[i, a])\n",
    "            \n",
    "    return states, y, errors"
   ]
  },
  {
   "cell_type": "code",
   "execution_count": 6,
   "metadata": {
    "collapsed": true
   },
   "outputs": [],
   "source": [
    "def initialize_buffer(env, buffer, per=False):\n",
    "    \"\"\"\n",
    "    Initializes the replay buffer using experiences generated by taking random actions\n",
    "    \"\"\"\n",
    "    actions = env.action_space.n\n",
    "    s = env.reset()\n",
    "    \n",
    "    while buffer.size() < buffer.capacity:\n",
    "        a = np.random.randint(0, actions)\n",
    "        s_, r, done, info = env.step(a)\n",
    "        sample = (s, a, r, s_, done)\n",
    "        \n",
    "        if per:\n",
    "            buffer.add(abs(r), sample)\n",
    "        else:        \n",
    "            buffer.add(sample)\n",
    "        \n",
    "        if done:\n",
    "            s = env.reset()\n",
    "        else:\n",
    "            s = s_"
   ]
  },
  {
   "cell_type": "code",
   "execution_count": 7,
   "metadata": {
    "collapsed": true
   },
   "outputs": [],
   "source": [
    "def train(env, agent, buffer, episodes, gamma, minibatch_size, update_freq, per=False):\n",
    "    \"\"\"\n",
    "    param env: The gym environment to train with\n",
    "    param agent: The agent to train\n",
    "    param buffer: The replay buffer to sample experiences from\n",
    "    param episodes: The number of episodes to train for\n",
    "    param gamma: The discount factor\n",
    "    param minibatch_size: The number of transitions to sample for \n",
    "    param update_freq: The frequency at which to update the target network\n",
    "    param ddqn: If true, uses prioritized experience replay to sample minibatch\n",
    "    \"\"\"\n",
    "    episode = 0\n",
    "    rewards = 0\n",
    "    log_freq = 200\n",
    "    episode_rewards = []\n",
    "    s = env.reset().astype(np.float32)\n",
    "    \n",
    "    while episode < episodes:\n",
    "        # Select an action using policy derived from Q (e-greedy)\n",
    "        a = agent.act(s)\n",
    "        \n",
    "        # Take action and observe the next state and reward\n",
    "        s_, r, done, info = env.step(a)\n",
    "        s_ = s_.astype(np.float32)\n",
    "        \n",
    "        # Store transition in replay buffer\n",
    "        sample = (s, a, r, s_, done)\n",
    "        if not per:\n",
    "            buffer.add(sample)\n",
    "        else:\n",
    "            x, y, error = get_targets(agent, [(0, sample)], per)\n",
    "            buffer.add(error, sample)     \n",
    "        \n",
    "        s = s_\n",
    "        rewards += r\n",
    "        \n",
    "        # Sample random transitions from replay buffer\n",
    "        batch = buffer.sample(minibatch_size)\n",
    "        \n",
    "        # Compute targets, y_i\n",
    "        states, y, errors = get_targets(agent, batch, per)\n",
    "        \n",
    "        if per:\n",
    "            # Update transition priorities\n",
    "            for i in range(minibatch_size):\n",
    "                buffer.update(batch[i][0], errors[i])\n",
    "        \n",
    "        # Train using state and computed target\n",
    "        agent.train(states, y)\n",
    "        \n",
    "        if done:\n",
    "            # Episode over, reset environment\n",
    "            episode_rewards.append(rewards)\n",
    "            rewards = 0\n",
    "            \n",
    "            episode += 1\n",
    "            agent.update_epsilon(episode)\n",
    "            s = env.reset().astype(np.float32)\n",
    "            \n",
    "            if episode % log_freq == 0:\n",
    "                ave = sum(episode_rewards[(episode - log_freq):]) / float(log_freq)\n",
    "                print('Episode = {}, Average rewards = {}'.format(episode, ave))\n",
    "                \n",
    "            if episode % update_freq == 0:\n",
    "                agent.update_target()                \n",
    "                \n",
    "    return episode_rewards"
   ]
  },
  {
   "cell_type": "code",
   "execution_count": 8,
   "metadata": {
    "collapsed": true
   },
   "outputs": [],
   "source": [
    "gamma = 0.60\n",
    "learning_rate = 0.00025\n",
    "episodes = 10000\n",
    "buffer_capacity = 32\n",
    "minibatch_size = 8\n",
    "update_freq = 500"
   ]
  },
  {
   "cell_type": "code",
   "execution_count": 9,
   "metadata": {
    "collapsed": false
   },
   "outputs": [
    {
     "name": "stderr",
     "output_type": "stream",
     "text": [
      "[2017-04-24 14:03:16,771] Making new env: CartPole-v0\n"
     ]
    }
   ],
   "source": [
    "env = gym.make('CartPole-v0')\n",
    "state_dim = env.observation_space.shape\n",
    "action_dim = env.action_space.n"
   ]
  },
  {
   "cell_type": "code",
   "execution_count": 10,
   "metadata": {
    "collapsed": false
   },
   "outputs": [],
   "source": [
    "buffer1 = PrioritizedBuffer(buffer_capacity)\n",
    "agent1 = Agent(state_dim, action_dim, learning_rate)"
   ]
  },
  {
   "cell_type": "code",
   "execution_count": 11,
   "metadata": {
    "collapsed": true
   },
   "outputs": [],
   "source": [
    "buffer2 = UniformBuffer(buffer_capacity)\n",
    "agent2 = Agent(state_dim, action_dim, learning_rate)"
   ]
  },
  {
   "cell_type": "code",
   "execution_count": 12,
   "metadata": {
    "collapsed": false
   },
   "outputs": [
    {
     "name": "stdout",
     "output_type": "stream",
     "text": [
      "Episode = 200, Average rewards = 18.035\n",
      "Episode = 400, Average rewards = 19.86\n",
      "Episode = 600, Average rewards = 20.18\n",
      "Episode = 800, Average rewards = 21.9\n",
      "Episode = 1000, Average rewards = 22.26\n",
      "Episode = 1200, Average rewards = 28.975\n",
      "Episode = 1400, Average rewards = 26.97\n",
      "Episode = 1600, Average rewards = 29.615\n",
      "Episode = 1800, Average rewards = 27.635\n",
      "Episode = 2000, Average rewards = 31.755\n",
      "Episode = 2200, Average rewards = 34.365\n",
      "Episode = 2400, Average rewards = 41.48\n",
      "Episode = 2600, Average rewards = 45.415\n",
      "Episode = 2800, Average rewards = 47.83\n",
      "Episode = 3000, Average rewards = 41.285\n",
      "Episode = 3200, Average rewards = 45.105\n",
      "Episode = 3400, Average rewards = 61.515\n",
      "Episode = 3600, Average rewards = 62.455\n",
      "Episode = 3800, Average rewards = 54.775\n",
      "Episode = 4000, Average rewards = 55.725\n",
      "Episode = 4200, Average rewards = 63.15\n",
      "Episode = 4400, Average rewards = 63.0\n",
      "Episode = 4600, Average rewards = 60.2\n",
      "Episode = 4800, Average rewards = 66.385\n",
      "Episode = 5000, Average rewards = 66.445\n",
      "Episode = 5200, Average rewards = 60.14\n",
      "Episode = 5400, Average rewards = 68.95\n",
      "Episode = 5600, Average rewards = 66.76\n",
      "Episode = 5800, Average rewards = 72.715\n",
      "Episode = 6000, Average rewards = 67.03\n",
      "Episode = 6200, Average rewards = 76.455\n",
      "Episode = 6400, Average rewards = 70.635\n",
      "Episode = 6600, Average rewards = 70.94\n",
      "Episode = 6800, Average rewards = 74.065\n",
      "Episode = 7000, Average rewards = 74.26\n",
      "Episode = 7200, Average rewards = 74.08\n",
      "Episode = 7400, Average rewards = 78.74\n",
      "Episode = 7600, Average rewards = 70.775\n",
      "Episode = 7800, Average rewards = 72.965\n",
      "Episode = 8000, Average rewards = 65.835\n",
      "Episode = 8200, Average rewards = 68.635\n",
      "Episode = 8400, Average rewards = 62.545\n",
      "Episode = 8600, Average rewards = 71.365\n",
      "Episode = 8800, Average rewards = 77.565\n",
      "Episode = 9000, Average rewards = 68.975\n",
      "Episode = 9200, Average rewards = 90.185\n",
      "Episode = 9400, Average rewards = 85.23\n",
      "Episode = 9600, Average rewards = 75.295\n",
      "Episode = 9800, Average rewards = 67.52\n",
      "Episode = 10000, Average rewards = 82.365\n"
     ]
    }
   ],
   "source": [
    "initialize_buffer(env, buffer1, per=True)\n",
    "rewards1 = train(env, agent1, buffer1, episodes, gamma, minibatch_size, update_freq, per=True)"
   ]
  },
  {
   "cell_type": "code",
   "execution_count": 13,
   "metadata": {
    "collapsed": false,
    "scrolled": true
   },
   "outputs": [
    {
     "name": "stdout",
     "output_type": "stream",
     "text": [
      "Episode = 200, Average rewards = 18.07\n",
      "Episode = 400, Average rewards = 17.715\n",
      "Episode = 600, Average rewards = 18.1\n",
      "Episode = 800, Average rewards = 18.755\n",
      "Episode = 1000, Average rewards = 21.41\n",
      "Episode = 1200, Average rewards = 23.595\n",
      "Episode = 1400, Average rewards = 25.61\n",
      "Episode = 1600, Average rewards = 25.585\n",
      "Episode = 1800, Average rewards = 32.5\n",
      "Episode = 2000, Average rewards = 36.8\n",
      "Episode = 2200, Average rewards = 34.255\n",
      "Episode = 2400, Average rewards = 36.485\n",
      "Episode = 2600, Average rewards = 35.97\n",
      "Episode = 2800, Average rewards = 43.795\n",
      "Episode = 3000, Average rewards = 44.545\n",
      "Episode = 3200, Average rewards = 51.605\n",
      "Episode = 3400, Average rewards = 49.02\n",
      "Episode = 3600, Average rewards = 56.045\n",
      "Episode = 3800, Average rewards = 68.615\n",
      "Episode = 4000, Average rewards = 68.25\n",
      "Episode = 4200, Average rewards = 58.735\n",
      "Episode = 4400, Average rewards = 53.015\n",
      "Episode = 4600, Average rewards = 56.96\n",
      "Episode = 4800, Average rewards = 69.005\n",
      "Episode = 5000, Average rewards = 66.82\n",
      "Episode = 5200, Average rewards = 74.44\n",
      "Episode = 5400, Average rewards = 75.64\n",
      "Episode = 5600, Average rewards = 88.155\n",
      "Episode = 5800, Average rewards = 74.545\n",
      "Episode = 6000, Average rewards = 82.935\n",
      "Episode = 6200, Average rewards = 79.575\n",
      "Episode = 6400, Average rewards = 73.935\n",
      "Episode = 6600, Average rewards = 86.01\n",
      "Episode = 6800, Average rewards = 89.405\n",
      "Episode = 7000, Average rewards = 94.37\n",
      "Episode = 7200, Average rewards = 74.315\n",
      "Episode = 7400, Average rewards = 69.5\n",
      "Episode = 7600, Average rewards = 82.93\n",
      "Episode = 7800, Average rewards = 83.775\n",
      "Episode = 8000, Average rewards = 92.02\n",
      "Episode = 8200, Average rewards = 98.43\n",
      "Episode = 8400, Average rewards = 95.495\n",
      "Episode = 8600, Average rewards = 88.28\n",
      "Episode = 8800, Average rewards = 84.105\n",
      "Episode = 9000, Average rewards = 95.565\n",
      "Episode = 9200, Average rewards = 93.09\n",
      "Episode = 9400, Average rewards = 83.1\n",
      "Episode = 9600, Average rewards = 84.6\n",
      "Episode = 9800, Average rewards = 82.595\n",
      "Episode = 10000, Average rewards = 77.975\n"
     ]
    }
   ],
   "source": [
    "initialize_buffer(env, buffer2)\n",
    "rewards2 = train(env, agent2, buffer2, episodes, gamma, minibatch_size, update_freq)"
   ]
  },
  {
   "cell_type": "code",
   "execution_count": 14,
   "metadata": {
    "collapsed": false
   },
   "outputs": [
    {
     "data": {
      "image/png": "[encoded data removed]",
      "text/plain": [
       "<matplotlib.figure.Figure at 0x7f08f858d668>"
      ]
     },
     "metadata": {},
     "output_type": "display_data"
    }
   ],
   "source": [
    "pd.Series(rewards1).rolling(window=100).mean().plot(label='ddqn + per')\n",
    "pd.Series(rewards2).rolling(window=100).mean().plot(label='ddqn')\n",
    "plt.legend()\n",
    "plt.show()"
   ]
  },
  {
   "cell_type": "code",
   "execution_count": 15,
   "metadata": {
    "collapsed": false
   },
   "outputs": [
    {
     "name": "stdout",
     "output_type": "stream",
     "text": [
      "DDQN Average performance = 189.325\n",
      "DDQN + PER Average performance = 120.145\n"
     ]
    }
   ],
   "source": [
    "eval_episodes = 200\n",
    "ave1 = agent1.evaluate(env, eval_episodes)\n",
    "ave2 = agent2.evaluate(env, eval_episodes)\n",
    "\n",
    "print('DDQN Average performance = {}'.format(ave2))\n",
    "print('DDQN + PER Average performance = {}'.format(ave1))"
   ]
  },
  {
   "cell_type": "markdown",
   "metadata": {
    "deletable": true,
    "editable": true
   },
   "source": [
    "### References \n",
    "[1] Tom Schaul, David Silver et al (2016). Prioritized Experience Replay. https://arxiv.org/abs/1511.05952"
   ]
  }
 ],
 "metadata": {
  "kernelspec": {
   "display_name": "Python 3",
   "language": "python",
   "name": "python3"
  },
  "language_info": {
   "codemirror_mode": {
    "name": "ipython",
    "version": 3
   },
   "file_extension": ".py",
   "mimetype": "text/x-python",
   "name": "python",
   "nbconvert_exporter": "python",
   "pygments_lexer": "ipython3",
   "version": "3.5.2"
  }
 },
 "nbformat": 4,
 "nbformat_minor": 2
}
