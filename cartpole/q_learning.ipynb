{
 "cells": [
  {
   "cell_type": "markdown",
   "metadata": {},
   "source": [
    "## CartPole with Q-learning\n",
    "\n",
    "Q-learning is a off-policy temporal-difference method that uses the following update:\n",
    "$$Q(S_t, A_t) \\gets Q(S_t, A_t) + \\alpha \\left[ R_{t+1} + \\gamma max_a Q(S_t+1, a) - Q(S_t, A_t) \\right]$$\n",
    "\n",
    "where $Q(S_t, A_t)$ is the value of taking action $A_t$ in state $S_t$, $\\alpha$ is the step-size (learning rate) and $R_{t+1}$ is the reward received. We update $Q(S_t, A_t)$ using the direct reward received plus the reward we expect to receive in future. The update can be seen as optimistic because we take the maximum expected return.\n",
    "\n",
    "The objective of the CartPole problem (from OpenAI gym: https://gym.openai.com/envs/CartPole-v0) is to teach the cart to balance a pole by applying a horizontal force to the left or right. An episode ends when the pole tips more than 15 degrees from the vertical or the cart moves more than 2.4 units from the center. In smaller problems like Grid World, a table could be used to store all possible combinations of states and actions. In more complex problems, especially those with continuous states or actions, it is impossible to completely represent all state and action pairs so an approximator (neural network) is used. The input to the neural network is a state and the output is the value of all actions (we can then choose to take the action with the highest value if we're following $\\epsilon$-greedy action selection for example)."
   ]
  },
  {
   "cell_type": "code",
   "execution_count": 1,
   "metadata": {
    "collapsed": true,
    "deletable": true,
    "editable": true
   },
   "outputs": [],
   "source": [
    "import math\n",
    "import numpy as np\n",
    "import pandas as pd\n",
    "import matplotlib.pyplot as plt\n",
    "import gym\n",
    "import cntk\n",
    "from cntk import *\n",
    "from cntk.layers import *"
   ]
  },
  {
   "cell_type": "code",
   "execution_count": 2,
   "metadata": {
    "collapsed": true,
    "deletable": true,
    "editable": true
   },
   "outputs": [],
   "source": [
    "def predict(Q, state):\n",
    "    \"\"\"\n",
    "    The predict function takes the model (our network) and a state, feeds the state \n",
    "    through the model and obtains the values of each action:\n",
    "    \"\"\"\n",
    "    return Q.eval([state.astype(np.float32)])[0][0]"
   ]
  },
  {
   "cell_type": "markdown",
   "metadata": {},
   "source": [
    "Once again we are using $\\epsilon$-greedy action selection. We generate a random number and if it is above our threshold, $\\epsilon$, we pick a random action (explore), otherwise, we use the output of our model (exloit current knowledge). The action with the highest value is selected (greedy)."
   ]
  },
  {
   "cell_type": "code",
   "execution_count": 3,
   "metadata": {
    "collapsed": true,
    "deletable": true,
    "editable": true
   },
   "outputs": [],
   "source": [
    "def epoch_greedy(Q, epsilon, state, action_count):\n",
    "    \"\"\"\n",
    "    Selects an action using the epoch-greedy approach\n",
    "    \"\"\"\n",
    "    prob = np.random.randn(1)\n",
    "    if prob > epsilon:\n",
    "        # exploit (greedy)\n",
    "        action_index = np.argmax(predict(Q, state))\n",
    "    else:\n",
    "        # explore (random action)\n",
    "        action_index = np.random.randint(0, action_count)\n",
    "    \n",
    "    return action_index"
   ]
  },
  {
   "cell_type": "markdown",
   "metadata": {},
   "source": [
    "I have randomly chosen to use 2 hidden layers, both with 16 neurons and using ReLu (Rectified Linear Unit) activation. The input shape depends on the shape of the state and the output shape depends on the number of actions. I calculate the loss as the mean of the square difference between the actual outputs and the expected outputs and have chosen to use a learning rate of 0.0025 and stochastic gradient descent for learning.\n",
    "\n",
    "For each step of an episode, we select an action (using $\\epsilon$-greedy action selection) and then execute it yielding the next state and reward as well as a boolean indicating if the next state is terminal. We then calculate the expected return as the sum of the received reward plus the discounted future reward (0 if terminal). The current state serves as our input and the expected return serves as the label (truth value) for the neural network. Finally, I store the reward for each episode so we can monitor the progress."
   ]
  },
  {
   "cell_type": "code",
   "execution_count": 4,
   "metadata": {
    "collapsed": true
   },
   "outputs": [],
   "source": [
    "def train(env, episodes, gamma, epsilon_fn):\n",
    "    \"\"\"\n",
    "    param env: The gym environment to train with\n",
    "    param episodes: The number of episodes to train for\n",
    "    param gamma: The discount factor\n",
    "    param epsilon_fn: Function which returns epsilon for epoch-greedy learning\n",
    "    \"\"\"\n",
    "    input_dim = env.observation_space.shape\n",
    "    output_dim = env.action_space.n\n",
    "\n",
    "    input_var = input_variable(input_dim, np.float32)\n",
    "    output_var = input_variable(output_dim, np.float32)\n",
    "\n",
    "    model = Sequential([\n",
    "        Dense(16, activation=relu, name='dense1'),\n",
    "        Dense(16, activation=relu, name='dense2'),\n",
    "        Dense(output_dim, name='z')\n",
    "    ])(input_var)\n",
    "    \n",
    "    loss = reduce_mean(square(model.z - output_var), axis=0)\n",
    "\n",
    "    learning_rate = 0.0025\n",
    "    lr_schedule = learning_rate_schedule(learning_rate, UnitType.sample)\n",
    "    learner = sgd(model.z.parameters, lr_schedule)\n",
    "    printer = cntk.logging.ProgressPrinter(tag='Training')\n",
    "    trainer = Trainer(model.z, loss, learner, printer)    \n",
    "    \n",
    "    episode = 0\n",
    "    rewards = 0\n",
    "    episode_rewards = []\n",
    "    s = env.reset()\n",
    "    \n",
    "    while episode < episodes:\n",
    "        # Select action using policy derived from Q (e-greedy) \n",
    "        a = epoch_greedy(model, epsilon_fn(episode), s, output_dim)\n",
    "\n",
    "        # Take action and observe next state and reward\n",
    "        s_, r, done, info = env.step(a)\n",
    "\n",
    "        y = predict(model, s)\n",
    "        if done:\n",
    "            y[a] = r\n",
    "        else:\n",
    "            y[a] = r + gamma * np.amax(predict(model, s_))\n",
    "\n",
    "        trainer.train_minibatch({input_var: s.astype(np.float32), output_var: y.astype(np.float32)})\n",
    "\n",
    "        s = s_\n",
    "        rewards += r\n",
    "\n",
    "        # Episode over, reset environment\n",
    "        if done:                \n",
    "            episode += 1\n",
    "            episode_rewards.append(rewards)\n",
    "\n",
    "            if episode % 200 == 0:\n",
    "                print('Episode {}, reward = {}'.format(episode, rewards))\n",
    "                # trainer.summarize_training_progress()\n",
    "\n",
    "            s = env.reset()\n",
    "            rewards = 0\n",
    "    return model, episode_rewards"
   ]
  },
  {
   "cell_type": "markdown",
   "metadata": {},
   "source": [
    "I have decided to train for 10k episodes using a discount factor of 0.99 and epsilon value of 0.1. To see the effects of a constant versus decaying epsilon (value reduces with time), I've trained two models using 2 separate epsilon functions:"
   ]
  },
  {
   "cell_type": "code",
   "execution_count": 5,
   "metadata": {
    "collapsed": true
   },
   "outputs": [],
   "source": [
    "# Fixed value epsilon\n",
    "def constant_epsilon(episode):\n",
    "    return 0.1"
   ]
  },
  {
   "cell_type": "code",
   "execution_count": 6,
   "metadata": {
    "collapsed": true
   },
   "outputs": [],
   "source": [
    "# epsilon starts with 1 and decays to a minimum of 0.05\n",
    "# decay factor was chosen such that the value of epsilon is 0.05 by episode 8000\n",
    "def decaying_epsilon(episode):\n",
    "    return max(math.exp(-3.74e-4 * episode), 0.05)"
   ]
  },
  {
   "cell_type": "code",
   "execution_count": 7,
   "metadata": {
    "collapsed": false
   },
   "outputs": [
    {
     "name": "stderr",
     "output_type": "stream",
     "text": [
      "[2017-04-19 13:17:56,883] Making new env: CartPole-v0\n"
     ]
    }
   ],
   "source": [
    "gamma = 0.99\n",
    "episodes = 10000\n",
    "env = gym.make('CartPole-v0')"
   ]
  },
  {
   "cell_type": "code",
   "execution_count": 8,
   "metadata": {
    "collapsed": false
   },
   "outputs": [
    {
     "name": "stdout",
     "output_type": "stream",
     "text": [
      "Episode 200, reward = 8.0\n",
      "Episode 400, reward = 10.0\n",
      "Episode 600, reward = 13.0\n",
      "Episode 800, reward = 27.0\n",
      "Episode 1000, reward = 14.0\n",
      "Episode 1200, reward = 13.0\n",
      "Episode 1400, reward = 54.0\n",
      "Episode 1600, reward = 19.0\n",
      "Episode 1800, reward = 12.0\n",
      "Episode 2000, reward = 39.0\n",
      "Episode 2200, reward = 74.0\n",
      "Episode 2400, reward = 44.0\n",
      "Episode 2600, reward = 13.0\n",
      "Episode 2800, reward = 23.0\n",
      "Episode 3000, reward = 46.0\n",
      "Episode 3200, reward = 26.0\n",
      "Episode 3400, reward = 71.0\n",
      "Episode 3600, reward = 18.0\n",
      "Episode 3800, reward = 36.0\n",
      "Episode 4000, reward = 36.0\n",
      "Episode 4200, reward = 30.0\n",
      "Episode 4400, reward = 25.0\n",
      "Episode 4600, reward = 85.0\n",
      "Episode 4800, reward = 21.0\n",
      "Episode 5000, reward = 32.0\n",
      "Episode 5200, reward = 77.0\n",
      "Episode 5400, reward = 39.0\n",
      "Episode 5600, reward = 73.0\n",
      "Episode 5800, reward = 28.0\n",
      "Episode 6000, reward = 44.0\n",
      "Episode 6200, reward = 54.0\n",
      "Episode 6400, reward = 39.0\n",
      "Episode 6600, reward = 58.0\n",
      "Episode 6800, reward = 33.0\n",
      "Episode 7000, reward = 72.0\n",
      "Episode 7200, reward = 41.0\n",
      "Episode 7400, reward = 34.0\n",
      "Episode 7600, reward = 29.0\n",
      "Episode 7800, reward = 74.0\n",
      "Episode 8000, reward = 51.0\n",
      "Episode 8200, reward = 58.0\n",
      "Episode 8400, reward = 53.0\n",
      "Episode 8600, reward = 27.0\n",
      "Episode 8800, reward = 58.0\n",
      "Episode 9000, reward = 32.0\n",
      "Episode 9200, reward = 35.0\n",
      "Episode 9400, reward = 34.0\n",
      "Episode 9600, reward = 35.0\n",
      "Episode 9800, reward = 64.0\n",
      "Episode 10000, reward = 73.0\n"
     ]
    }
   ],
   "source": [
    "model1, rewards1 = train(env, episodes, gamma, constant_epsilon)"
   ]
  },
  {
   "cell_type": "code",
   "execution_count": 9,
   "metadata": {
    "collapsed": false
   },
   "outputs": [
    {
     "name": "stdout",
     "output_type": "stream",
     "text": [
      "Episode 200, reward = 28.0\n",
      "Episode 400, reward = 10.0\n",
      "Episode 600, reward = 12.0\n",
      "Episode 800, reward = 10.0\n",
      "Episode 1000, reward = 23.0\n",
      "Episode 1200, reward = 15.0\n",
      "Episode 1400, reward = 14.0\n",
      "Episode 1600, reward = 26.0\n",
      "Episode 1800, reward = 23.0\n",
      "Episode 2000, reward = 26.0\n",
      "Episode 2200, reward = 16.0\n",
      "Episode 2400, reward = 53.0\n",
      "Episode 2600, reward = 50.0\n",
      "Episode 2800, reward = 39.0\n",
      "Episode 3000, reward = 19.0\n",
      "Episode 3200, reward = 24.0\n",
      "Episode 3400, reward = 32.0\n",
      "Episode 3600, reward = 16.0\n",
      "Episode 3800, reward = 41.0\n",
      "Episode 4000, reward = 26.0\n",
      "Episode 4200, reward = 30.0\n",
      "Episode 4400, reward = 69.0\n",
      "Episode 4600, reward = 50.0\n",
      "Episode 4800, reward = 30.0\n",
      "Episode 5000, reward = 65.0\n",
      "Episode 5200, reward = 98.0\n",
      "Episode 5400, reward = 61.0\n",
      "Episode 5600, reward = 52.0\n",
      "Episode 5800, reward = 41.0\n",
      "Episode 6000, reward = 35.0\n",
      "Episode 6200, reward = 57.0\n",
      "Episode 6400, reward = 20.0\n",
      "Episode 6600, reward = 31.0\n",
      "Episode 6800, reward = 39.0\n",
      "Episode 7000, reward = 26.0\n",
      "Episode 7200, reward = 78.0\n",
      "Episode 7400, reward = 19.0\n",
      "Episode 7600, reward = 47.0\n",
      "Episode 7800, reward = 94.0\n",
      "Episode 8000, reward = 57.0\n",
      "Episode 8200, reward = 28.0\n",
      "Episode 8400, reward = 33.0\n",
      "Episode 8600, reward = 31.0\n",
      "Episode 8800, reward = 43.0\n",
      "Episode 9000, reward = 38.0\n",
      "Episode 9200, reward = 24.0\n",
      "Episode 9400, reward = 27.0\n",
      "Episode 9600, reward = 54.0\n",
      "Episode 9800, reward = 47.0\n",
      "Episode 10000, reward = 18.0\n"
     ]
    }
   ],
   "source": [
    "model2, rewards2 = train(env, episodes, gamma, decaying_epsilon)"
   ]
  },
  {
   "cell_type": "markdown",
   "metadata": {},
   "source": [
    "For visual comparison of learning with time, I have plotted the moving averages of the received rewards below:"
   ]
  },
  {
   "cell_type": "code",
   "execution_count": 16,
   "metadata": {
    "collapsed": false
   },
   "outputs": [
    {
     "data": {
      "image/png": "[encoded data removed]",
      "text/plain": [
       "<matplotlib.figure.Figure at 0x7fb9b4e7f470>"
      ]
     },
     "metadata": {},
     "output_type": "display_data"
    }
   ],
   "source": [
    "pd.Series(rewards1).rolling(window=100).mean().plot(label='constant \\u03b5', style='k')\n",
    "pd.Series(rewards2).rolling(window=100).mean().plot(label='constant \\u03b5', style='r')\n",
    "plt.show()"
   ]
  },
  {
   "cell_type": "markdown",
   "metadata": {},
   "source": [
    "To evaluate the final models, I've defined the evaluate function below. It simulates several episodes using a model and returns the average reward."
   ]
  },
  {
   "cell_type": "code",
   "execution_count": 13,
   "metadata": {
    "collapsed": true
   },
   "outputs": [],
   "source": [
    "def evaluate(env, model, episodes):\n",
    "    \"\"\"\n",
    "    Computes the average performance of the trained model over 'episodes' episodes\n",
    "    \"\"\"\n",
    "    episode = 0\n",
    "    rewards = 0\n",
    "    \n",
    "    while episode < episodes:\n",
    "        s = env.reset()\n",
    "        done = False\n",
    "        while not done:\n",
    "            a = np.argmax(predict(model, s))\n",
    "            s, r, done, info = env.step(a)\n",
    "            rewards += r\n",
    "        episode += 1\n",
    "    \n",
    "    return rewards / float(episodes)"
   ]
  },
  {
   "cell_type": "code",
   "execution_count": 15,
   "metadata": {
    "collapsed": false
   },
   "outputs": [
    {
     "name": "stdout",
     "output_type": "stream",
     "text": [
      "Average (with constant ε) = 32.73\n",
      "Average (with decaying ε) = 106.14\n"
     ]
    }
   ],
   "source": [
    "ave_constant = evaluate(env, model1, 100)\n",
    "ave_decaying = evaluate(env, model2, 100)\n",
    "\n",
    "print('Average (with constant \\u03b5) = {}'.format(ave_constant))\n",
    "print('Average (with decaying \\u03b5) = {}'.format(ave_decaying))"
   ]
  },
  {
   "cell_type": "markdown",
   "metadata": {},
   "source": [
    "## Conclusion\n",
    "From the plot of average reward for each model during training, we may jump and conclude that both models learn about the same and have the same performance. However, the result of evaluation over 100 episodes shows a stark difference. In practice, epsilon is usually annealed to a small value to simulate how we learn - a lot of exploration at the start but less and less as our knowledge improves.\n",
    "\n",
    "Here I run and render an episode using the better model:"
   ]
  },
  {
   "cell_type": "code",
   "execution_count": 19,
   "metadata": {
    "collapsed": true
   },
   "outputs": [],
   "source": [
    "s = env.reset()\n",
    "done = False\n",
    "while not done:\n",
    "    env.render()\n",
    "    a = np.argmax(predict(model2, s))\n",
    "    s, r, done, info = env.step(a)\n",
    "    \n",
    "env.close()"
   ]
  },
  {
   "cell_type": "markdown",
   "metadata": {},
   "source": [
    "Obviously there is still room for improvement. You can play around with the number of layers in the network (as well as the number of neurons in each layer), a different min value for epsilon (in the exponentially decaying version), a different learner (as opposed to stochastic gradient descent), different learning rate, gamma, train for longer and so on...\n",
    "\n",
    "## References\n",
    "1. Richard S. Sutton, Andrew G. Barto (1998). Reinforcement Learning: An Introduction. MIT Press."
   ]
  }
 ],
 "metadata": {
  "kernelspec": {
   "display_name": "Python 3",
   "language": "python",
   "name": "python3"
  },
  "language_info": {
   "codemirror_mode": {
    "name": "ipython",
    "version": 3
   },
   "file_extension": ".py",
   "mimetype": "text/x-python",
   "name": "python",
   "nbconvert_exporter": "python",
   "pygments_lexer": "ipython3",
   "version": "3.5.2"
  }
 },
 "nbformat": 4,
 "nbformat_minor": 2
}
