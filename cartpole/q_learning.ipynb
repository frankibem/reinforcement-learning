{
 "cells": [
  {
   "cell_type": "code",
   "execution_count": 13,
   "metadata": {
    "collapsed": true,
    "deletable": true,
    "editable": true
   },
   "outputs": [],
   "source": [
    "import numpy as np\n",
    "import matplotlib.pyplot as plt\n",
    "import gym\n",
    "import cntk\n",
    "from cntk import *"
   ]
  },
  {
   "cell_type": "code",
   "execution_count": 14,
   "metadata": {
    "collapsed": false,
    "deletable": true,
    "editable": true
   },
   "outputs": [
    {
     "name": "stderr",
     "output_type": "stream",
     "text": [
      "[2017-04-04 02:34:13,938] Making new env: CartPole-v0\n"
     ]
    }
   ],
   "source": [
    "env = gym.make('CartPole-v0')"
   ]
  },
  {
   "cell_type": "code",
   "execution_count": 15,
   "metadata": {
    "collapsed": true,
    "deletable": true,
    "editable": true
   },
   "outputs": [],
   "source": [
    "input_dim = env.observation_space.shape\n",
    "output_dim = env.action_space.n\n",
    "\n",
    "input_var = input_variable(input_dim, np.float32)\n",
    "output_var = input_variable(output_dim, np.float32)\n",
    "\n",
    "model = Sequential([\n",
    "    Dense(16, activation=relu, name='dense1'),\n",
    "    Dense(16, activation=relu, name='dense2'),\n",
    "    Dense(output_dim, name='z')\n",
    "])(input_var)"
   ]
  },
  {
   "cell_type": "code",
   "execution_count": 16,
   "metadata": {
    "collapsed": false,
    "deletable": true,
    "editable": true
   },
   "outputs": [],
   "source": [
    "loss = reduce_mean(square(model.z - output_var), axis=0)\n",
    "\n",
    "learning_rate = 0.0025\n",
    "lr_schedule = learning_rate_schedule(learning_rate, UnitType.sample)\n",
    "learner = sgd(model.z.parameters, lr_schedule)\n",
    "printer = cntk.logging.ProgressPrinter(tag='Training')\n",
    "trainer = Trainer(model.z, loss, learner, printer)"
   ]
  },
  {
   "cell_type": "code",
   "execution_count": 33,
   "metadata": {
    "collapsed": true,
    "deletable": true,
    "editable": true
   },
   "outputs": [],
   "source": [
    "def moving_average(a, w=10):\n",
    "    if len(a) < w:\n",
    "        return a[:]\n",
    "    return [val if idx < w else sum(a[(idx-w):idx])/w for idx, val in enumerate(a)]"
   ]
  },
  {
   "cell_type": "code",
   "execution_count": 17,
   "metadata": {
    "collapsed": true,
    "deletable": true,
    "editable": true
   },
   "outputs": [],
   "source": [
    "def predict(Q, state):\n",
    "    \"\"\"\n",
    "    Returns the values of all actions for the given state\n",
    "    \"\"\"\n",
    "    return Q.eval([state.astype(np.float32)])[0][0]"
   ]
  },
  {
   "cell_type": "code",
   "execution_count": 18,
   "metadata": {
    "collapsed": true,
    "deletable": true,
    "editable": true
   },
   "outputs": [],
   "source": [
    "def epoch_greedy(Q, epsilon, state):\n",
    "    \"\"\"\n",
    "    Selects an action using the epoch-greedy approach\n",
    "    \"\"\"\n",
    "    prob = np.random.randn(1)\n",
    "    if prob > epsilon:\n",
    "        # exploit (greedy)\n",
    "        action_index = np.argmax(predict(Q, state))\n",
    "    else:\n",
    "        # explore (random action)\n",
    "        action_index = np.random.randint(0, output_dim)\n",
    "    \n",
    "    return action_index"
   ]
  },
  {
   "cell_type": "code",
   "execution_count": 19,
   "metadata": {
    "collapsed": true,
    "deletable": true,
    "editable": true
   },
   "outputs": [],
   "source": [
    "# Q-learning\n",
    "gamma = 0.99\n",
    "epsilon = 0.1\n",
    "episodes = 6000\n",
    "\n",
    "rewards = 0\n",
    "episode = 0\n",
    "reward_list = []"
   ]
  },
  {
   "cell_type": "code",
   "execution_count": 20,
   "metadata": {
    "collapsed": false,
    "deletable": true,
    "editable": true
   },
   "outputs": [
    {
     "name": "stdout",
     "output_type": "stream",
     "text": [
      "Episode 100, reward = 12.0\n",
      "Finished Epoch[1 of 300]: [Training] loss = 0.836158 * 1387, metric = 0.00% * 1387 8.650s (160.3 samples/s);\n",
      "Episode 200, reward = 14.0\n",
      "Finished Epoch[2 of 300]: [Training] loss = 1.292136 * 1500, metric = 0.00% * 1500 4.251s (352.9 samples/s);\n",
      "Episode 300, reward = 11.0\n",
      "Finished Epoch[3 of 300]: [Training] loss = 1.922830 * 1357, metric = 0.00% * 1357 4.515s (300.6 samples/s);\n",
      "Episode 400, reward = 39.0\n",
      "Finished Epoch[4 of 300]: [Training] loss = 2.266864 * 1489, metric = 0.00% * 1489 4.419s (337.0 samples/s);\n",
      "Episode 500, reward = 12.0\n",
      "Finished Epoch[5 of 300]: [Training] loss = 2.604353 * 1415, metric = 0.00% * 1415 4.085s (346.4 samples/s);\n",
      "Episode 600, reward = 17.0\n",
      "Finished Epoch[6 of 300]: [Training] loss = 2.904261 * 1450, metric = 0.00% * 1450 4.297s (337.4 samples/s);\n",
      "Episode 700, reward = 17.0\n",
      "Finished Epoch[7 of 300]: [Training] loss = 3.234876 * 1380, metric = 0.00% * 1380 4.045s (341.2 samples/s);\n",
      "Episode 800, reward = 12.0\n",
      "Finished Epoch[8 of 300]: [Training] loss = 3.327065 * 1431, metric = 0.00% * 1431 4.460s (320.9 samples/s);\n",
      "Episode 900, reward = 12.0\n",
      "Finished Epoch[9 of 300]: [Training] loss = 3.389365 * 1449, metric = 0.00% * 1449 4.295s (337.4 samples/s);\n",
      "Episode 1000, reward = 14.0\n",
      "Finished Epoch[10 of 300]: [Training] loss = 3.416931 * 1438, metric = 0.00% * 1438 4.403s (326.6 samples/s);\n",
      "Episode 1100, reward = 12.0\n",
      "Finished Epoch[11 of 300]: [Training] loss = 3.442866 * 1461, metric = 0.00% * 1461 4.438s (329.2 samples/s);\n",
      "Episode 1200, reward = 18.0\n",
      "Finished Epoch[12 of 300]: [Training] loss = 3.374875 * 1564, metric = 0.00% * 1564 4.667s (335.1 samples/s);\n",
      "Episode 1300, reward = 15.0\n",
      "Finished Epoch[13 of 300]: [Training] loss = 3.509363 * 1639, metric = 0.00% * 1639 5.002s (327.7 samples/s);\n",
      "Episode 1400, reward = 17.0\n",
      "Finished Epoch[14 of 300]: [Training] loss = 3.793380 * 1478, metric = 0.00% * 1478 4.280s (345.3 samples/s);\n",
      "Episode 1500, reward = 12.0\n",
      "Finished Epoch[15 of 300]: [Training] loss = 3.477978 * 1544, metric = 0.00% * 1544 4.653s (331.8 samples/s);\n",
      "Episode 1600, reward = 18.0\n",
      "Finished Epoch[16 of 300]: [Training] loss = 3.437894 * 1946, metric = 0.00% * 1946 6.170s (315.4 samples/s);\n",
      "Episode 1700, reward = 12.0\n",
      "Finished Epoch[17 of 300]: [Training] loss = 5.747604 * 1423, metric = 0.00% * 1423 4.066s (350.0 samples/s);\n",
      "Episode 1800, reward = 9.0\n",
      "Finished Epoch[18 of 300]: [Training] loss = 4.886515 * 1455, metric = 0.00% * 1455 4.293s (338.9 samples/s);\n",
      "Episode 1900, reward = 12.0\n",
      "Finished Epoch[19 of 300]: [Training] loss = 4.261931 * 1504, metric = 0.00% * 1504 4.294s (350.3 samples/s);\n",
      "Episode 2000, reward = 26.0\n",
      "Finished Epoch[20 of 300]: [Training] loss = 4.097669 * 1701, metric = 0.00% * 1701 5.942s (286.3 samples/s);\n",
      "Episode 2100, reward = 24.0\n",
      "Finished Epoch[21 of 300]: [Training] loss = 2.530135 * 4179, metric = 0.00% * 4179 16.825s (248.4 samples/s);\n",
      "Episode 2200, reward = 109.0\n",
      "Finished Epoch[22 of 300]: [Training] loss = 3.416398 * 4273, metric = 0.00% * 4273 14.097s (303.1 samples/s);\n",
      "Episode 2300, reward = 35.0\n",
      "Finished Epoch[23 of 300]: [Training] loss = 5.193117 * 3180, metric = 0.00% * 3180 13.006s (244.5 samples/s);\n",
      "Episode 2400, reward = 64.0\n",
      "Finished Epoch[24 of 300]: [Training] loss = 4.321060 * 4592, metric = 0.00% * 4592 17.523s (262.1 samples/s);\n",
      "Episode 2500, reward = 25.0\n",
      "Finished Epoch[25 of 300]: [Training] loss = 5.681437 * 4033, metric = 0.00% * 4033 13.411s (300.7 samples/s);\n",
      "Episode 2600, reward = 67.0\n",
      "Finished Epoch[26 of 300]: [Training] loss = 5.921969 * 4413, metric = 0.00% * 4413 15.041s (293.4 samples/s);\n",
      "Episode 2700, reward = 55.0\n",
      "Finished Epoch[27 of 300]: [Training] loss = 7.109393 * 3930, metric = 0.00% * 3930 13.632s (288.3 samples/s);\n",
      "Episode 2800, reward = 25.0\n",
      "Finished Epoch[28 of 300]: [Training] loss = 6.891397 * 4406, metric = 0.00% * 4406 17.124s (257.3 samples/s);\n",
      "Episode 2900, reward = 9.0\n",
      "Finished Epoch[29 of 300]: [Training] loss = 7.532008 * 4284, metric = 0.00% * 4284 15.062s (284.4 samples/s);\n",
      "Episode 3000, reward = 16.0\n",
      "Finished Epoch[30 of 300]: [Training] loss = 8.015396 * 4226, metric = 0.00% * 4226 14.760s (286.3 samples/s);\n",
      "Episode 3100, reward = 23.0\n",
      "Finished Epoch[31 of 300]: [Training] loss = 9.030465 * 3872, metric = 0.00% * 3872 14.496s (267.1 samples/s);\n",
      "Episode 3200, reward = 55.0\n",
      "Finished Epoch[32 of 300]: [Training] loss = 9.544760 * 3479, metric = 0.00% * 3479 12.268s (283.6 samples/s);\n",
      "Episode 3300, reward = 24.0\n",
      "Finished Epoch[33 of 300]: [Training] loss = 8.345752 * 4090, metric = 0.00% * 4090 14.026s (291.6 samples/s);\n",
      "Episode 3400, reward = 29.0\n",
      "Finished Epoch[34 of 300]: [Training] loss = 8.382160 * 4174, metric = 0.00% * 4174 14.417s (289.5 samples/s);\n",
      "Episode 3500, reward = 23.0\n",
      "Finished Epoch[35 of 300]: [Training] loss = 9.155623 * 3944, metric = 0.00% * 3944 13.342s (295.6 samples/s);\n",
      "Episode 3600, reward = 26.0\n",
      "Finished Epoch[36 of 300]: [Training] loss = 8.631532 * 4251, metric = 0.00% * 4251 15.134s (280.9 samples/s);\n",
      "Episode 3700, reward = 61.0\n",
      "Finished Epoch[37 of 300]: [Training] loss = 8.473853 * 4440, metric = 0.00% * 4440 14.609s (303.9 samples/s);\n",
      "Episode 3800, reward = 24.0\n",
      "Finished Epoch[38 of 300]: [Training] loss = 8.846618 * 4498, metric = 0.00% * 4498 15.593s (288.5 samples/s);\n",
      "Episode 3900, reward = 26.0\n",
      "Finished Epoch[39 of 300]: [Training] loss = 10.211689 * 3886, metric = 0.00% * 3886 16.048s (242.1 samples/s);\n",
      "Episode 4000, reward = 27.0\n",
      "Finished Epoch[40 of 300]: [Training] loss = 8.796745 * 4463, metric = 0.00% * 4463 16.097s (277.3 samples/s);\n",
      "Episode 4100, reward = 43.0\n",
      "Finished Epoch[41 of 300]: [Training] loss = 10.615762 * 3824, metric = 0.00% * 3824 13.598s (281.2 samples/s);\n",
      "Episode 4200, reward = 34.0\n",
      "Finished Epoch[42 of 300]: [Training] loss = 8.754215 * 4549, metric = 0.00% * 4549 16.703s (272.3 samples/s);\n",
      "Episode 4300, reward = 64.0\n",
      "Finished Epoch[43 of 300]: [Training] loss = 8.955268 * 4696, metric = 0.00% * 4696 16.251s (289.0 samples/s);\n",
      "Episode 4400, reward = 48.0\n",
      "Finished Epoch[44 of 300]: [Training] loss = 10.118587 * 4143, metric = 0.00% * 4143 18.679s (221.8 samples/s);\n",
      "Episode 4500, reward = 27.0\n",
      "Finished Epoch[45 of 300]: [Training] loss = 9.944862 * 4156, metric = 0.00% * 4156 17.011s (244.3 samples/s);\n",
      "Episode 4600, reward = 27.0\n",
      "Finished Epoch[46 of 300]: [Training] loss = 9.311443 * 4613, metric = 0.00% * 4613 19.030s (242.4 samples/s);\n",
      "Episode 4700, reward = 62.0\n",
      "Finished Epoch[47 of 300]: [Training] loss = 9.883485 * 4456, metric = 0.00% * 4456 16.303s (273.3 samples/s);\n",
      "Episode 4800, reward = 66.0\n",
      "Finished Epoch[48 of 300]: [Training] loss = 10.596514 * 4149, metric = 0.00% * 4149 15.899s (261.0 samples/s);\n",
      "Episode 4900, reward = 25.0\n",
      "Finished Epoch[49 of 300]: [Training] loss = 10.358934 * 4326, metric = 0.00% * 4326 15.885s (272.3 samples/s);\n",
      "Episode 5000, reward = 15.0\n",
      "Finished Epoch[50 of 300]: [Training] loss = 9.648664 * 4681, metric = 0.00% * 4681 16.757s (279.3 samples/s);\n",
      "Episode 5100, reward = 46.0\n",
      "Finished Epoch[51 of 300]: [Training] loss = 10.801911 * 4253, metric = 0.00% * 4253 15.563s (273.3 samples/s);\n",
      "Episode 5200, reward = 18.0\n",
      "Finished Epoch[52 of 300]: [Training] loss = 9.339471 * 4985, metric = 0.00% * 4985 18.390s (271.1 samples/s);\n",
      "Episode 5300, reward = 50.0\n",
      "Finished Epoch[53 of 300]: [Training] loss = 10.802613 * 4472, metric = 0.00% * 4472 18.019s (248.2 samples/s);\n",
      "Episode 5400, reward = 47.0\n",
      "Finished Epoch[54 of 300]: [Training] loss = 10.974304 * 4368, metric = 0.00% * 4368 18.845s (231.8 samples/s);\n",
      "Episode 5500, reward = 48.0\n",
      "Finished Epoch[55 of 300]: [Training] loss = 10.486143 * 4662, metric = 0.00% * 4662 17.731s (262.9 samples/s);\n",
      "Episode 5600, reward = 72.0\n",
      "Finished Epoch[56 of 300]: [Training] loss = 10.865518 * 4550, metric = 0.00% * 4550 17.489s (260.2 samples/s);\n",
      "Episode 5700, reward = 23.0\n",
      "Finished Epoch[57 of 300]: [Training] loss = 10.966087 * 4526, metric = 0.00% * 4526 17.225s (262.8 samples/s);\n",
      "Episode 5800, reward = 31.0\n",
      "Finished Epoch[58 of 300]: [Training] loss = 11.365272 * 4544, metric = 0.00% * 4544 17.771s (255.7 samples/s);\n",
      "Episode 5900, reward = 31.0\n",
      "Finished Epoch[59 of 300]: [Training] loss = 11.723193 * 4436, metric = 0.00% * 4436 16.782s (264.3 samples/s);\n",
      "Episode 6000, reward = 32.0\n",
      "Finished Epoch[60 of 300]: [Training] loss = 11.313394 * 4437, metric = 0.00% * 4437 16.133s (275.0 samples/s);\n"
     ]
    }
   ],
   "source": [
    "s = env.reset()\n",
    "while episode < episodes:\n",
    "    # Select action using policy derived from Q (e-greedy)\n",
    "    a = epoch_greedy(model, epsilon, s)\n",
    "        \n",
    "    # Take action and observe next state and reward\n",
    "    s_, r, done, info = env.step(a)\n",
    "    \n",
    "    y = predict(model, s)\n",
    "    if done:\n",
    "        y[a] = r\n",
    "    else:\n",
    "        y[a] = r + gamma * np.amax(predict(model, s_))\n",
    "        \n",
    "    trainer.train_minibatch({input_var: s.astype(np.float32), output_var: y.astype(np.float32)})\n",
    "    \n",
    "    s = s_\n",
    "    rewards += r\n",
    "    \n",
    "    # Episode over, reset environment\n",
    "    if done:                \n",
    "        episode += 1\n",
    "        reward_list.append(rewards)\n",
    "        \n",
    "        if episode % 100 == 0:\n",
    "            print('Episode {}, reward = {}'.format(episode, rewards))\n",
    "            trainer.summarize_training_progress()\n",
    "        \n",
    "        s = env.reset()\n",
    "        rewards = 0"
   ]
  },
  {
   "cell_type": "code",
   "execution_count": 64,
   "metadata": {
    "collapsed": false,
    "deletable": true,
    "editable": true
   },
   "outputs": [
    {
     "name": "stdout",
     "output_type": "stream",
     "text": [
      "Total rewards = 200.0\n"
     ]
    }
   ],
   "source": [
    "s = env.reset()\n",
    "done = False\n",
    "rewards = 0\n",
    "while not done:\n",
    "    env.render()\n",
    "    a = np.argmax(predict(model, s))\n",
    "    s, r, done, info = env.step(a)\n",
    "    rewards += r\n",
    "    \n",
    "print('Total rewards = {}'.format(rewards))"
   ]
  },
  {
   "cell_type": "code",
   "execution_count": 66,
   "metadata": {
    "collapsed": true,
    "deletable": true,
    "editable": true
   },
   "outputs": [],
   "source": [
    "env.close()"
   ]
  },
  {
   "cell_type": "code",
   "execution_count": 68,
   "metadata": {
    "collapsed": false,
    "deletable": true,
    "editable": true
   },
   "outputs": [
    {
     "data": {
      "image/png": "[encoded data removed]",
      "text/plain": [
       "<matplotlib.figure.Figure at 0x7fbfced74470>"
      ]
     },
     "metadata": {},
     "output_type": "display_data"
    }
   ],
   "source": [
    "step = 100\n",
    "x = range(0, episodes, step)\n",
    "plt.plot(x, reward_list[::step])\n",
    "plt.plot(x, moving_average(reward_list, w=50)[::step])\n",
    "plt.show()"
   ]
  },
  {
   "cell_type": "code",
   "execution_count": null,
   "metadata": {
    "collapsed": true,
    "deletable": true,
    "editable": true
   },
   "outputs": [],
   "source": []
  }
 ],
 "metadata": {
  "kernelspec": {
   "display_name": "Python 3",
   "language": "python",
   "name": "python3"
  },
  "language_info": {
   "codemirror_mode": {
    "name": "ipython",
    "version": 3
   },
   "file_extension": ".py",
   "mimetype": "text/x-python",
   "name": "python",
   "nbconvert_exporter": "python",
   "pygments_lexer": "ipython3",
   "version": "3.5.2"
  }
 },
 "nbformat": 4,
 "nbformat_minor": 2
}
