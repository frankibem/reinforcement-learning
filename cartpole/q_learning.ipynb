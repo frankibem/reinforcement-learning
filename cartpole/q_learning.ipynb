{
 "cells": [
  {
   "cell_type": "markdown",
   "metadata": {},
   "source": [
    "## CartPole with Q-learning\n",
    "\n",
    "Q-learning is a off-policy temporal-difference method that uses the following update:\n",
    "$$Q(S_t, A_t) \\gets Q(S_t, A_t) + \\alpha \\left[ R_{t+1} + \\gamma max_a Q(S_t+1, a) - Q(S_t, A_t) \\right]$$\n",
    "\n",
    "where $Q(S_t, A_t)$ is the value of taking action $A_t$ in state $S_t$, $\\alpha$ is the step-size (learning rate) and $R_{t+1}$ is the reward received. We update $Q(S_t, A_t)$ using the direct reward received plus the reward we expect to receive in future. The update can be seen as optimistic because we take the maximum expected return.\n",
    "\n",
    "The objective of the CartPole problem (from OpenAI gym: https://gym.openai.com/envs/CartPole-v0) is to teach the cart to balance a pole by applying a horizontal force to the left or right. An episode ends when the pole tips more than 15 degrees from the vertical or the cart moves more than 2.4 units from the center. In smaller problems like Grid World, a table could be used to store all possible combinations of states and actions. In more complex problems, especially those with continuous states or actions, it is impossible to completely represent all state and action pairs so an approximator (neural network) is used. The input to the neural network is a state and the output is the value of all actions (we can then choose to take the action with the highest value if we're following $\\epsilon$-greedy action selection for example)."
   ]
  },
  {
   "cell_type": "code",
   "execution_count": 39,
   "metadata": {
    "collapsed": true
   },
   "outputs": [],
   "source": [
    "import math\n",
    "import numpy as np\n",
    "import pandas as pd\n",
    "import matplotlib.pyplot as plt\n",
    "import gym\n",
    "import cntk\n",
    "from cntk import *\n",
    "from cntk.layers import *"
   ]
  },
  {
   "cell_type": "markdown",
   "metadata": {},
   "source": [
    "The Agent class encapsulates all the necessary logic related to action action selection and model training. The network inputs and outputs depend on the environment chosen so it receives their dimensions as arguments to its constructor. I have chosen to use a network with a single hidden layer of 64 neurons and ReLu (REctified Linear Unit) activation. I calculate the loss as the mean of the square difference between the actual outputs and the expected outputs and have chosen to use a learning rate of 0.0025 and stochastic gradient descent for learning.\n",
    "\n",
    "Once again we are using $\\epsilon$-greedy action selection. We generate a random number and if it is below our threshold, $\\epsilon$, we pick a random action (explore), otherwise, we use the output of our model (exloit current knowledge) and the action with the highest value is selected (greedy). To see the effects of a constant versus decaying epsilon (value reduces with time), the constructor has a parameter which is a function for updating epsilon based on the number of completed episodes.\n",
    "\n",
    "The evaluate function allows us to evaluate the average performance of the agent over a given number of episodes."
   ]
  },
  {
   "cell_type": "code",
   "execution_count": 40,
   "metadata": {
    "collapsed": false
   },
   "outputs": [],
   "source": [
    "class Agent:\n",
    "    def __init__(self, state_dim, action_dim, learning_rate, epsilon_fn):\n",
    "        self.state_dim = state_dim\n",
    "        self.action_dim = action_dim\n",
    "        self.learning_rate = learning_rate\n",
    "        self.epsilon_fn = epsilon_fn\n",
    "        self.epsilon = 1\n",
    "        \n",
    "        # Create the neural network\n",
    "        self.state_var = input(state_dim, np.float32)\n",
    "        self.action_var = input(action_dim, np.float32)\n",
    "        \n",
    "        self.model = Sequential([\n",
    "            Dense(64, activation=relu),\n",
    "            Dense(action_dim)\n",
    "        ])(self.state_var)\n",
    "        \n",
    "        loss = reduce_mean(square(self.model - self.action_var), axis=0)\n",
    "        lr_schedule = learning_rate_schedule(self.learning_rate, UnitType.sample)\n",
    "        learner = sgd(self.model.parameters, lr_schedule)\n",
    "        self.trainer = Trainer(self.model, loss, learner)\n",
    "    \n",
    "    def predict(self, state):\n",
    "        \"\"\"\n",
    "        Feeds a state through our model to obtain the values of each action\n",
    "        \"\"\"\n",
    "        return self.model.eval(state)[0]\n",
    "    \n",
    "    def act(self, state):\n",
    "        \"\"\"\n",
    "        Selects an action using the epoch-greedy approach\n",
    "        \"\"\"\n",
    "        prob = np.random.randn(1)\n",
    "        if prob > self.epsilon:\n",
    "            # exploit (greedy)\n",
    "            return np.argmax(self.predict(state))\n",
    "        else:\n",
    "            # explore (random action)\n",
    "            return np.random.randint(0, self.action_dim)\n",
    "        \n",
    "    def update_epsilon(self, episode):\n",
    "        \"\"\"\n",
    "        Update the value of epsilon using the provided update function\n",
    "        \"\"\"\n",
    "        self.epsilon = self.epsilon_fn(episode)\n",
    "        \n",
    "    def train(self, x, y):\n",
    "        \"\"\"\n",
    "        Performs a single gradient descent step using the provided state and target\n",
    "        \"\"\"\n",
    "        self.trainer.train_minibatch({self.state_var: x, self.action_var: y})\n",
    "        \n",
    "    def evaluate(self, env, n):\n",
    "        \"\"\"\n",
    "        Computes the average performance of the trained model over n episodes\n",
    "        \"\"\"\n",
    "        episode = 0\n",
    "        rewards = 0\n",
    "        while episode < n:\n",
    "            s = env.reset()\n",
    "            done = False\n",
    "            while not done:\n",
    "                a = np.argmax(self.predict(s.astype(np.float32)))\n",
    "                s, r, done, info = env.step(a)\n",
    "                rewards += r\n",
    "            episode += 1\n",
    "            \n",
    "        return rewards / float(n)"
   ]
  },
  {
   "cell_type": "markdown",
   "metadata": {},
   "source": [
    "For each step of an episode, we select an action (using $\\epsilon$-greedy action selection) and then execute it yielding the next state and reward as well as a boolean indicating if the next state is terminal. We then calculate the expected return as the sum of the received reward plus the discounted future reward (0 if terminal). The current state serves as our input and the expected return serves as the label (truth value) for the neural network. Finally, I store the reward for each episode so we can monitor the progress."
   ]
  },
  {
   "cell_type": "code",
   "execution_count": 41,
   "metadata": {
    "collapsed": true
   },
   "outputs": [],
   "source": [
    "def train(env, agent, episodes, gamma):\n",
    "    \"\"\"\n",
    "    param env: The gym environment to train with\n",
    "    param agent: The agent to train\n",
    "    param episodes: The number of episodes to train for\n",
    "    param gamma: The discount factor\n",
    "    \"\"\"\n",
    "    episode = 0\n",
    "    rewards = 0\n",
    "    log_freq = 200\n",
    "    episode_rewards = []\n",
    "    s = env.reset().astype(np.float32)\n",
    "    \n",
    "    while episode < episodes:\n",
    "        # Select an action using policy derived from Q (e-greedy)\n",
    "        a = agent.act(s)\n",
    "        \n",
    "        # Take action and observe the next state and reward\n",
    "        s_, r, done, info = env.step(a)\n",
    "        s_ = s_.astype(np.float32)\n",
    "        \n",
    "        # Compute target, y_i\n",
    "        y = agent.predict(s)\n",
    "        if done:\n",
    "            y[a] = r\n",
    "        else:\n",
    "            y[a] = r + gamma * np.amax(agent.predict(s_))\n",
    "        \n",
    "        # Train using state and computed target\n",
    "        agent.train(s, y)\n",
    "        \n",
    "        s = s_\n",
    "        rewards += r\n",
    "        \n",
    "        if done:\n",
    "            # Episode over, reset environment\n",
    "            episode_rewards.append(rewards)\n",
    "            rewards = 0\n",
    "            \n",
    "            episode += 1\n",
    "            agent.update_epsilon(episode)\n",
    "            s = env.reset().astype(np.float32)\n",
    "            \n",
    "            if episode % log_freq == 0:\n",
    "                ave = sum(episode_rewards[(episode - log_freq):]) / float(log_freq)\n",
    "                print('Episode = {}, Average rewards = {}'.format(episode, ave))\n",
    "                \n",
    "    return episode_rewards\n",
    "            "
   ]
  },
  {
   "cell_type": "markdown",
   "metadata": {},
   "source": [
    "I have decided to train for 10k episodes using a discount factor of 0.60 - for all states before the terminal state, we receive a reward of 1, so I chose to factor later rewards less. For the constant $\\epsilon$ agent, I've chosen to use $\\epsilon = 0.1$ and for the other, $\\epsilon$ decays from a value of 1 to a minimum of 0.05 by the 8000th episode."
   ]
  },
  {
   "cell_type": "code",
   "execution_count": 42,
   "metadata": {
    "collapsed": true
   },
   "outputs": [],
   "source": [
    "# Fixed value epsilon\n",
    "def constant_epsilon(episode):\n",
    "    return 0.1"
   ]
  },
  {
   "cell_type": "code",
   "execution_count": 43,
   "metadata": {
    "collapsed": true
   },
   "outputs": [],
   "source": [
    "# epsilon starts with 1 and decays to a minimum of 0.05\n",
    "# decay factor was chosen such that the value of epsilon is 0.05 by episode 8000\n",
    "def decaying_epsilon(episode):\n",
    "    return max(math.exp(-3.74e-4 * episode), 0.05)"
   ]
  },
  {
   "cell_type": "code",
   "execution_count": 44,
   "metadata": {
    "collapsed": true
   },
   "outputs": [],
   "source": [
    "gamma = 0.60\n",
    "learning_rate = 0.00025\n",
    "episodes = 10000"
   ]
  },
  {
   "cell_type": "code",
   "execution_count": 45,
   "metadata": {
    "collapsed": false
   },
   "outputs": [
    {
     "name": "stderr",
     "output_type": "stream",
     "text": [
      "[2017-04-21 13:13:56,346] Making new env: CartPole-v0\n"
     ]
    }
   ],
   "source": [
    "env = gym.make('CartPole-v0')\n",
    "state_dim = env.observation_space.shape\n",
    "action_dim = env.action_space.n"
   ]
  },
  {
   "cell_type": "code",
   "execution_count": 46,
   "metadata": {
    "collapsed": false
   },
   "outputs": [
    {
     "name": "stdout",
     "output_type": "stream",
     "text": [
      "Episode = 200, Average rewards = 42.31\n",
      "Episode = 400, Average rewards = 18.215\n",
      "Episode = 600, Average rewards = 14.0\n",
      "Episode = 800, Average rewards = 14.665\n",
      "Episode = 1000, Average rewards = 14.875\n",
      "Episode = 1200, Average rewards = 14.17\n",
      "Episode = 1400, Average rewards = 14.715\n",
      "Episode = 1600, Average rewards = 15.635\n",
      "Episode = 1800, Average rewards = 15.285\n",
      "Episode = 2000, Average rewards = 18.925\n",
      "Episode = 2200, Average rewards = 38.125\n",
      "Episode = 2400, Average rewards = 28.425\n",
      "Episode = 2600, Average rewards = 19.205\n",
      "Episode = 2800, Average rewards = 17.465\n",
      "Episode = 3000, Average rewards = 17.445\n",
      "Episode = 3200, Average rewards = 26.23\n",
      "Episode = 3400, Average rewards = 31.22\n",
      "Episode = 3600, Average rewards = 35.81\n",
      "Episode = 3800, Average rewards = 32.67\n",
      "Episode = 4000, Average rewards = 35.815\n",
      "Episode = 4200, Average rewards = 35.175\n",
      "Episode = 4400, Average rewards = 40.88\n",
      "Episode = 4600, Average rewards = 43.035\n",
      "Episode = 4800, Average rewards = 45.36\n",
      "Episode = 5000, Average rewards = 44.0\n",
      "Episode = 5200, Average rewards = 43.14\n",
      "Episode = 5400, Average rewards = 43.39\n",
      "Episode = 5600, Average rewards = 41.355\n",
      "Episode = 5800, Average rewards = 40.68\n",
      "Episode = 6000, Average rewards = 43.565\n",
      "Episode = 6200, Average rewards = 44.045\n",
      "Episode = 6400, Average rewards = 41.91\n",
      "Episode = 6600, Average rewards = 41.95\n",
      "Episode = 6800, Average rewards = 43.385\n",
      "Episode = 7000, Average rewards = 43.105\n",
      "Episode = 7200, Average rewards = 47.84\n",
      "Episode = 7400, Average rewards = 47.65\n",
      "Episode = 7600, Average rewards = 44.435\n",
      "Episode = 7800, Average rewards = 45.465\n",
      "Episode = 8000, Average rewards = 46.43\n",
      "Episode = 8200, Average rewards = 47.95\n",
      "Episode = 8400, Average rewards = 53.285\n",
      "Episode = 8600, Average rewards = 49.785\n",
      "Episode = 8800, Average rewards = 46.46\n",
      "Episode = 9000, Average rewards = 47.79\n",
      "Episode = 9200, Average rewards = 51.4\n",
      "Episode = 9400, Average rewards = 51.675\n",
      "Episode = 9600, Average rewards = 52.295\n",
      "Episode = 9800, Average rewards = 51.01\n",
      "Episode = 10000, Average rewards = 51.94\n"
     ]
    }
   ],
   "source": [
    "agent1 = Agent(state_dim, action_dim, learning_rate, constant_epsilon)\n",
    "rewards1 = train(env, agent1, episodes, gamma)"
   ]
  },
  {
   "cell_type": "code",
   "execution_count": 47,
   "metadata": {
    "collapsed": false
   },
   "outputs": [
    {
     "name": "stdout",
     "output_type": "stream",
     "text": [
      "Episode = 200, Average rewards = 19.58\n",
      "Episode = 400, Average rewards = 18.885\n",
      "Episode = 600, Average rewards = 20.27\n",
      "Episode = 800, Average rewards = 19.32\n",
      "Episode = 1000, Average rewards = 19.58\n",
      "Episode = 1200, Average rewards = 18.38\n",
      "Episode = 1400, Average rewards = 17.91\n",
      "Episode = 1600, Average rewards = 19.915\n",
      "Episode = 1800, Average rewards = 20.0\n",
      "Episode = 2000, Average rewards = 23.675\n",
      "Episode = 2200, Average rewards = 25.63\n",
      "Episode = 2400, Average rewards = 25.895\n",
      "Episode = 2600, Average rewards = 27.605\n",
      "Episode = 2800, Average rewards = 27.065\n",
      "Episode = 3000, Average rewards = 28.775\n",
      "Episode = 3200, Average rewards = 29.995\n",
      "Episode = 3400, Average rewards = 30.555\n",
      "Episode = 3600, Average rewards = 32.385\n",
      "Episode = 3800, Average rewards = 36.515\n",
      "Episode = 4000, Average rewards = 33.98\n",
      "Episode = 4200, Average rewards = 34.515\n",
      "Episode = 4400, Average rewards = 41.065\n",
      "Episode = 4600, Average rewards = 40.375\n",
      "Episode = 4800, Average rewards = 43.11\n",
      "Episode = 5000, Average rewards = 45.855\n",
      "Episode = 5200, Average rewards = 44.115\n",
      "Episode = 5400, Average rewards = 46.925\n",
      "Episode = 5600, Average rewards = 46.985\n",
      "Episode = 5800, Average rewards = 45.095\n",
      "Episode = 6000, Average rewards = 44.455\n",
      "Episode = 6200, Average rewards = 46.745\n",
      "Episode = 6400, Average rewards = 44.86\n",
      "Episode = 6600, Average rewards = 50.47\n",
      "Episode = 6800, Average rewards = 49.085\n",
      "Episode = 7000, Average rewards = 49.47\n",
      "Episode = 7200, Average rewards = 51.765\n",
      "Episode = 7400, Average rewards = 53.495\n",
      "Episode = 7600, Average rewards = 54.735\n",
      "Episode = 7800, Average rewards = 54.15\n",
      "Episode = 8000, Average rewards = 55.555\n",
      "Episode = 8200, Average rewards = 57.12\n",
      "Episode = 8400, Average rewards = 55.065\n",
      "Episode = 8600, Average rewards = 59.345\n",
      "Episode = 8800, Average rewards = 58.985\n",
      "Episode = 9000, Average rewards = 57.92\n",
      "Episode = 9200, Average rewards = 57.075\n",
      "Episode = 9400, Average rewards = 60.745\n",
      "Episode = 9600, Average rewards = 62.94\n",
      "Episode = 9800, Average rewards = 64.88\n",
      "Episode = 10000, Average rewards = 63.515\n"
     ]
    }
   ],
   "source": [
    "agent2 = Agent(state_dim, action_dim, learning_rate, decaying_epsilon)\n",
    "rewards2 = train(env, agent2, episodes, gamma)"
   ]
  },
  {
   "cell_type": "markdown",
   "metadata": {},
   "source": [
    "For visual comparison of learning with time, I have plotted the moving averages of the received rewards below:"
   ]
  },
  {
   "cell_type": "code",
   "execution_count": 52,
   "metadata": {
    "collapsed": false
   },
   "outputs": [
    {
     "data": {
      "image/png": "[encoded data removed]",
      "text/plain": [
       "<matplotlib.figure.Figure at 0x7f431816d630>"
      ]
     },
     "metadata": {},
     "output_type": "display_data"
    }
   ],
   "source": [
    "pd.Series(rewards1).rolling(window=100).mean().plot(label='constant \\u03b5')\n",
    "pd.Series(rewards2).rolling(window=100).mean().plot(label='decaying \\u03b5')\n",
    "plt.legend()\n",
    "plt.show()"
   ]
  },
  {
   "cell_type": "markdown",
   "metadata": {},
   "source": [
    "Here, I evaluate the performance of the trained agents over 100 episodes:"
   ]
  },
  {
   "cell_type": "code",
   "execution_count": 49,
   "metadata": {
    "collapsed": false
   },
   "outputs": [
    {
     "name": "stdout",
     "output_type": "stream",
     "text": [
      "Average (with constant ε) = 87.41\n",
      "Average (with decaying ε) = 138.36\n"
     ]
    }
   ],
   "source": [
    "eval_episodes = 100\n",
    "ave_constant = agent1.evaluate(env, eval_episodes)\n",
    "ave_decaying = agent2.evaluate(env, eval_episodes)\n",
    "\n",
    "print('Average (with constant \\u03b5) = {}'.format(ave_constant))\n",
    "print('Average (with decaying \\u03b5) = {}'.format(ave_decaying))"
   ]
  },
  {
   "cell_type": "markdown",
   "metadata": {},
   "source": [
    "## Conclusion\n",
    "From the plot of average reward for each model during training, we can see that learning is better with a decaying $\\epsilon$ as opposed to a constant small epsilon. The results of evaluation over 100 episodes also supports this point. In practice, epsilon is usually annealed to a small value to simulate how we learn - a lot of exploration at the start but less and less as our knowledge improves.\n",
    "\n",
    "Here I run and render an episode using the better model:"
   ]
  },
  {
   "cell_type": "code",
   "execution_count": 50,
   "metadata": {
    "collapsed": true
   },
   "outputs": [],
   "source": [
    "s = env.reset()\n",
    "done = False\n",
    "while not done:\n",
    "    env.render()\n",
    "    a = np.argmax(agent2.predict(s.astype(np.float32)))\n",
    "    s, r, done, info = env.step(a)\n",
    "    \n",
    "env.close()"
   ]
  },
  {
   "cell_type": "markdown",
   "metadata": {},
   "source": [
    "Obviously there is still room for improvement. You can play around with the number of layers in the network (as well as the number of neurons in each layer), a different min value for epsilon (in the exponentially decaying version), a different learner (as opposed to stochastic gradient descent), different learning rate, gamma, train for longer and so on...\n",
    "\n",
    "## References\n",
    "1. Richard S. Sutton, Andrew G. Barto (1998). Reinforcement Learning: An Introduction. MIT Press."
   ]
  }
 ],
 "metadata": {
  "kernelspec": {
   "display_name": "Python 3",
   "language": "python",
   "name": "python3"
  },
  "language_info": {
   "codemirror_mode": {
    "name": "ipython",
    "version": 3
   },
   "file_extension": ".py",
   "mimetype": "text/x-python",
   "name": "python",
   "nbconvert_exporter": "python",
   "pygments_lexer": "ipython3",
   "version": "3.5.2"
  }
 },
 "nbformat": 4,
 "nbformat_minor": 2
}
