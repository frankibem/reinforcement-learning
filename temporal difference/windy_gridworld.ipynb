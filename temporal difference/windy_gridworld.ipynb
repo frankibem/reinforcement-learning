{
 "cells": [
  {
   "cell_type": "markdown",
   "metadata": {},
   "source": [
    "## The Windy Gridworld Problem\n",
    "This is a standard grid-world with one difference: a upward crosswind through the middle of the grid. In each state, you can take one of four actions {left, up, right, down} and that takes you to the corresponding cell (actions which would take you off the grid leave the state unchanged). In the middle region, the resultant states are shifted upward by a wind, the strength of which varies from column to column. The strength is indicated below the column. e.g. if you are one cell to the right of the goal, the action **left** takes you to the cell just above the goal. We will treat this as an undiscounted episodic task with rewards of -1 until the goal state is reached.\n",
    "\n",
    "The code below uses Sarsas to learn the action-values with $\\epsilon$ = 0.1, $\\alpha$ = 0.5 and initial values of $Q(s,a) = 0$ for all s, a"
   ]
  },
  {
   "cell_type": "code",
   "execution_count": 1,
   "metadata": {
    "collapsed": true,
    "deletable": true,
    "editable": true
   },
   "outputs": [],
   "source": [
    "import numpy as np\n",
    "import matplotlib.pyplot as plt\n",
    "import matplotlib.image as mpimg\n",
    "%matplotlib inline"
   ]
  },
  {
   "cell_type": "code",
   "execution_count": 2,
   "metadata": {
    "collapsed": false
   },
   "outputs": [
    {
     "data": {
      "text/plain": [
       "<matplotlib.image.AxesImage at 0x7f5f6917bc18>"
      ]
     },
     "execution_count": 2,
     "metadata": {},
     "output_type": "execute_result"
    },
    {
     "data": {
      "image/png": "[encoded data removed]",
      "text/plain": [
       "<matplotlib.figure.Figure at 0x7f5f6917bc50>"
      ]
     },
     "metadata": {},
     "output_type": "display_data"
    }
   ],
   "source": [
    "img = mpimg.imread('windy gridworld.png')\n",
    "plt.axis('off')\n",
    "plt.imshow(img)"
   ]
  },
  {
   "cell_type": "code",
   "execution_count": 3,
   "metadata": {
    "collapsed": true,
    "deletable": true,
    "editable": true
   },
   "outputs": [],
   "source": [
    "LEFT = 0\n",
    "UP = 1\n",
    "RIGHT = 2\n",
    "DOWN = 3\n",
    "\n",
    "# Coordinates in (row, column) format\n",
    "INITIAL_STATE = [3, 0]\n",
    "FINAL_STATE = [3, 7]\n",
    "\n",
    "WIDTH = 10\n",
    "HEIGHT = 7\n",
    "ACTION_COUNT = 4"
   ]
  },
  {
   "cell_type": "code",
   "execution_count": 4,
   "metadata": {
    "collapsed": false,
    "deletable": true,
    "editable": true
   },
   "outputs": [],
   "source": [
    "class WindyGridworld:\n",
    "    up_draft = {0:0, 1:0, 2:0, 3:1, 4:1, 5:1, 6:2, 7:2, 8:1, 9:0}\n",
    "    pos = []\n",
    "    \n",
    "    def __init__(self):        \n",
    "        self.reset()\n",
    "        \n",
    "    \n",
    "    def step(self, action):\n",
    "        \"\"\"\n",
    "        Takes the given action and returns a tuple (next_state, reward, done)\n",
    "        \"\"\"\n",
    "        reward = 0\n",
    "        done = self.is_final()\n",
    "        \n",
    "        if not done:   \n",
    "            # Negative reward for all other transitions\n",
    "            reward = -1\n",
    "            displacement = self.up_draft[self.pos[1]]\n",
    "            \n",
    "            if action == LEFT:\n",
    "                self.pos[1] = 0 if self.pos[1] == 0 else self.pos[1] - 1\n",
    "            elif action == RIGHT:\n",
    "                self.pos[1] = self.pos[1] if self.pos[1] == (WIDTH - 1) else self.pos[1] + 1\n",
    "            elif action == UP:\n",
    "                self.pos[0] = 0 if self.pos[0] == 0 else self.pos[0] - 1\n",
    "            elif action == DOWN:\n",
    "                self.pos[0] = self.pos[0] if self.pos[0] == (HEIGHT - 1) else self.pos[0] + 1      \n",
    "                \n",
    "            # Apply upward translation due to wind\n",
    "            new_y = self.pos[0] - displacement\n",
    "            self.pos[0] = 0 if new_y < 0 else new_y\n",
    "        \n",
    "        return np.copy(self.pos), reward, self.is_final()\n",
    "    \n",
    "    def reset(self):\n",
    "        self.pos = [x for x in INITIAL_STATE]\n",
    "        return np.copy(self.pos)\n",
    "        \n",
    "    def is_final(self):\n",
    "        return self.pos[0] == FINAL_STATE[0] and self.pos[1] == FINAL_STATE[1]\n",
    "    "
   ]
  },
  {
   "cell_type": "code",
   "execution_count": 5,
   "metadata": {
    "collapsed": true,
    "deletable": true,
    "editable": true
   },
   "outputs": [],
   "source": [
    "def epoch_greedy(Q, state):\n",
    "    qa = Q[state[0], state[1]]\n",
    "    prob = np.random.rand(1)\n",
    "    if prob > epsilon:\n",
    "        # exploit (greedy)\n",
    "        action_index = np.random.choice(np.flatnonzero(qa == qa.max()))\n",
    "    else:\n",
    "        # explore (random action)\n",
    "        action_index = np.random.randint(0, ACTION_COUNT)\n",
    "    \n",
    "    return action_index"
   ]
  },
  {
   "cell_type": "code",
   "execution_count": 6,
   "metadata": {
    "collapsed": false,
    "deletable": true,
    "editable": true
   },
   "outputs": [],
   "source": [
    "# Same initialization as in text\n",
    "gamma = 1 # no discount\n",
    "epsilon = 0.1\n",
    "alpha = 0.5\n",
    "Q = np.zeros((HEIGHT, WIDTH, ACTION_COUNT))\n",
    "steps = 8000\n",
    "\n",
    "env = WindyGridworld()\n",
    "step = 0\n",
    "episodes = 0\n",
    "s = env.reset()\n",
    "x, y = [], [] # For plotting\n",
    "\n",
    "while step < steps:    \n",
    "    # Select action using policy derived from Q (e-greedy)\n",
    "    a = epoch_greedy(Q, s)\n",
    "        \n",
    "    # Take action and observe next state and reward\n",
    "    s_, r, done = env.step(a)\n",
    "    \n",
    "    # Choose A' from S' using policy derived from Q (e-greedy)\n",
    "    a_ = epoch_greedy(Q, s_)\n",
    "    \n",
    "    # Update\n",
    "    if done:\n",
    "        Q[s[0], s[1], a] = Q[s[0], s[1], a] + alpha * (r - Q[s[0], s[1], a])\n",
    "    else:\n",
    "        Q[s[0], s[1], a] = Q[s[0], s[1], a] + alpha * (r + gamma * Q[s_[0], s_[1], a_] - Q[s[0], s[1], a])\n",
    "    \n",
    "    s = s_\n",
    "    step += 1\n",
    "    \n",
    "    if step % 100 == 0:\n",
    "        x.append(step)\n",
    "        y.append(episodes)\n",
    "    \n",
    "    # Episode over, reset environment\n",
    "    if done:\n",
    "        s = env.reset()\n",
    "        episodes += 1"
   ]
  },
  {
   "cell_type": "code",
   "execution_count": 7,
   "metadata": {
    "collapsed": false,
    "deletable": true,
    "editable": true,
    "scrolled": true
   },
   "outputs": [
    {
     "data": {
      "image/png": "[encoded data removed]",
      "text/plain": [
       "<matplotlib.figure.Figure at 0x7f5f66da9128>"
      ]
     },
     "metadata": {},
     "output_type": "display_data"
    }
   ],
   "source": [
    "plt.plot(x, y)\n",
    "plt.xlabel('Time steps')\n",
    "plt.ylabel('Episodes')\n",
    "plt.show()"
   ]
  },
  {
   "cell_type": "markdown",
   "metadata": {},
   "source": [
    "As the results indicate, with more experience, the agent is able to solve the task faster (the slope is episodes/steps and a larger slope means better performance). The diagram at the top indicates the optimal trajectory which solves the problem in 15 steps.\n",
    "\n",
    "## References\n",
    "1. Richard S. Sutton, Andrew G. Barto (1998). Reinforcement Learning: An Introduction. MIT Press."
   ]
  },
  {
   "cell_type": "code",
   "execution_count": null,
   "metadata": {
    "collapsed": true
   },
   "outputs": [],
   "source": []
  }
 ],
 "metadata": {
  "kernelspec": {
   "display_name": "Python 3",
   "language": "python",
   "name": "python3"
  },
  "language_info": {
   "codemirror_mode": {
    "name": "ipython",
    "version": 3
   },
   "file_extension": ".py",
   "mimetype": "text/x-python",
   "name": "python",
   "nbconvert_exporter": "python",
   "pygments_lexer": "ipython3",
   "version": "3.5.2"
  }
 },
 "nbformat": 4,
 "nbformat_minor": 2
}
