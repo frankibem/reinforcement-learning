{
 "cells": [
  {
   "cell_type": "code",
   "execution_count": 1,
   "metadata": {
    "collapsed": true,
    "deletable": true,
    "editable": true
   },
   "outputs": [],
   "source": [
    "import numpy as np\n",
    "import matplotlib.pyplot as plt"
   ]
  },
  {
   "cell_type": "code",
   "execution_count": 2,
   "metadata": {
    "collapsed": true,
    "deletable": true,
    "editable": true
   },
   "outputs": [],
   "source": [
    "LEFT = 0\n",
    "UP = 1\n",
    "RIGHT = 2\n",
    "DOWN = 3\n",
    "\n",
    "# Coordinates in (row, column) format\n",
    "INITIAL_STATE = [3, 0]\n",
    "FINAL_STATE = [3, 7]\n",
    "\n",
    "WIDTH = 10\n",
    "HEIGHT = 7\n",
    "ACTION_COUNT = 4"
   ]
  },
  {
   "cell_type": "code",
   "execution_count": 3,
   "metadata": {
    "collapsed": false,
    "deletable": true,
    "editable": true
   },
   "outputs": [],
   "source": [
    "class WindyGridworld:\n",
    "    up_draft = {0:0, 1:0, 2:0, 3:1, 4:1, 5:1, 6:2, 7:2, 8:1, 9:0}\n",
    "    pos = []\n",
    "    \n",
    "    def __init__(self):        \n",
    "        self.reset()\n",
    "        \n",
    "    \n",
    "    def step(self, action):\n",
    "        \"\"\"\n",
    "        Takes the given action and returns a tuple (next_state, reward, done)\n",
    "        \"\"\"\n",
    "        reward = 0\n",
    "        done = self.is_final()\n",
    "        \n",
    "        if not done:   \n",
    "            # Negative reward for all other transitions\n",
    "            reward = -1\n",
    "            displacement = self.up_draft[self.pos[1]]\n",
    "            \n",
    "            if action == LEFT:\n",
    "                self.pos[1] = 0 if self.pos[1] == 0 else self.pos[1] - 1\n",
    "            elif action == RIGHT:\n",
    "                self.pos[1] = self.pos[1] if self.pos[1] == (WIDTH - 1) else self.pos[1] + 1\n",
    "            elif action == UP:\n",
    "                self.pos[0] = 0 if self.pos[0] == 0 else self.pos[0] - 1\n",
    "            elif action == DOWN:\n",
    "                self.pos[0] = self.pos[0] if self.pos[0] == (HEIGHT - 1) else self.pos[0] + 1      \n",
    "                \n",
    "            # Apply upward translation due to wind\n",
    "            new_y = self.pos[0] - displacement\n",
    "            self.pos[0] = 0 if new_y < 0 else new_y\n",
    "        \n",
    "        return np.copy(self.pos), reward, self.is_final()\n",
    "    \n",
    "    def reset(self):\n",
    "        self.pos = [x for x in INITIAL_STATE]\n",
    "        return np.copy(self.pos)\n",
    "        \n",
    "    def is_final(self):\n",
    "        return self.pos[0] == FINAL_STATE[0] and self.pos[1] == FINAL_STATE[1]\n",
    "    "
   ]
  },
  {
   "cell_type": "code",
   "execution_count": 4,
   "metadata": {
    "collapsed": true,
    "deletable": true,
    "editable": true
   },
   "outputs": [],
   "source": [
    "def epoch_greedy(Q, state):\n",
    "    qa = Q[state[0], state[1]]\n",
    "    prob = np.random.rand(1)\n",
    "    if prob > epsilon:\n",
    "        # exploit (greedy)\n",
    "        action_index = np.random.choice(np.flatnonzero(qa == qa.max()))\n",
    "    else:\n",
    "        # explore (random action)\n",
    "        action_index = np.random.randint(0, ACTION_COUNT)\n",
    "    \n",
    "    return action_index"
   ]
  },
  {
   "cell_type": "code",
   "execution_count": 5,
   "metadata": {
    "collapsed": false,
    "deletable": true,
    "editable": true
   },
   "outputs": [],
   "source": [
    "# Same initialization as in text\n",
    "gamma = 1 # no discount\n",
    "epsilon = 0.1\n",
    "alpha = 0.5\n",
    "Q = np.zeros((HEIGHT, WIDTH, ACTION_COUNT))\n",
    "steps = 8000\n",
    "\n",
    "env = WindyGridworld()\n",
    "step = 0\n",
    "episodes = 0\n",
    "s = env.reset()\n",
    "x, y = [], [] # For plotting\n",
    "\n",
    "while step < steps:    \n",
    "    # Select action using policy derived from Q (e-greedy)\n",
    "    a = epoch_greedy(Q, s)\n",
    "        \n",
    "    # Take action and observe next state and reward\n",
    "    s_, r, done = env.step(a)\n",
    "    \n",
    "    # Choose A' from S' using policy derived from Q (e-greedy)\n",
    "    a_ = epoch_greedy(Q, s_)\n",
    "    \n",
    "    # Update\n",
    "    if done:\n",
    "        Q[s[0], s[1], a] = Q[s[0], s[1], a] + alpha * (r - Q[s[0], s[1], a])\n",
    "    else:\n",
    "        Q[s[0], s[1], a] = Q[s[0], s[1], a] + alpha * (r + gamma * Q[s_[0], s_[1], a_] - Q[s[0], s[1], a])\n",
    "    \n",
    "    s = s_\n",
    "    step += 1\n",
    "    \n",
    "    if step % 100 == 0:\n",
    "        x.append(step)\n",
    "        y.append(episodes)\n",
    "    \n",
    "    # Episode over, reset environment\n",
    "    if done:\n",
    "        s = env.reset()\n",
    "        episodes += 1"
   ]
  },
  {
   "cell_type": "code",
   "execution_count": 6,
   "metadata": {
    "collapsed": false,
    "deletable": true,
    "editable": true,
    "scrolled": true
   },
   "outputs": [
    {
     "data": {
      "image/png": "[encoded data removed]",
      "text/plain": [
       "<matplotlib.figure.Figure at 0x7f12438d24a8>"
      ]
     },
     "metadata": {},
     "output_type": "display_data"
    }
   ],
   "source": [
    "plt.plot(x, y)\n",
    "plt.xlabel('Time steps')\n",
    "plt.ylabel('Episodes')\n",
    "plt.show()"
   ]
  }
 ],
 "metadata": {
  "kernelspec": {
   "display_name": "Python 3",
   "language": "python",
   "name": "python3"
  },
  "language_info": {
   "codemirror_mode": {
    "name": "ipython",
    "version": 3
   },
   "file_extension": ".py",
   "mimetype": "text/x-python",
   "name": "python",
   "nbconvert_exporter": "python",
   "pygments_lexer": "ipython3",
   "version": "3.5.2"
  }
 },
 "nbformat": 4,
 "nbformat_minor": 2
}
