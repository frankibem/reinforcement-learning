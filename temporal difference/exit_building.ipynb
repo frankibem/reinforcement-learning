{
 "cells": [
  {
   "cell_type": "markdown",
   "metadata": {
    "deletable": true,
    "editable": true
   },
   "source": [
    "## The Exit Building Problem\n",
    "In this problem, there are 6 rooms and our agent starts out in a random room. The doors between rooms can be bidirectional or directional. All transitions between rooms give 0 reward except transitions to room 5 (terminal state) which gives a reward of 100. The objective is to learn a sequence of steps to take us to the exit (room 5). Naturally, the problem can be modelled using a directed graph as shown below. We apply Q-learning to learn action-values and solve the problem."
   ]
  },
  {
   "cell_type": "code",
   "execution_count": 1,
   "metadata": {
    "collapsed": true,
    "deletable": true,
    "editable": true
   },
   "outputs": [],
   "source": [
    "import matplotlib.pyplot as plt\n",
    "import matplotlib.image as mpimg\n",
    "import numpy as np\n",
    "%matplotlib inline"
   ]
  },
  {
   "cell_type": "code",
   "execution_count": 2,
   "metadata": {
    "collapsed": false,
    "deletable": true,
    "editable": true
   },
   "outputs": [
    {
     "data": {
      "text/plain": [
       "<matplotlib.image.AxesImage at 0x7fc38b3fec18>"
      ]
     },
     "execution_count": 2,
     "metadata": {},
     "output_type": "execute_result"
    },
    {
     "data": {
      "image/png": "[encoded data removed]",
      "text/plain": [
       "<matplotlib.figure.Figure at 0x7fc38b3fec50>"
      ]
     },
     "metadata": {},
     "output_type": "display_data"
    }
   ],
   "source": [
    "img = mpimg.imread('exit_building.png');\n",
    "plt.axis('off')\n",
    "plt.imshow(img)"
   ]
  },
  {
   "cell_type": "code",
   "execution_count": 3,
   "metadata": {
    "collapsed": true,
    "deletable": true,
    "editable": true
   },
   "outputs": [],
   "source": [
    "class BuildingEnv:\n",
    "    def __init__(self):\n",
    "        self.nS = 6  # no. of states\n",
    "        self.nA = 6  # no. of actions\n",
    "        \n",
    "        # A[s] is a list of actions that can be taken from state s\n",
    "        A = {}\n",
    "        A[0] = [4]\n",
    "        A[1] = [3, 5]\n",
    "        A[2] = [3]\n",
    "        A[3] = [1, 4]\n",
    "        A[4] = [0, 3, 5]\n",
    "        A[5] = [5]\n",
    "        self.A = A\n",
    "        \n",
    "        # Holds all possible transitions for states in the environment\n",
    "        # T[s][a] is a (s', r, done) tuple\n",
    "        # You will receive reward r and transition to state s' if you take\n",
    "        # action a while currently in state s. Done is true if you have\n",
    "        # reached the exit        \n",
    "        T = {}\n",
    "        exit = self.nS - 1\n",
    "        for s in range(self.nS):\n",
    "            T[s] = {}\n",
    "            for a in A[s]:\n",
    "                reward = 100 if a == exit else 0\n",
    "                done = True if a == exit else False\n",
    "                T[s][a] = ((a, reward, done))\n",
    "        self.T = T\n",
    "\n",
    "        \n",
    "    # Resets the environment and returns the initial state\n",
    "    def reset(self):\n",
    "        # s is the current state\n",
    "        self.s = np.random.choice(self.nS, 1)[0]\n",
    "        return self.s\n",
    "        \n",
    "    # Executes the given action in the current state and returns\n",
    "    # (s', r, done) which means you will receive reward r and transition to\n",
    "    # state s' if you execute action in the current state, s. Done is true if\n",
    "    # you have reached the exit\n",
    "    def step(self, action):\n",
    "        if not action in self.A[self.s]:\n",
    "            raise ValueError('Cannot execute action %d in state %d' % (action, self.s))\n",
    "        \n",
    "        # Update the state based on the action taken\n",
    "        obs = self.T[self.s][action]\n",
    "        self.s = obs[0]\n",
    "        \n",
    "        return obs"
   ]
  },
  {
   "cell_type": "code",
   "execution_count": 4,
   "metadata": {
    "collapsed": true,
    "deletable": true,
    "editable": true
   },
   "outputs": [],
   "source": [
    "def q_learning(env, discount_factor = 1, num_episodes=100):\n",
    "    '''\n",
    "    Evaluates a policy given an environment. Assumes equiprobable selection of actions\n",
    "    Args:\n",
    "        env: Represents the dynamics of the environment\n",
    "        discount_factor: smaller values favor instantaneous reward, larger values are far-sighted\n",
    "        num_episodes: the maximum number of episodes to run\n",
    "        all (s,a) pairs.\n",
    "    '''\n",
    "    Q = np.zeros((env.nS, env.nA))\n",
    "    \n",
    "    for episode in range(num_episodes):\n",
    "        s = env.reset()\n",
    "        done = False\n",
    "        while not done:\n",
    "            # Select random action from set of all actions that can be taken from this state\n",
    "            a = np.random.choice(env.A[s])\n",
    "            \n",
    "            # Execute the action and receive next state and reward\n",
    "            s_, r, done = env.step(a)\n",
    "            \n",
    "            # Update Q(s,a) based on possible actions that can be taken from next state\n",
    "            action_values = [Q[s_,a_] for a_ in env.A[s_]]\n",
    "            Q[s,a] = r + discount_factor * np.max(action_values)\n",
    "                \n",
    "            # Go to next state\n",
    "            s = s_\n",
    "        \n",
    "    return Q"
   ]
  },
  {
   "cell_type": "code",
   "execution_count": 5,
   "metadata": {
    "collapsed": false,
    "deletable": true,
    "editable": true
   },
   "outputs": [
    {
     "name": "stdout",
     "output_type": "stream",
     "text": [
      "[[   0.    0.    0.    0.  100.    0.]\n",
      " [   0.    0.    0.   50.    0.  200.]\n",
      " [   0.    0.    0.   50.    0.    0.]\n",
      " [   0.  100.    0.    0.  100.    0.]\n",
      " [  50.    0.    0.   50.    0.  200.]\n",
      " [   0.    0.    0.    0.    0.  200.]]\n"
     ]
    }
   ],
   "source": [
    "env = BuildingEnv()\n",
    "Q = q_learning(env, discount_factor=0.5, num_episodes=500)\n",
    "print(Q)"
   ]
  },
  {
   "cell_type": "markdown",
   "metadata": {
    "deletable": true,
    "editable": true
   },
   "source": [
    "Since we use a random policy to learn the action-values, we run the environment several times to ensure that most transitions are executed. The task is also episodic (eventually ends, as opposed to continuous) and I have used a discount factor of 0.5. You can experiment with different values.\n",
    "\n",
    "The results are what we expect. The best (and only) move to take from 0 is to go to 4. The best move from 1 is to go directly to 5 (notice how we can also go to 3, but that has less value). From 3, going to 1 or 4 has equal value (so we could pick randomly) and so on. \n",
    "\n",
    "Here is an example run to see how an agent can make decisions using these action-values:"
   ]
  },
  {
   "cell_type": "code",
   "execution_count": 12,
   "metadata": {
    "collapsed": false,
    "deletable": true,
    "editable": true
   },
   "outputs": [
    {
     "name": "stdout",
     "output_type": "stream",
     "text": [
      "2 -> 3 -> 1 -> 5\n"
     ]
    }
   ],
   "source": [
    "s = env.reset()\n",
    "states = []\n",
    "done = False\n",
    "while not done:\n",
    "    states.append(s)\n",
    "    action = np.argmax(Q[s])\n",
    "    s_, r, done = env.step(action)\n",
    "        \n",
    "    s = s_\n",
    "states.append(s)\n",
    "print(\" -> \".join([str(s) for s in states]))"
   ]
  },
  {
   "cell_type": "markdown",
   "metadata": {
    "deletable": true,
    "editable": true
   },
   "source": [
    "Although we learned the values of actions, we can also use Q-learning to learn the values of states. At each step, we would then select action that takes us to the state with the highest value. The GridWorld problem in Example 4.1 of [1] can be modeled and solved in a similar fashion.\n",
    "\n",
    "## References\n",
    "1. Richard S. Sutton, Andrew G. Barto (1998). Reinforcement Learning: An Introduction. MIT Press."
   ]
  }
 ],
 "metadata": {
  "kernelspec": {
   "display_name": "Python 3",
   "language": "python",
   "name": "python3"
  },
  "language_info": {
   "codemirror_mode": {
    "name": "ipython",
    "version": 3
   },
   "file_extension": ".py",
   "mimetype": "text/x-python",
   "name": "python",
   "nbconvert_exporter": "python",
   "pygments_lexer": "ipython3",
   "version": "3.5.2"
  }
 },
 "nbformat": 4,
 "nbformat_minor": 2
}
